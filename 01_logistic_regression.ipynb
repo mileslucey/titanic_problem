{
 "cells": [
  {
   "cell_type": "markdown",
   "metadata": {},
   "source": [
    "# 1. Importing Data and Python Packages"
   ]
  },
  {
   "cell_type": "code",
   "execution_count": 100,
   "metadata": {},
   "outputs": [],
   "source": [
    "# Dependencies and setup\n",
    "import numpy as np\n",
    "import matplotlib.pyplot as plt\n",
    "import pandas as pd\n",
    "import seaborn as sns\n",
    "import numpy as np\n",
    "from scipy import stats\n",
    "import matplotlib.gridspec as gridspec\n",
    "from sklearn.preprocessing import LabelEncoder, OneHotEncoder, StandardScaler\n",
    "from sklearn.model_selection import train_test_split\n",
    "from sklearn.model_selection import StratifiedShuffleSplit\n",
    "from sklearn.linear_model import LogisticRegression\n",
    "from sklearn.metrics import classification_report, confusion_matrix, precision_score, recall_score, f1_score\n",
    "from sklearn.compose import ColumnTransformer\n",
    "from sklearn import tree\n",
    "from sklearn.ensemble import RandomForestClassifier\n",
    "import statsmodels.api as sm\n",
    "import os\n",
    "%matplotlib inline"
   ]
  },
  {
   "cell_type": "code",
   "execution_count": 2,
   "metadata": {},
   "outputs": [],
   "source": [
    "# Set maximum rows to a high number\n",
    "pd.set_option('display.max_rows', 100)"
   ]
  },
  {
   "cell_type": "code",
   "execution_count": 3,
   "metadata": {},
   "outputs": [],
   "source": [
    "# Load datasets\n",
    "training_data = pd.read_csv(\"01-raw_data/train.csv\",index_col=0)\n",
    "testing_data = pd.read_csv(\"01-raw_data/test.csv\",index_col=0)"
   ]
  },
  {
   "cell_type": "code",
   "execution_count": 4,
   "metadata": {},
   "outputs": [
    {
     "data": {
      "text/html": [
       "<div>\n",
       "<style scoped>\n",
       "    .dataframe tbody tr th:only-of-type {\n",
       "        vertical-align: middle;\n",
       "    }\n",
       "\n",
       "    .dataframe tbody tr th {\n",
       "        vertical-align: top;\n",
       "    }\n",
       "\n",
       "    .dataframe thead th {\n",
       "        text-align: right;\n",
       "    }\n",
       "</style>\n",
       "<table border=\"1\" class=\"dataframe\">\n",
       "  <thead>\n",
       "    <tr style=\"text-align: right;\">\n",
       "      <th></th>\n",
       "      <th>Survived</th>\n",
       "      <th>Pclass</th>\n",
       "      <th>Name</th>\n",
       "      <th>Sex</th>\n",
       "      <th>Age</th>\n",
       "      <th>SibSp</th>\n",
       "      <th>Parch</th>\n",
       "      <th>Ticket</th>\n",
       "      <th>Fare</th>\n",
       "      <th>Cabin</th>\n",
       "      <th>Embarked</th>\n",
       "    </tr>\n",
       "    <tr>\n",
       "      <th>PassengerId</th>\n",
       "      <th></th>\n",
       "      <th></th>\n",
       "      <th></th>\n",
       "      <th></th>\n",
       "      <th></th>\n",
       "      <th></th>\n",
       "      <th></th>\n",
       "      <th></th>\n",
       "      <th></th>\n",
       "      <th></th>\n",
       "      <th></th>\n",
       "    </tr>\n",
       "  </thead>\n",
       "  <tbody>\n",
       "    <tr>\n",
       "      <th>1</th>\n",
       "      <td>0</td>\n",
       "      <td>3</td>\n",
       "      <td>Braund, Mr. Owen Harris</td>\n",
       "      <td>male</td>\n",
       "      <td>22.0</td>\n",
       "      <td>1</td>\n",
       "      <td>0</td>\n",
       "      <td>A/5 21171</td>\n",
       "      <td>7.2500</td>\n",
       "      <td>NaN</td>\n",
       "      <td>S</td>\n",
       "    </tr>\n",
       "    <tr>\n",
       "      <th>2</th>\n",
       "      <td>1</td>\n",
       "      <td>1</td>\n",
       "      <td>Cumings, Mrs. John Bradley (Florence Briggs Th...</td>\n",
       "      <td>female</td>\n",
       "      <td>38.0</td>\n",
       "      <td>1</td>\n",
       "      <td>0</td>\n",
       "      <td>PC 17599</td>\n",
       "      <td>71.2833</td>\n",
       "      <td>C85</td>\n",
       "      <td>C</td>\n",
       "    </tr>\n",
       "    <tr>\n",
       "      <th>3</th>\n",
       "      <td>1</td>\n",
       "      <td>3</td>\n",
       "      <td>Heikkinen, Miss. Laina</td>\n",
       "      <td>female</td>\n",
       "      <td>26.0</td>\n",
       "      <td>0</td>\n",
       "      <td>0</td>\n",
       "      <td>STON/O2. 3101282</td>\n",
       "      <td>7.9250</td>\n",
       "      <td>NaN</td>\n",
       "      <td>S</td>\n",
       "    </tr>\n",
       "    <tr>\n",
       "      <th>4</th>\n",
       "      <td>1</td>\n",
       "      <td>1</td>\n",
       "      <td>Futrelle, Mrs. Jacques Heath (Lily May Peel)</td>\n",
       "      <td>female</td>\n",
       "      <td>35.0</td>\n",
       "      <td>1</td>\n",
       "      <td>0</td>\n",
       "      <td>113803</td>\n",
       "      <td>53.1000</td>\n",
       "      <td>C123</td>\n",
       "      <td>S</td>\n",
       "    </tr>\n",
       "    <tr>\n",
       "      <th>5</th>\n",
       "      <td>0</td>\n",
       "      <td>3</td>\n",
       "      <td>Allen, Mr. William Henry</td>\n",
       "      <td>male</td>\n",
       "      <td>35.0</td>\n",
       "      <td>0</td>\n",
       "      <td>0</td>\n",
       "      <td>373450</td>\n",
       "      <td>8.0500</td>\n",
       "      <td>NaN</td>\n",
       "      <td>S</td>\n",
       "    </tr>\n",
       "  </tbody>\n",
       "</table>\n",
       "</div>"
      ],
      "text/plain": [
       "             Survived  Pclass  \\\n",
       "PassengerId                     \n",
       "1                   0       3   \n",
       "2                   1       1   \n",
       "3                   1       3   \n",
       "4                   1       1   \n",
       "5                   0       3   \n",
       "\n",
       "                                                          Name     Sex   Age  \\\n",
       "PassengerId                                                                    \n",
       "1                                      Braund, Mr. Owen Harris    male  22.0   \n",
       "2            Cumings, Mrs. John Bradley (Florence Briggs Th...  female  38.0   \n",
       "3                                       Heikkinen, Miss. Laina  female  26.0   \n",
       "4                 Futrelle, Mrs. Jacques Heath (Lily May Peel)  female  35.0   \n",
       "5                                     Allen, Mr. William Henry    male  35.0   \n",
       "\n",
       "             SibSp  Parch            Ticket     Fare Cabin Embarked  \n",
       "PassengerId                                                          \n",
       "1                1      0         A/5 21171   7.2500   NaN        S  \n",
       "2                1      0          PC 17599  71.2833   C85        C  \n",
       "3                0      0  STON/O2. 3101282   7.9250   NaN        S  \n",
       "4                1      0            113803  53.1000  C123        S  \n",
       "5                0      0            373450   8.0500   NaN        S  "
      ]
     },
     "execution_count": 4,
     "metadata": {},
     "output_type": "execute_result"
    }
   ],
   "source": [
    "training_data.head()"
   ]
  },
  {
   "cell_type": "markdown",
   "metadata": {},
   "source": [
    "# 2. Initial Observations and Dealing with Missing Values"
   ]
  },
  {
   "cell_type": "markdown",
   "metadata": {},
   "source": [
    "### 2a. Investigate shape of dataset and whether or not there are any missing values"
   ]
  },
  {
   "cell_type": "code",
   "execution_count": 5,
   "metadata": {},
   "outputs": [],
   "source": [
    "# Make copies of the original DataFrames in order to prevent errors\n",
    "training_data_2 = training_data.copy()\n",
    "testing_data_2 = testing_data.copy()"
   ]
  },
  {
   "cell_type": "code",
   "execution_count": 6,
   "metadata": {},
   "outputs": [
    {
     "data": {
      "text/plain": [
       "(891, 11)"
      ]
     },
     "execution_count": 6,
     "metadata": {},
     "output_type": "execute_result"
    }
   ],
   "source": [
    "# Investigate shape of the training dataset\n",
    "training_data_2.shape"
   ]
  },
  {
   "cell_type": "code",
   "execution_count": 7,
   "metadata": {},
   "outputs": [
    {
     "data": {
      "text/plain": [
       "(418, 10)"
      ]
     },
     "execution_count": 7,
     "metadata": {},
     "output_type": "execute_result"
    }
   ],
   "source": [
    "# Investigate shape of the testing dataset\n",
    "testing_data_2.shape"
   ]
  },
  {
   "cell_type": "markdown",
   "metadata": {},
   "source": [
    "The initial training dataset given in the problem has 11 columns and 891 observations. The initial testing dataset given in the problem has 10 columns and 418 observations. The training dataset includes whether or not the passenger survived while the testing dataset does not."
   ]
  },
  {
   "cell_type": "code",
   "execution_count": 8,
   "metadata": {},
   "outputs": [
    {
     "data": {
      "text/html": [
       "<div>\n",
       "<style scoped>\n",
       "    .dataframe tbody tr th:only-of-type {\n",
       "        vertical-align: middle;\n",
       "    }\n",
       "\n",
       "    .dataframe tbody tr th {\n",
       "        vertical-align: top;\n",
       "    }\n",
       "\n",
       "    .dataframe thead th {\n",
       "        text-align: right;\n",
       "    }\n",
       "</style>\n",
       "<table border=\"1\" class=\"dataframe\">\n",
       "  <thead>\n",
       "    <tr style=\"text-align: right;\">\n",
       "      <th></th>\n",
       "      <th>Total</th>\n",
       "      <th>Percent</th>\n",
       "    </tr>\n",
       "  </thead>\n",
       "  <tbody>\n",
       "    <tr>\n",
       "      <th>Cabin</th>\n",
       "      <td>687</td>\n",
       "      <td>77.10</td>\n",
       "    </tr>\n",
       "    <tr>\n",
       "      <th>Age</th>\n",
       "      <td>177</td>\n",
       "      <td>19.87</td>\n",
       "    </tr>\n",
       "    <tr>\n",
       "      <th>Embarked</th>\n",
       "      <td>2</td>\n",
       "      <td>0.22</td>\n",
       "    </tr>\n",
       "    <tr>\n",
       "      <th>Fare</th>\n",
       "      <td>0</td>\n",
       "      <td>0.00</td>\n",
       "    </tr>\n",
       "    <tr>\n",
       "      <th>Ticket</th>\n",
       "      <td>0</td>\n",
       "      <td>0.00</td>\n",
       "    </tr>\n",
       "    <tr>\n",
       "      <th>Parch</th>\n",
       "      <td>0</td>\n",
       "      <td>0.00</td>\n",
       "    </tr>\n",
       "    <tr>\n",
       "      <th>SibSp</th>\n",
       "      <td>0</td>\n",
       "      <td>0.00</td>\n",
       "    </tr>\n",
       "    <tr>\n",
       "      <th>Sex</th>\n",
       "      <td>0</td>\n",
       "      <td>0.00</td>\n",
       "    </tr>\n",
       "    <tr>\n",
       "      <th>Name</th>\n",
       "      <td>0</td>\n",
       "      <td>0.00</td>\n",
       "    </tr>\n",
       "    <tr>\n",
       "      <th>Pclass</th>\n",
       "      <td>0</td>\n",
       "      <td>0.00</td>\n",
       "    </tr>\n",
       "    <tr>\n",
       "      <th>Survived</th>\n",
       "      <td>0</td>\n",
       "      <td>0.00</td>\n",
       "    </tr>\n",
       "  </tbody>\n",
       "</table>\n",
       "</div>"
      ],
      "text/plain": [
       "          Total  Percent\n",
       "Cabin       687    77.10\n",
       "Age         177    19.87\n",
       "Embarked      2     0.22\n",
       "Fare          0     0.00\n",
       "Ticket        0     0.00\n",
       "Parch         0     0.00\n",
       "SibSp         0     0.00\n",
       "Sex           0     0.00\n",
       "Name          0     0.00\n",
       "Pclass        0     0.00\n",
       "Survived      0     0.00"
      ]
     },
     "execution_count": 8,
     "metadata": {},
     "output_type": "execute_result"
    }
   ],
   "source": [
    "# Investigate missing variables in the training dataset\n",
    "total_missing_training = training_data_2.isnull().sum().sort_values (ascending = False)\n",
    "percent_missing_training = round((training_data_2.isnull().sum().sort_values(ascending = False)/len(training_data_2))*100,2)\n",
    "pd.concat([total_missing_training, percent_missing_training], axis = 1, keys = ['Total','Percent'])"
   ]
  },
  {
   "cell_type": "code",
   "execution_count": 9,
   "metadata": {},
   "outputs": [
    {
     "data": {
      "text/html": [
       "<div>\n",
       "<style scoped>\n",
       "    .dataframe tbody tr th:only-of-type {\n",
       "        vertical-align: middle;\n",
       "    }\n",
       "\n",
       "    .dataframe tbody tr th {\n",
       "        vertical-align: top;\n",
       "    }\n",
       "\n",
       "    .dataframe thead th {\n",
       "        text-align: right;\n",
       "    }\n",
       "</style>\n",
       "<table border=\"1\" class=\"dataframe\">\n",
       "  <thead>\n",
       "    <tr style=\"text-align: right;\">\n",
       "      <th></th>\n",
       "      <th>Total</th>\n",
       "      <th>Percent</th>\n",
       "    </tr>\n",
       "  </thead>\n",
       "  <tbody>\n",
       "    <tr>\n",
       "      <th>Cabin</th>\n",
       "      <td>327</td>\n",
       "      <td>78.23</td>\n",
       "    </tr>\n",
       "    <tr>\n",
       "      <th>Age</th>\n",
       "      <td>86</td>\n",
       "      <td>20.57</td>\n",
       "    </tr>\n",
       "    <tr>\n",
       "      <th>Fare</th>\n",
       "      <td>1</td>\n",
       "      <td>0.24</td>\n",
       "    </tr>\n",
       "    <tr>\n",
       "      <th>Embarked</th>\n",
       "      <td>0</td>\n",
       "      <td>0.00</td>\n",
       "    </tr>\n",
       "    <tr>\n",
       "      <th>Ticket</th>\n",
       "      <td>0</td>\n",
       "      <td>0.00</td>\n",
       "    </tr>\n",
       "    <tr>\n",
       "      <th>Parch</th>\n",
       "      <td>0</td>\n",
       "      <td>0.00</td>\n",
       "    </tr>\n",
       "    <tr>\n",
       "      <th>SibSp</th>\n",
       "      <td>0</td>\n",
       "      <td>0.00</td>\n",
       "    </tr>\n",
       "    <tr>\n",
       "      <th>Sex</th>\n",
       "      <td>0</td>\n",
       "      <td>0.00</td>\n",
       "    </tr>\n",
       "    <tr>\n",
       "      <th>Name</th>\n",
       "      <td>0</td>\n",
       "      <td>0.00</td>\n",
       "    </tr>\n",
       "    <tr>\n",
       "      <th>Pclass</th>\n",
       "      <td>0</td>\n",
       "      <td>0.00</td>\n",
       "    </tr>\n",
       "  </tbody>\n",
       "</table>\n",
       "</div>"
      ],
      "text/plain": [
       "          Total  Percent\n",
       "Cabin       327    78.23\n",
       "Age          86    20.57\n",
       "Fare          1     0.24\n",
       "Embarked      0     0.00\n",
       "Ticket        0     0.00\n",
       "Parch         0     0.00\n",
       "SibSp         0     0.00\n",
       "Sex           0     0.00\n",
       "Name          0     0.00\n",
       "Pclass        0     0.00"
      ]
     },
     "execution_count": 9,
     "metadata": {},
     "output_type": "execute_result"
    }
   ],
   "source": [
    "# Investigate missing variables in the testing dataset\n",
    "total_missing_testing = testing_data_2.isnull().sum().sort_values (ascending = False)\n",
    "percent_missing_testing = round((testing_data_2.isnull().sum().sort_values(ascending = False)/len(testing_data_2))*100,2)\n",
    "pd.concat([total_missing_testing, percent_missing_testing], axis = 1, keys = ['Total','Percent'])"
   ]
  },
  {
   "cell_type": "markdown",
   "metadata": {},
   "source": [
    "We will need to figure out ways of dealing with missing variables in the \"Cabin\", \"Age\", \"Fare\", and \"Embarked\" columns.\n",
    "\n",
    "Let's figure out what to do with missing values in order of least missing values to most missing values (\"Fare\", \"Embarked\", \"Age\", \"Cabin\")"
   ]
  },
  {
   "cell_type": "markdown",
   "metadata": {},
   "source": [
    "### 2b. Dealing with \"Fare\" missing values"
   ]
  },
  {
   "cell_type": "code",
   "execution_count": 10,
   "metadata": {},
   "outputs": [
    {
     "data": {
      "image/png": "[encoded data removed]",
      "text/plain": [
       "<Figure size 432x288 with 1 Axes>"
      ]
     },
     "metadata": {
      "needs_background": "light"
     },
     "output_type": "display_data"
    }
   ],
   "source": [
    "# Plot a histogram of ages in the training dataset\n",
    "testing_data_2.Fare.hist(bins=35, density = True, stacked = True, alpha = 0.6, color='royalblue')\n",
    "testing_data_2.Fare.plot(kind = 'density', color = 'royalblue')\n",
    "plt.xlabel('Fare ($)')\n",
    "plt.xlim(-10,200)\n",
    "plt.show()"
   ]
  },
  {
   "cell_type": "code",
   "execution_count": 11,
   "metadata": {},
   "outputs": [
    {
     "data": {
      "text/html": [
       "<div>\n",
       "<style scoped>\n",
       "    .dataframe tbody tr th:only-of-type {\n",
       "        vertical-align: middle;\n",
       "    }\n",
       "\n",
       "    .dataframe tbody tr th {\n",
       "        vertical-align: top;\n",
       "    }\n",
       "\n",
       "    .dataframe thead th {\n",
       "        text-align: right;\n",
       "    }\n",
       "</style>\n",
       "<table border=\"1\" class=\"dataframe\">\n",
       "  <thead>\n",
       "    <tr style=\"text-align: right;\">\n",
       "      <th></th>\n",
       "      <th>Pclass</th>\n",
       "      <th>Name</th>\n",
       "      <th>Sex</th>\n",
       "      <th>Age</th>\n",
       "      <th>SibSp</th>\n",
       "      <th>Parch</th>\n",
       "      <th>Ticket</th>\n",
       "      <th>Fare</th>\n",
       "      <th>Cabin</th>\n",
       "      <th>Embarked</th>\n",
       "    </tr>\n",
       "    <tr>\n",
       "      <th>PassengerId</th>\n",
       "      <th></th>\n",
       "      <th></th>\n",
       "      <th></th>\n",
       "      <th></th>\n",
       "      <th></th>\n",
       "      <th></th>\n",
       "      <th></th>\n",
       "      <th></th>\n",
       "      <th></th>\n",
       "      <th></th>\n",
       "    </tr>\n",
       "  </thead>\n",
       "  <tbody>\n",
       "    <tr>\n",
       "      <th>1044</th>\n",
       "      <td>3</td>\n",
       "      <td>Storey, Mr. Thomas</td>\n",
       "      <td>male</td>\n",
       "      <td>60.5</td>\n",
       "      <td>0</td>\n",
       "      <td>0</td>\n",
       "      <td>3701</td>\n",
       "      <td>NaN</td>\n",
       "      <td>NaN</td>\n",
       "      <td>S</td>\n",
       "    </tr>\n",
       "  </tbody>\n",
       "</table>\n",
       "</div>"
      ],
      "text/plain": [
       "             Pclass                Name   Sex   Age  SibSp  Parch Ticket  \\\n",
       "PassengerId                                                                \n",
       "1044              3  Storey, Mr. Thomas  male  60.5      0      0   3701   \n",
       "\n",
       "             Fare Cabin Embarked  \n",
       "PassengerId                       \n",
       "1044          NaN   NaN        S  "
      ]
     },
     "execution_count": 11,
     "metadata": {},
     "output_type": "execute_result"
    }
   ],
   "source": [
    "# Look at the line item with the missing Fare value\n",
    "testing_data_2[testing_data_2[\"Fare\"].isnull()]"
   ]
  },
  {
   "cell_type": "code",
   "execution_count": 12,
   "metadata": {},
   "outputs": [],
   "source": [
    "testing_data_2[\"Fare\"] = testing_data_2.groupby([\"Pclass\",\"Sex\",\"Embarked\"])[\"Fare\"].transform(lambda x: x.fillna(x.median()))"
   ]
  },
  {
   "cell_type": "markdown",
   "metadata": {},
   "source": [
    "One \"Fare\" value is missing from the test dataset. Since the nature of this problem is figuring out guesses for whether or not the 418 individuals in the testing dataset survived, I can't remove line items from the testing dataset.\n",
    "\n",
    "Since the line item shouldn't be removed, replacing the missing Fare variable is the best option. \n",
    "\n",
    "The variable is right skewed so it's best to replace this variable with a median value rather than an average value. In order to make sure I am replacing the missing Fare value with the median Fare paid by a similar group of individuals, I replace the missing Fare value with the median of the group of individuals who have the same ticket class, sex, and who embarked from the same port.\n",
    "\n",
    "Next, let's figure out what to do with the missing \"Embarked\" variables."
   ]
  },
  {
   "cell_type": "markdown",
   "metadata": {},
   "source": [
    "### 2c. Dealing with \"Embarked\" missing values"
   ]
  },
  {
   "cell_type": "code",
   "execution_count": 13,
   "metadata": {},
   "outputs": [
    {
     "data": {
      "text/html": [
       "<div>\n",
       "<style scoped>\n",
       "    .dataframe tbody tr th:only-of-type {\n",
       "        vertical-align: middle;\n",
       "    }\n",
       "\n",
       "    .dataframe tbody tr th {\n",
       "        vertical-align: top;\n",
       "    }\n",
       "\n",
       "    .dataframe thead th {\n",
       "        text-align: right;\n",
       "    }\n",
       "</style>\n",
       "<table border=\"1\" class=\"dataframe\">\n",
       "  <thead>\n",
       "    <tr style=\"text-align: right;\">\n",
       "      <th></th>\n",
       "      <th>Survived</th>\n",
       "      <th>Pclass</th>\n",
       "      <th>Name</th>\n",
       "      <th>Sex</th>\n",
       "      <th>Age</th>\n",
       "      <th>SibSp</th>\n",
       "      <th>Parch</th>\n",
       "      <th>Ticket</th>\n",
       "      <th>Fare</th>\n",
       "      <th>Cabin</th>\n",
       "      <th>Embarked</th>\n",
       "    </tr>\n",
       "    <tr>\n",
       "      <th>PassengerId</th>\n",
       "      <th></th>\n",
       "      <th></th>\n",
       "      <th></th>\n",
       "      <th></th>\n",
       "      <th></th>\n",
       "      <th></th>\n",
       "      <th></th>\n",
       "      <th></th>\n",
       "      <th></th>\n",
       "      <th></th>\n",
       "      <th></th>\n",
       "    </tr>\n",
       "  </thead>\n",
       "  <tbody>\n",
       "    <tr>\n",
       "      <th>62</th>\n",
       "      <td>1</td>\n",
       "      <td>1</td>\n",
       "      <td>Icard, Miss. Amelie</td>\n",
       "      <td>female</td>\n",
       "      <td>38.0</td>\n",
       "      <td>0</td>\n",
       "      <td>0</td>\n",
       "      <td>113572</td>\n",
       "      <td>80.0</td>\n",
       "      <td>B28</td>\n",
       "      <td>NaN</td>\n",
       "    </tr>\n",
       "    <tr>\n",
       "      <th>830</th>\n",
       "      <td>1</td>\n",
       "      <td>1</td>\n",
       "      <td>Stone, Mrs. George Nelson (Martha Evelyn)</td>\n",
       "      <td>female</td>\n",
       "      <td>62.0</td>\n",
       "      <td>0</td>\n",
       "      <td>0</td>\n",
       "      <td>113572</td>\n",
       "      <td>80.0</td>\n",
       "      <td>B28</td>\n",
       "      <td>NaN</td>\n",
       "    </tr>\n",
       "  </tbody>\n",
       "</table>\n",
       "</div>"
      ],
      "text/plain": [
       "             Survived  Pclass                                       Name  \\\n",
       "PassengerId                                                                \n",
       "62                  1       1                        Icard, Miss. Amelie   \n",
       "830                 1       1  Stone, Mrs. George Nelson (Martha Evelyn)   \n",
       "\n",
       "                Sex   Age  SibSp  Parch  Ticket  Fare Cabin Embarked  \n",
       "PassengerId                                                           \n",
       "62           female  38.0      0      0  113572  80.0   B28      NaN  \n",
       "830          female  62.0      0      0  113572  80.0   B28      NaN  "
      ]
     },
     "execution_count": 13,
     "metadata": {},
     "output_type": "execute_result"
    }
   ],
   "source": [
    "# Look into what the \"Embarked\" null rows look like\n",
    "training_data_2[training_data_2[\"Embarked\"].isnull()]"
   ]
  },
  {
   "cell_type": "code",
   "execution_count": 14,
   "metadata": {},
   "outputs": [
    {
     "data": {
      "text/html": [
       "<div>\n",
       "<style scoped>\n",
       "    .dataframe tbody tr th:only-of-type {\n",
       "        vertical-align: middle;\n",
       "    }\n",
       "\n",
       "    .dataframe tbody tr th {\n",
       "        vertical-align: top;\n",
       "    }\n",
       "\n",
       "    .dataframe thead th {\n",
       "        text-align: right;\n",
       "    }\n",
       "</style>\n",
       "<table border=\"1\" class=\"dataframe\">\n",
       "  <thead>\n",
       "    <tr style=\"text-align: right;\">\n",
       "      <th></th>\n",
       "      <th>Survived</th>\n",
       "      <th>Pclass</th>\n",
       "      <th>Name</th>\n",
       "      <th>Sex</th>\n",
       "      <th>Age</th>\n",
       "      <th>SibSp</th>\n",
       "      <th>Parch</th>\n",
       "      <th>Ticket</th>\n",
       "      <th>Fare</th>\n",
       "      <th>Cabin</th>\n",
       "      <th>Embarked</th>\n",
       "    </tr>\n",
       "    <tr>\n",
       "      <th>PassengerId</th>\n",
       "      <th></th>\n",
       "      <th></th>\n",
       "      <th></th>\n",
       "      <th></th>\n",
       "      <th></th>\n",
       "      <th></th>\n",
       "      <th></th>\n",
       "      <th></th>\n",
       "      <th></th>\n",
       "      <th></th>\n",
       "      <th></th>\n",
       "    </tr>\n",
       "  </thead>\n",
       "  <tbody>\n",
       "    <tr>\n",
       "      <th>62</th>\n",
       "      <td>1</td>\n",
       "      <td>1</td>\n",
       "      <td>Icard, Miss. Amelie</td>\n",
       "      <td>female</td>\n",
       "      <td>38.0</td>\n",
       "      <td>0</td>\n",
       "      <td>0</td>\n",
       "      <td>113572</td>\n",
       "      <td>80.0</td>\n",
       "      <td>B28</td>\n",
       "      <td>NaN</td>\n",
       "    </tr>\n",
       "    <tr>\n",
       "      <th>830</th>\n",
       "      <td>1</td>\n",
       "      <td>1</td>\n",
       "      <td>Stone, Mrs. George Nelson (Martha Evelyn)</td>\n",
       "      <td>female</td>\n",
       "      <td>62.0</td>\n",
       "      <td>0</td>\n",
       "      <td>0</td>\n",
       "      <td>113572</td>\n",
       "      <td>80.0</td>\n",
       "      <td>B28</td>\n",
       "      <td>NaN</td>\n",
       "    </tr>\n",
       "  </tbody>\n",
       "</table>\n",
       "</div>"
      ],
      "text/plain": [
       "             Survived  Pclass                                       Name  \\\n",
       "PassengerId                                                                \n",
       "62                  1       1                        Icard, Miss. Amelie   \n",
       "830                 1       1  Stone, Mrs. George Nelson (Martha Evelyn)   \n",
       "\n",
       "                Sex   Age  SibSp  Parch  Ticket  Fare Cabin Embarked  \n",
       "PassengerId                                                           \n",
       "62           female  38.0      0      0  113572  80.0   B28      NaN  \n",
       "830          female  62.0      0      0  113572  80.0   B28      NaN  "
      ]
     },
     "execution_count": 14,
     "metadata": {},
     "output_type": "execute_result"
    }
   ],
   "source": [
    "# Check if there are any other passengers with the same ticket number\n",
    "training_data_2[training_data_2[\"Ticket\"]=='113572']"
   ]
  },
  {
   "cell_type": "code",
   "execution_count": 15,
   "metadata": {},
   "outputs": [
    {
     "data": {
      "text/html": [
       "<div>\n",
       "<style scoped>\n",
       "    .dataframe tbody tr th:only-of-type {\n",
       "        vertical-align: middle;\n",
       "    }\n",
       "\n",
       "    .dataframe tbody tr th {\n",
       "        vertical-align: top;\n",
       "    }\n",
       "\n",
       "    .dataframe thead th {\n",
       "        text-align: right;\n",
       "    }\n",
       "</style>\n",
       "<table border=\"1\" class=\"dataframe\">\n",
       "  <thead>\n",
       "    <tr style=\"text-align: right;\">\n",
       "      <th></th>\n",
       "      <th>Survived</th>\n",
       "      <th>Pclass</th>\n",
       "      <th>Name</th>\n",
       "      <th>Sex</th>\n",
       "      <th>Age</th>\n",
       "      <th>SibSp</th>\n",
       "      <th>Parch</th>\n",
       "      <th>Ticket</th>\n",
       "      <th>Fare</th>\n",
       "      <th>Cabin</th>\n",
       "      <th>Embarked</th>\n",
       "    </tr>\n",
       "    <tr>\n",
       "      <th>PassengerId</th>\n",
       "      <th></th>\n",
       "      <th></th>\n",
       "      <th></th>\n",
       "      <th></th>\n",
       "      <th></th>\n",
       "      <th></th>\n",
       "      <th></th>\n",
       "      <th></th>\n",
       "      <th></th>\n",
       "      <th></th>\n",
       "      <th></th>\n",
       "    </tr>\n",
       "  </thead>\n",
       "  <tbody>\n",
       "    <tr>\n",
       "      <th>62</th>\n",
       "      <td>1</td>\n",
       "      <td>1</td>\n",
       "      <td>Icard, Miss. Amelie</td>\n",
       "      <td>female</td>\n",
       "      <td>38.0</td>\n",
       "      <td>0</td>\n",
       "      <td>0</td>\n",
       "      <td>113572</td>\n",
       "      <td>80.0</td>\n",
       "      <td>B28</td>\n",
       "      <td>NaN</td>\n",
       "    </tr>\n",
       "    <tr>\n",
       "      <th>830</th>\n",
       "      <td>1</td>\n",
       "      <td>1</td>\n",
       "      <td>Stone, Mrs. George Nelson (Martha Evelyn)</td>\n",
       "      <td>female</td>\n",
       "      <td>62.0</td>\n",
       "      <td>0</td>\n",
       "      <td>0</td>\n",
       "      <td>113572</td>\n",
       "      <td>80.0</td>\n",
       "      <td>B28</td>\n",
       "      <td>NaN</td>\n",
       "    </tr>\n",
       "  </tbody>\n",
       "</table>\n",
       "</div>"
      ],
      "text/plain": [
       "             Survived  Pclass                                       Name  \\\n",
       "PassengerId                                                                \n",
       "62                  1       1                        Icard, Miss. Amelie   \n",
       "830                 1       1  Stone, Mrs. George Nelson (Martha Evelyn)   \n",
       "\n",
       "                Sex   Age  SibSp  Parch  Ticket  Fare Cabin Embarked  \n",
       "PassengerId                                                           \n",
       "62           female  38.0      0      0  113572  80.0   B28      NaN  \n",
       "830          female  62.0      0      0  113572  80.0   B28      NaN  "
      ]
     },
     "execution_count": 15,
     "metadata": {},
     "output_type": "execute_result"
    }
   ],
   "source": [
    "# Check if there are any other passengers with the same Cabin\n",
    "training_data_2[training_data_2[\"Cabin\"]=='B28']"
   ]
  },
  {
   "cell_type": "code",
   "execution_count": 16,
   "metadata": {},
   "outputs": [
    {
     "data": {
      "text/html": [
       "<div>\n",
       "<style scoped>\n",
       "    .dataframe tbody tr th:only-of-type {\n",
       "        vertical-align: middle;\n",
       "    }\n",
       "\n",
       "    .dataframe tbody tr th {\n",
       "        vertical-align: top;\n",
       "    }\n",
       "\n",
       "    .dataframe thead th {\n",
       "        text-align: right;\n",
       "    }\n",
       "</style>\n",
       "<table border=\"1\" class=\"dataframe\">\n",
       "  <thead>\n",
       "    <tr style=\"text-align: right;\">\n",
       "      <th></th>\n",
       "      <th>count</th>\n",
       "      <th>mean</th>\n",
       "      <th>std</th>\n",
       "      <th>min</th>\n",
       "      <th>25%</th>\n",
       "      <th>50%</th>\n",
       "      <th>75%</th>\n",
       "      <th>max</th>\n",
       "    </tr>\n",
       "    <tr>\n",
       "      <th>Embarked</th>\n",
       "      <th></th>\n",
       "      <th></th>\n",
       "      <th></th>\n",
       "      <th></th>\n",
       "      <th></th>\n",
       "      <th></th>\n",
       "      <th></th>\n",
       "      <th></th>\n",
       "    </tr>\n",
       "  </thead>\n",
       "  <tbody>\n",
       "    <tr>\n",
       "      <th>C</th>\n",
       "      <td>43.0</td>\n",
       "      <td>115.640309</td>\n",
       "      <td>88.571645</td>\n",
       "      <td>27.7208</td>\n",
       "      <td>69.3</td>\n",
       "      <td>83.1583</td>\n",
       "      <td>134.500000</td>\n",
       "      <td>512.3292</td>\n",
       "    </tr>\n",
       "    <tr>\n",
       "      <th>Q</th>\n",
       "      <td>1.0</td>\n",
       "      <td>90.000000</td>\n",
       "      <td>NaN</td>\n",
       "      <td>90.0000</td>\n",
       "      <td>90.0</td>\n",
       "      <td>90.0000</td>\n",
       "      <td>90.000000</td>\n",
       "      <td>90.0000</td>\n",
       "    </tr>\n",
       "    <tr>\n",
       "      <th>S</th>\n",
       "      <td>48.0</td>\n",
       "      <td>99.026910</td>\n",
       "      <td>61.094407</td>\n",
       "      <td>25.9292</td>\n",
       "      <td>53.1</td>\n",
       "      <td>79.6500</td>\n",
       "      <td>139.612475</td>\n",
       "      <td>263.0000</td>\n",
       "    </tr>\n",
       "  </tbody>\n",
       "</table>\n",
       "</div>"
      ],
      "text/plain": [
       "          count        mean        std      min   25%      50%         75%  \\\n",
       "Embarked                                                                     \n",
       "C          43.0  115.640309  88.571645  27.7208  69.3  83.1583  134.500000   \n",
       "Q           1.0   90.000000        NaN  90.0000  90.0  90.0000   90.000000   \n",
       "S          48.0   99.026910  61.094407  25.9292  53.1  79.6500  139.612475   \n",
       "\n",
       "               max  \n",
       "Embarked            \n",
       "C         512.3292  \n",
       "Q          90.0000  \n",
       "S         263.0000  "
      ]
     },
     "execution_count": 16,
     "metadata": {},
     "output_type": "execute_result"
    }
   ],
   "source": [
    "# Look at the percentiles of fare prices paid for all first ticket class women\n",
    "training_data_2[(training_data_2[\"Pclass\"] == 1) & (training_data_2[\"Sex\"] == 'female')].groupby(\"Embarked\")[\"Fare\"].describe()"
   ]
  },
  {
   "cell_type": "code",
   "execution_count": 17,
   "metadata": {},
   "outputs": [
    {
     "data": {
      "text/plain": [
       "S    23\n",
       "C    22\n",
       "Name: Embarked, dtype: int64"
      ]
     },
     "execution_count": 17,
     "metadata": {},
     "output_type": "execute_result"
    }
   ],
   "source": [
    "# Look into the most port of embarkation for people on cabin level B\n",
    "training_data_2[training_data_2[\"Cabin\"].str[0]=='B'][\"Embarked\"].value_counts()"
   ]
  },
  {
   "cell_type": "code",
   "execution_count": 18,
   "metadata": {},
   "outputs": [
    {
     "data": {
      "text/plain": [
       "1    47\n",
       "Name: Pclass, dtype: int64"
      ]
     },
     "execution_count": 18,
     "metadata": {},
     "output_type": "execute_result"
    }
   ],
   "source": [
    "# Look at what ticket class individuals on the same cabin level tend to be\n",
    "training_data_2[training_data_2[\"Cabin\"].str[0]=='B'][\"Pclass\"].value_counts()"
   ]
  },
  {
   "cell_type": "code",
   "execution_count": 19,
   "metadata": {},
   "outputs": [
    {
     "data": {
      "text/plain": [
       "female    27\n",
       "male      20\n",
       "Name: Sex, dtype: int64"
      ]
     },
     "execution_count": 19,
     "metadata": {},
     "output_type": "execute_result"
    }
   ],
   "source": [
    "# Look at what gender people tend to be on cabin level B \n",
    "training_data_2[training_data_2[\"Cabin\"].str[0]=='B'][\"Sex\"].value_counts()"
   ]
  },
  {
   "cell_type": "code",
   "execution_count": 20,
   "metadata": {},
   "outputs": [
    {
     "data": {
      "text/html": [
       "<div>\n",
       "<style scoped>\n",
       "    .dataframe tbody tr th:only-of-type {\n",
       "        vertical-align: middle;\n",
       "    }\n",
       "\n",
       "    .dataframe tbody tr th {\n",
       "        vertical-align: top;\n",
       "    }\n",
       "\n",
       "    .dataframe thead th {\n",
       "        text-align: right;\n",
       "    }\n",
       "</style>\n",
       "<table border=\"1\" class=\"dataframe\">\n",
       "  <thead>\n",
       "    <tr style=\"text-align: right;\">\n",
       "      <th></th>\n",
       "      <th>count</th>\n",
       "      <th>mean</th>\n",
       "      <th>std</th>\n",
       "      <th>min</th>\n",
       "      <th>25%</th>\n",
       "      <th>50%</th>\n",
       "      <th>75%</th>\n",
       "      <th>max</th>\n",
       "    </tr>\n",
       "    <tr>\n",
       "      <th>Embarked</th>\n",
       "      <th></th>\n",
       "      <th></th>\n",
       "      <th></th>\n",
       "      <th></th>\n",
       "      <th></th>\n",
       "      <th></th>\n",
       "      <th></th>\n",
       "      <th></th>\n",
       "    </tr>\n",
       "  </thead>\n",
       "  <tbody>\n",
       "    <tr>\n",
       "      <th>C</th>\n",
       "      <td>12.0</td>\n",
       "      <td>124.014233</td>\n",
       "      <td>87.994021</td>\n",
       "      <td>27.7208</td>\n",
       "      <td>57.9792</td>\n",
       "      <td>80.1896</td>\n",
       "      <td>171.7708</td>\n",
       "      <td>262.3750</td>\n",
       "    </tr>\n",
       "    <tr>\n",
       "      <th>S</th>\n",
       "      <td>13.0</td>\n",
       "      <td>113.731731</td>\n",
       "      <td>60.386313</td>\n",
       "      <td>30.0000</td>\n",
       "      <td>86.5000</td>\n",
       "      <td>93.5000</td>\n",
       "      <td>120.0000</td>\n",
       "      <td>211.3375</td>\n",
       "    </tr>\n",
       "  </tbody>\n",
       "</table>\n",
       "</div>"
      ],
      "text/plain": [
       "          count        mean        std      min      25%      50%       75%  \\\n",
       "Embarked                                                                      \n",
       "C          12.0  124.014233  87.994021  27.7208  57.9792  80.1896  171.7708   \n",
       "S          13.0  113.731731  60.386313  30.0000  86.5000  93.5000  120.0000   \n",
       "\n",
       "               max  \n",
       "Embarked            \n",
       "C         262.3750  \n",
       "S         211.3375  "
      ]
     },
     "execution_count": 20,
     "metadata": {},
     "output_type": "execute_result"
    }
   ],
   "source": [
    "# Look at the percentiles of fare prices paid for women on cabin level B\n",
    "training_data_2[(training_data_2[\"Cabin\"].str[0]=='B') & (training_data_2[\"Sex\"] == 'female')].groupby(\"Embarked\")[\"Fare\"].describe()"
   ]
  },
  {
   "cell_type": "code",
   "execution_count": 21,
   "metadata": {},
   "outputs": [],
   "source": [
    "# Replace the missing \"Embarked\" datapoints with \"C\" for \"Cherbourg\"\n",
    "training_data_2.update(training_data_2[\"Embarked\"].fillna(\"C\"))"
   ]
  },
  {
   "cell_type": "markdown",
   "metadata": {},
   "source": [
    "I assume that people who embark the titanic pay similar fares. Both of the people who have the their port of embarkation missing paid a fare of 80 dollars to board the ship. Both of these individuals are women, with the same ticket class, ticket number, and cabin number.\n",
    "\n",
    "I look for other passengers with the same ticket number and cabin number (to see what port she/he embarked from), but did not find any other passengers apart from these two passengers.\n",
    "\n",
    "First, I look at what price other first class women paid to board the titanic and found that passengers who embarked in 'Cherbourg' and 'Southampton' tended to pay similar prices to both of these women.\n",
    "\n",
    "Then, I investigated the cabin floor that both of these women were residing in (cabin floor B) and found that passengers with their cabins identified as being on floor B all have first class tickets and embarked from either 'Cherbourg' or 'Southampton'.\n",
    "\n",
    "Lastly, I looked at other first class women on cabin floor B to see the fares they paid and found that the 80 dollar fare both of these women paid was most similar to the fares paid by first class women on their floor who boarded from 'Cherbourg'. I replaced both womens' port of embarkation with 'C' for 'Cherbourg'."
   ]
  },
  {
   "cell_type": "markdown",
   "metadata": {},
   "source": [
    "### 2d. Dealing with \"Age\" missing values"
   ]
  },
  {
   "cell_type": "code",
   "execution_count": 22,
   "metadata": {},
   "outputs": [
    {
     "data": {
      "image/png": "[encoded data removed]",
      "text/plain": [
       "<Figure size 432x288 with 1 Axes>"
      ]
     },
     "metadata": {
      "needs_background": "light"
     },
     "output_type": "display_data"
    }
   ],
   "source": [
    "# Plot a histogram of ages in the training dataset\n",
    "training_data_2.Age.hist(bins=15, density = True, stacked = True, alpha = 0.6, color='royalblue')\n",
    "training_data_2.Age.plot(kind = 'density', color = 'royalblue')\n",
    "plt.xlabel('Age')\n",
    "plt.xlim(-10,85)\n",
    "plt.show()"
   ]
  },
  {
   "cell_type": "code",
   "execution_count": 23,
   "metadata": {},
   "outputs": [
    {
     "data": {
      "image/png": "[encoded data removed]",
      "text/plain": [
       "<Figure size 1008x432 with 3 Axes>"
      ]
     },
     "metadata": {
      "needs_background": "light"
     },
     "output_type": "display_data"
    }
   ],
   "source": [
    "# Set up the figure with two subplots\n",
    "fig, (axis1,axis2,axis3) = plt.subplots(1, 3, figsize=(14,6))\n",
    "# Create a plot showing the count of observations with upper, middle, and lower classes\n",
    "sns.countplot(x = 'Pclass', data = training_data_2[training_data_2.Age.notnull()], palette = 'Blues_r', ax = axis1)\n",
    "axis1.set_xticklabels([\"Upper\",\"Middle\",\"Lower\"])\n",
    "axis1.set_xlabel(\"Ticket Class\")\n",
    "# Create a plot showing the proportion of people in each class who survived\n",
    "sns.countplot(x = 'Survived', data = training_data_2[training_data_2.Age.notnull()], palette = 'Blues_r', ax = axis2)\n",
    "axis2.set_xticklabels([\"No\",\"Yes\"])\n",
    "axis2.set_xlabel(\"Survived?\")\n",
    "# Create a plot showing the proportion of people in each class who survived\n",
    "sns.countplot(x = 'Sex', data = training_data_2[training_data_2.Age.notnull()], palette = 'Blues_r', ax = axis3)\n",
    "axis3.set_xticklabels([\"Male\",\"Female\"])\n",
    "axis3.set_xlabel(\"Sex\")\n",
    "\n",
    "plt.text(-3, 495, \"Count of Customers With Ages\", fontsize = 20)\n",
    "plt.show()"
   ]
  },
  {
   "cell_type": "code",
   "execution_count": 24,
   "metadata": {},
   "outputs": [
    {
     "data": {
      "image/png": "[encoded data removed]",
      "text/plain": [
       "<Figure size 1008x432 with 3 Axes>"
      ]
     },
     "metadata": {
      "needs_background": "light"
     },
     "output_type": "display_data"
    }
   ],
   "source": [
    "# Set up the figure with two subplots\n",
    "fig, (axis1,axis2,axis3) = plt.subplots(1, 3, figsize=(14,6))\n",
    "# Create a plot showing the count of observations with upper, middle, and lower classes\n",
    "sns.countplot(x = 'Pclass', data = training_data_2[training_data_2.Age.isnull()], palette = 'Oranges_r', ax = axis1)\n",
    "axis1.set_xticklabels([\"Upper\",\"Middle\",\"Lower\"])\n",
    "axis1.set_xlabel(\"Ticket Class\")\n",
    "# Create a plot showing the proportion of people in each class who survived\n",
    "sns.countplot(x = 'Survived', data = training_data_2[training_data_2.Age.isnull()], palette = 'Oranges_r', ax = axis2)\n",
    "axis2.set_xticklabels([\"No\",\"Yes\"])\n",
    "axis2.set_xlabel(\"Survived?\")\n",
    "# Create a plot showing the proportion of people in each class who survived\n",
    "sns.countplot(x = 'Sex', data = training_data_2[training_data_2.Age.isnull()], palette = 'Oranges_r', ax = axis3)\n",
    "axis3.set_xticklabels([\"Male\",\"Female\"])\n",
    "axis3.set_xlabel(\"Sex\")\n",
    "\n",
    "plt.text(-3, 140, \"Count of Customers Without Ages\", fontsize = 20)\n",
    "plt.show()"
   ]
  },
  {
   "cell_type": "code",
   "execution_count": 25,
   "metadata": {},
   "outputs": [],
   "source": [
    "# Replace missing variables with the median of age for individuals grouped by ticket class, sex, and embarked location\n",
    "training_data_2[\"Age\"] = training_data_2.groupby([\"Pclass\",\"Sex\",\"Embarked\"])[\"Age\"].transform(lambda x: x.fillna(x.median()))\n",
    "testing_data_2[\"Age\"] = testing_data_2.groupby([\"Pclass\",\"Sex\",\"Embarked\"])[\"Age\"].transform(lambda x: x.fillna(x.median()))"
   ]
  },
  {
   "cell_type": "code",
   "execution_count": 26,
   "metadata": {},
   "outputs": [
    {
     "data": {
      "image/png": "[encoded data removed]",
      "text/plain": [
       "<Figure size 432x288 with 1 Axes>"
      ]
     },
     "metadata": {
      "needs_background": "light"
     },
     "output_type": "display_data"
    }
   ],
   "source": [
    "# Plot histogram of ages before nulls were replaced and show this histogram in blue\n",
    "training_data.Age.hist(bins=15, density = True, stacked = True, alpha = 0.6, color='royalblue')\n",
    "training_data.Age.plot(kind = 'density', color = 'royalblue', label = 'before')\n",
    "# Plot histogram of ages after null values were replaced and show the histogram in orange\n",
    "training_data_2.Age.hist(bins=15, density = True, stacked = True, alpha = 0.5, color='orange')\n",
    "training_data_2.Age.plot(kind = 'density', color = 'orange', label = 'after')\n",
    "# Create legend and labels\n",
    "plt.legend()\n",
    "plt.xlabel('Age')\n",
    "plt.xlim(-10,85)\n",
    "plt.show()"
   ]
  },
  {
   "cell_type": "markdown",
   "metadata": {},
   "source": [
    "~20% of the age datapoints are missing so it's important for us to be careful with how we decide to deal with the missing values. Since the training set we're working with isn't very large, it would be ideal to replace the missing values with estimates rather than removing datapoints that include missing Age values. Additionally, since in the Titanic people made efforts to save women and children first, my guess is that Age is an important variable in this dataset so it would be ideal to keep it. \n",
    "\n",
    "The variable for \"Age\" is right skewed so median is the best option for replacing missing values. In order to avoid affecting the distribution of ages too much, I replace missing Age values with the median Age of individuals with the same ticket class, sex, and port of embarkation as the individual. Ideally, this replaces the individual's missing age with a decent estimate for the individual's age.\n",
    "\n",
    "The above graph shows the distribution of ages before and after missing values were replaced. The new distribution of ages is about the same shape as the old distribution of ages."
   ]
  },
  {
   "cell_type": "markdown",
   "metadata": {},
   "source": [
    "### 2e. Dealing with \"Cabin\" missing values"
   ]
  },
  {
   "cell_type": "code",
   "execution_count": 27,
   "metadata": {},
   "outputs": [],
   "source": [
    "# Drop the Cabin variable\n",
    "training_data_2.drop(columns = [\"Cabin\"], inplace = True)\n",
    "testing_data_2.drop(columns = [\"Cabin\"], inplace = True)"
   ]
  },
  {
   "cell_type": "markdown",
   "metadata": {},
   "source": [
    "Given that ~77% of the data for this variable is missing, any estimation that I could do for the missing values would likely not be very accurate. As a result, I think it's best to exclude this variable because too many datapoints are missing."
   ]
  },
  {
   "cell_type": "markdown",
   "metadata": {},
   "source": [
    "# 3. Exploring Variables and their Impact on Survival"
   ]
  },
  {
   "cell_type": "markdown",
   "metadata": {},
   "source": [
    "### 3a. Ticket Class Exploration"
   ]
  },
  {
   "cell_type": "code",
   "execution_count": 28,
   "metadata": {},
   "outputs": [
    {
     "data": {
      "image/png": "[encoded data removed]",
      "text/plain": [
       "<Figure size 1008x432 with 2 Axes>"
      ]
     },
     "metadata": {
      "needs_background": "light"
     },
     "output_type": "display_data"
    }
   ],
   "source": [
    "# Set up the figure with two subplots\n",
    "fig, (axis1,axis2) = plt.subplots(1, 2, figsize=(14,6))\n",
    "# Create a plot showing the count of observations with upper, middle, and lower classes\n",
    "sns.countplot(x = 'Pclass', data = training_data_2, palette = 'Blues_r', ax = axis1)\n",
    "axis1.set_xticklabels([\"Upper\",\"Middle\",\"Lower\"])\n",
    "axis1.set_xlabel(\"Ticket Class\")\n",
    "# Create a plot showing the proportion of people in each class who survived\n",
    "sns.barplot('Pclass', 'Survived', data = training_data_2, palette = 'Oranges_r', ax = axis2)\n",
    "axis2.set_xticklabels([\"Upper\",\"Middle\",\"Lower\"])\n",
    "axis2.set_xlabel(\"Ticket Class\")\n",
    "plt.show()"
   ]
  },
  {
   "cell_type": "markdown",
   "metadata": {},
   "source": [
    "The dataset is composed is significantly more lower class ticket holders than upper or middle class ticket holders. People of higher classes tended to be more likely to survive the shipwreck."
   ]
  },
  {
   "cell_type": "markdown",
   "metadata": {},
   "source": [
    "### 3b. Gender Exploration"
   ]
  },
  {
   "cell_type": "code",
   "execution_count": 29,
   "metadata": {},
   "outputs": [
    {
     "data": {
      "image/png": "[encoded data removed]",
      "text/plain": [
       "<Figure size 1008x432 with 2 Axes>"
      ]
     },
     "metadata": {
      "needs_background": "light"
     },
     "output_type": "display_data"
    }
   ],
   "source": [
    "# Set up the figure with two subplots\n",
    "fig, (axis1,axis2) = plt.subplots(1, 2, figsize=(14,6))\n",
    "# Create a plot showing the count of observations with upper, middle, and lower classes\n",
    "sns.countplot(x = 'Sex', data = training_data_2, palette = 'Blues_r', ax = axis1)\n",
    "axis1.set_xticklabels([\"Male\",\"Female\"])\n",
    "axis1.set_xlabel(\"Sex\")\n",
    "# Create a plot showing the proportion of people in each class who survived\n",
    "sns.barplot('Sex', 'Survived', data = training_data_2, palette = 'Oranges_r', ax = axis2)\n",
    "axis2.set_xticklabels([\"Male\",\"Female\"])\n",
    "axis2.set_xlabel(\"Sex\")\n",
    "plt.show()"
   ]
  },
  {
   "cell_type": "markdown",
   "metadata": {},
   "source": [
    "The dataset is composed is significantly more men than women. Women were much more likely to survive the shipwreck than men."
   ]
  },
  {
   "cell_type": "markdown",
   "metadata": {},
   "source": [
    "### 3c. Age Exploration"
   ]
  },
  {
   "cell_type": "code",
   "execution_count": 30,
   "metadata": {},
   "outputs": [
    {
     "data": {
      "image/png": "[encoded data removed]",
      "text/plain": [
       "<Figure size 1080x576 with 1 Axes>"
      ]
     },
     "metadata": {
      "needs_background": "light"
     },
     "output_type": "display_data"
    }
   ],
   "source": [
    "# age distribution for survivers and deceased is relatively similar. However, note that one difference is that of the survivers a larger proportion were children\n",
    "\n",
    "plt.figure(figsize=(15,8))\n",
    "ax1 = sns.kdeplot(training_data_2[\"Age\"][training_data_2.Survived == 1], color=\"royalblue\", shade=True)\n",
    "ax2 = sns.kdeplot(training_data_2[\"Age\"][training_data_2.Survived == 0], color=\"orange\", shade=True)\n",
    "# sns.kdeplot(training_data_2[\"Age\"], color=\"grey\", shade=True)\n",
    "plt.legend(['Survived', 'Died'])\n",
    "plt.title('Density Plot of Age for Surviving Population and Deceased Population (Including Replaced Age Values)')\n",
    "ax2.set(xlabel = 'Age')\n",
    "# plt.xlim(-10,85)\n",
    "plt.show()"
   ]
  },
  {
   "cell_type": "code",
   "execution_count": 31,
   "metadata": {},
   "outputs": [
    {
     "data": {
      "image/png": "[encoded data removed]",
      "text/plain": [
       "<Figure size 1080x576 with 1 Axes>"
      ]
     },
     "metadata": {
      "needs_background": "light"
     },
     "output_type": "display_data"
    }
   ],
   "source": [
    "# age distribution for survivers and deceased is relatively similar. However, note that one difference is that of the survivers a larger proportion were children\n",
    "\n",
    "plt.figure(figsize=(15,8))\n",
    "ax1 = sns.kdeplot(training_data[\"Age\"][(training_data.Age.notnull()) & (training_data.Survived == 1)], color=\"royalblue\", shade=True)\n",
    "ax2 = sns.kdeplot(training_data[\"Age\"][(training_data.Age.notnull()) & (training_data.Survived == 0)], color=\"orange\", shade=True)\n",
    "# sns.kdeplot(training_data_2[\"Age\"], color=\"grey\", shade=True)\n",
    "plt.legend(['Survived', 'Died'])\n",
    "plt.title('Density Plot of Age for Surviving Population and Deceased Population (Only Including Passengers With Specified Ages)')\n",
    "ax2.set(xlabel = 'Age')\n",
    "plt.xlim(-10,85)\n",
    "plt.show()"
   ]
  },
  {
   "cell_type": "code",
   "execution_count": 32,
   "metadata": {},
   "outputs": [
    {
     "data": {
      "text/html": [
       "<div>\n",
       "<style scoped>\n",
       "    .dataframe tbody tr th:only-of-type {\n",
       "        vertical-align: middle;\n",
       "    }\n",
       "\n",
       "    .dataframe tbody tr th {\n",
       "        vertical-align: top;\n",
       "    }\n",
       "\n",
       "    .dataframe thead tr th {\n",
       "        text-align: left;\n",
       "    }\n",
       "\n",
       "    .dataframe thead tr:last-of-type th {\n",
       "        text-align: right;\n",
       "    }\n",
       "</style>\n",
       "<table border=\"1\" class=\"dataframe\">\n",
       "  <thead>\n",
       "    <tr>\n",
       "      <th></th>\n",
       "      <th colspan=\"2\" halign=\"left\">Survived</th>\n",
       "    </tr>\n",
       "    <tr>\n",
       "      <th></th>\n",
       "      <th>mean</th>\n",
       "      <th>count</th>\n",
       "    </tr>\n",
       "    <tr>\n",
       "      <th>Age</th>\n",
       "      <th></th>\n",
       "      <th></th>\n",
       "    </tr>\n",
       "  </thead>\n",
       "  <tbody>\n",
       "    <tr>\n",
       "      <th>0.42</th>\n",
       "      <td>1.000000</td>\n",
       "      <td>1</td>\n",
       "    </tr>\n",
       "    <tr>\n",
       "      <th>0.67</th>\n",
       "      <td>1.000000</td>\n",
       "      <td>1</td>\n",
       "    </tr>\n",
       "    <tr>\n",
       "      <th>0.75</th>\n",
       "      <td>1.000000</td>\n",
       "      <td>2</td>\n",
       "    </tr>\n",
       "    <tr>\n",
       "      <th>0.83</th>\n",
       "      <td>1.000000</td>\n",
       "      <td>2</td>\n",
       "    </tr>\n",
       "    <tr>\n",
       "      <th>0.92</th>\n",
       "      <td>1.000000</td>\n",
       "      <td>1</td>\n",
       "    </tr>\n",
       "    <tr>\n",
       "      <th>1.00</th>\n",
       "      <td>0.714286</td>\n",
       "      <td>7</td>\n",
       "    </tr>\n",
       "    <tr>\n",
       "      <th>2.00</th>\n",
       "      <td>0.300000</td>\n",
       "      <td>10</td>\n",
       "    </tr>\n",
       "    <tr>\n",
       "      <th>3.00</th>\n",
       "      <td>0.833333</td>\n",
       "      <td>6</td>\n",
       "    </tr>\n",
       "    <tr>\n",
       "      <th>4.00</th>\n",
       "      <td>0.700000</td>\n",
       "      <td>10</td>\n",
       "    </tr>\n",
       "    <tr>\n",
       "      <th>5.00</th>\n",
       "      <td>1.000000</td>\n",
       "      <td>4</td>\n",
       "    </tr>\n",
       "    <tr>\n",
       "      <th>6.00</th>\n",
       "      <td>0.666667</td>\n",
       "      <td>3</td>\n",
       "    </tr>\n",
       "    <tr>\n",
       "      <th>7.00</th>\n",
       "      <td>0.333333</td>\n",
       "      <td>3</td>\n",
       "    </tr>\n",
       "    <tr>\n",
       "      <th>8.00</th>\n",
       "      <td>0.500000</td>\n",
       "      <td>4</td>\n",
       "    </tr>\n",
       "    <tr>\n",
       "      <th>9.00</th>\n",
       "      <td>0.250000</td>\n",
       "      <td>8</td>\n",
       "    </tr>\n",
       "    <tr>\n",
       "      <th>10.00</th>\n",
       "      <td>0.000000</td>\n",
       "      <td>2</td>\n",
       "    </tr>\n",
       "    <tr>\n",
       "      <th>11.00</th>\n",
       "      <td>0.250000</td>\n",
       "      <td>4</td>\n",
       "    </tr>\n",
       "    <tr>\n",
       "      <th>12.00</th>\n",
       "      <td>1.000000</td>\n",
       "      <td>1</td>\n",
       "    </tr>\n",
       "    <tr>\n",
       "      <th>13.00</th>\n",
       "      <td>1.000000</td>\n",
       "      <td>2</td>\n",
       "    </tr>\n",
       "    <tr>\n",
       "      <th>14.00</th>\n",
       "      <td>0.500000</td>\n",
       "      <td>6</td>\n",
       "    </tr>\n",
       "    <tr>\n",
       "      <th>14.25</th>\n",
       "      <td>0.571429</td>\n",
       "      <td>7</td>\n",
       "    </tr>\n",
       "    <tr>\n",
       "      <th>14.50</th>\n",
       "      <td>0.000000</td>\n",
       "      <td>1</td>\n",
       "    </tr>\n",
       "    <tr>\n",
       "      <th>15.00</th>\n",
       "      <td>0.800000</td>\n",
       "      <td>5</td>\n",
       "    </tr>\n",
       "    <tr>\n",
       "      <th>16.00</th>\n",
       "      <td>0.352941</td>\n",
       "      <td>17</td>\n",
       "    </tr>\n",
       "    <tr>\n",
       "      <th>17.00</th>\n",
       "      <td>0.461538</td>\n",
       "      <td>13</td>\n",
       "    </tr>\n",
       "    <tr>\n",
       "      <th>18.00</th>\n",
       "      <td>0.346154</td>\n",
       "      <td>26</td>\n",
       "    </tr>\n",
       "    <tr>\n",
       "      <th>19.00</th>\n",
       "      <td>0.360000</td>\n",
       "      <td>25</td>\n",
       "    </tr>\n",
       "    <tr>\n",
       "      <th>20.00</th>\n",
       "      <td>0.578947</td>\n",
       "      <td>38</td>\n",
       "    </tr>\n",
       "    <tr>\n",
       "      <th>20.50</th>\n",
       "      <td>0.000000</td>\n",
       "      <td>1</td>\n",
       "    </tr>\n",
       "    <tr>\n",
       "      <th>21.00</th>\n",
       "      <td>0.208333</td>\n",
       "      <td>24</td>\n",
       "    </tr>\n",
       "    <tr>\n",
       "      <th>22.00</th>\n",
       "      <td>0.407407</td>\n",
       "      <td>27</td>\n",
       "    </tr>\n",
       "    <tr>\n",
       "      <th>23.00</th>\n",
       "      <td>0.259259</td>\n",
       "      <td>27</td>\n",
       "    </tr>\n",
       "    <tr>\n",
       "      <th>23.50</th>\n",
       "      <td>0.000000</td>\n",
       "      <td>1</td>\n",
       "    </tr>\n",
       "    <tr>\n",
       "      <th>24.00</th>\n",
       "      <td>0.500000</td>\n",
       "      <td>30</td>\n",
       "    </tr>\n",
       "    <tr>\n",
       "      <th>24.50</th>\n",
       "      <td>0.000000</td>\n",
       "      <td>1</td>\n",
       "    </tr>\n",
       "    <tr>\n",
       "      <th>25.00</th>\n",
       "      <td>0.135135</td>\n",
       "      <td>74</td>\n",
       "    </tr>\n",
       "    <tr>\n",
       "      <th>26.00</th>\n",
       "      <td>0.250000</td>\n",
       "      <td>36</td>\n",
       "    </tr>\n",
       "    <tr>\n",
       "      <th>27.00</th>\n",
       "      <td>0.302326</td>\n",
       "      <td>43</td>\n",
       "    </tr>\n",
       "    <tr>\n",
       "      <th>28.00</th>\n",
       "      <td>0.280000</td>\n",
       "      <td>25</td>\n",
       "    </tr>\n",
       "    <tr>\n",
       "      <th>28.50</th>\n",
       "      <td>0.000000</td>\n",
       "      <td>2</td>\n",
       "    </tr>\n",
       "    <tr>\n",
       "      <th>29.00</th>\n",
       "      <td>0.428571</td>\n",
       "      <td>21</td>\n",
       "    </tr>\n",
       "    <tr>\n",
       "      <th>29.50</th>\n",
       "      <td>0.500000</td>\n",
       "      <td>2</td>\n",
       "    </tr>\n",
       "    <tr>\n",
       "      <th>30.00</th>\n",
       "      <td>0.363636</td>\n",
       "      <td>33</td>\n",
       "    </tr>\n",
       "    <tr>\n",
       "      <th>30.50</th>\n",
       "      <td>0.000000</td>\n",
       "      <td>2</td>\n",
       "    </tr>\n",
       "    <tr>\n",
       "      <th>31.00</th>\n",
       "      <td>0.470588</td>\n",
       "      <td>17</td>\n",
       "    </tr>\n",
       "    <tr>\n",
       "      <th>32.00</th>\n",
       "      <td>0.500000</td>\n",
       "      <td>18</td>\n",
       "    </tr>\n",
       "    <tr>\n",
       "      <th>32.50</th>\n",
       "      <td>0.500000</td>\n",
       "      <td>2</td>\n",
       "    </tr>\n",
       "    <tr>\n",
       "      <th>33.00</th>\n",
       "      <td>0.526316</td>\n",
       "      <td>19</td>\n",
       "    </tr>\n",
       "    <tr>\n",
       "      <th>34.00</th>\n",
       "      <td>0.400000</td>\n",
       "      <td>15</td>\n",
       "    </tr>\n",
       "    <tr>\n",
       "      <th>34.50</th>\n",
       "      <td>0.000000</td>\n",
       "      <td>1</td>\n",
       "    </tr>\n",
       "    <tr>\n",
       "      <th>35.00</th>\n",
       "      <td>0.611111</td>\n",
       "      <td>18</td>\n",
       "    </tr>\n",
       "    <tr>\n",
       "      <th>36.00</th>\n",
       "      <td>0.500000</td>\n",
       "      <td>22</td>\n",
       "    </tr>\n",
       "    <tr>\n",
       "      <th>36.50</th>\n",
       "      <td>0.142857</td>\n",
       "      <td>7</td>\n",
       "    </tr>\n",
       "    <tr>\n",
       "      <th>37.00</th>\n",
       "      <td>0.166667</td>\n",
       "      <td>6</td>\n",
       "    </tr>\n",
       "    <tr>\n",
       "      <th>38.00</th>\n",
       "      <td>0.625000</td>\n",
       "      <td>16</td>\n",
       "    </tr>\n",
       "    <tr>\n",
       "      <th>39.00</th>\n",
       "      <td>0.357143</td>\n",
       "      <td>14</td>\n",
       "    </tr>\n",
       "    <tr>\n",
       "      <th>40.00</th>\n",
       "      <td>0.461538</td>\n",
       "      <td>13</td>\n",
       "    </tr>\n",
       "    <tr>\n",
       "      <th>40.50</th>\n",
       "      <td>0.000000</td>\n",
       "      <td>2</td>\n",
       "    </tr>\n",
       "    <tr>\n",
       "      <th>41.00</th>\n",
       "      <td>0.333333</td>\n",
       "      <td>6</td>\n",
       "    </tr>\n",
       "    <tr>\n",
       "      <th>42.00</th>\n",
       "      <td>0.357143</td>\n",
       "      <td>28</td>\n",
       "    </tr>\n",
       "    <tr>\n",
       "      <th>43.00</th>\n",
       "      <td>0.200000</td>\n",
       "      <td>5</td>\n",
       "    </tr>\n",
       "    <tr>\n",
       "      <th>44.00</th>\n",
       "      <td>0.333333</td>\n",
       "      <td>9</td>\n",
       "    </tr>\n",
       "    <tr>\n",
       "      <th>45.00</th>\n",
       "      <td>0.416667</td>\n",
       "      <td>12</td>\n",
       "    </tr>\n",
       "    <tr>\n",
       "      <th>45.50</th>\n",
       "      <td>0.000000</td>\n",
       "      <td>2</td>\n",
       "    </tr>\n",
       "    <tr>\n",
       "      <th>46.00</th>\n",
       "      <td>0.000000</td>\n",
       "      <td>3</td>\n",
       "    </tr>\n",
       "    <tr>\n",
       "      <th>47.00</th>\n",
       "      <td>0.111111</td>\n",
       "      <td>9</td>\n",
       "    </tr>\n",
       "    <tr>\n",
       "      <th>48.00</th>\n",
       "      <td>0.666667</td>\n",
       "      <td>9</td>\n",
       "    </tr>\n",
       "    <tr>\n",
       "      <th>49.00</th>\n",
       "      <td>0.666667</td>\n",
       "      <td>6</td>\n",
       "    </tr>\n",
       "    <tr>\n",
       "      <th>50.00</th>\n",
       "      <td>0.500000</td>\n",
       "      <td>10</td>\n",
       "    </tr>\n",
       "    <tr>\n",
       "      <th>51.00</th>\n",
       "      <td>0.285714</td>\n",
       "      <td>7</td>\n",
       "    </tr>\n",
       "    <tr>\n",
       "      <th>52.00</th>\n",
       "      <td>0.500000</td>\n",
       "      <td>6</td>\n",
       "    </tr>\n",
       "    <tr>\n",
       "      <th>53.00</th>\n",
       "      <td>1.000000</td>\n",
       "      <td>1</td>\n",
       "    </tr>\n",
       "    <tr>\n",
       "      <th>54.00</th>\n",
       "      <td>0.375000</td>\n",
       "      <td>8</td>\n",
       "    </tr>\n",
       "    <tr>\n",
       "      <th>55.00</th>\n",
       "      <td>0.500000</td>\n",
       "      <td>2</td>\n",
       "    </tr>\n",
       "    <tr>\n",
       "      <th>55.50</th>\n",
       "      <td>0.000000</td>\n",
       "      <td>1</td>\n",
       "    </tr>\n",
       "    <tr>\n",
       "      <th>56.00</th>\n",
       "      <td>0.500000</td>\n",
       "      <td>4</td>\n",
       "    </tr>\n",
       "    <tr>\n",
       "      <th>57.00</th>\n",
       "      <td>0.000000</td>\n",
       "      <td>2</td>\n",
       "    </tr>\n",
       "    <tr>\n",
       "      <th>58.00</th>\n",
       "      <td>0.600000</td>\n",
       "      <td>5</td>\n",
       "    </tr>\n",
       "    <tr>\n",
       "      <th>59.00</th>\n",
       "      <td>0.000000</td>\n",
       "      <td>2</td>\n",
       "    </tr>\n",
       "    <tr>\n",
       "      <th>60.00</th>\n",
       "      <td>0.500000</td>\n",
       "      <td>4</td>\n",
       "    </tr>\n",
       "    <tr>\n",
       "      <th>61.00</th>\n",
       "      <td>0.000000</td>\n",
       "      <td>3</td>\n",
       "    </tr>\n",
       "    <tr>\n",
       "      <th>62.00</th>\n",
       "      <td>0.500000</td>\n",
       "      <td>4</td>\n",
       "    </tr>\n",
       "    <tr>\n",
       "      <th>63.00</th>\n",
       "      <td>1.000000</td>\n",
       "      <td>2</td>\n",
       "    </tr>\n",
       "    <tr>\n",
       "      <th>64.00</th>\n",
       "      <td>0.000000</td>\n",
       "      <td>2</td>\n",
       "    </tr>\n",
       "    <tr>\n",
       "      <th>65.00</th>\n",
       "      <td>0.000000</td>\n",
       "      <td>3</td>\n",
       "    </tr>\n",
       "    <tr>\n",
       "      <th>66.00</th>\n",
       "      <td>0.000000</td>\n",
       "      <td>1</td>\n",
       "    </tr>\n",
       "    <tr>\n",
       "      <th>70.00</th>\n",
       "      <td>0.000000</td>\n",
       "      <td>2</td>\n",
       "    </tr>\n",
       "    <tr>\n",
       "      <th>70.50</th>\n",
       "      <td>0.000000</td>\n",
       "      <td>1</td>\n",
       "    </tr>\n",
       "    <tr>\n",
       "      <th>71.00</th>\n",
       "      <td>0.000000</td>\n",
       "      <td>2</td>\n",
       "    </tr>\n",
       "    <tr>\n",
       "      <th>74.00</th>\n",
       "      <td>0.000000</td>\n",
       "      <td>1</td>\n",
       "    </tr>\n",
       "    <tr>\n",
       "      <th>80.00</th>\n",
       "      <td>1.000000</td>\n",
       "      <td>1</td>\n",
       "    </tr>\n",
       "  </tbody>\n",
       "</table>\n",
       "</div>"
      ],
      "text/plain": [
       "       Survived      \n",
       "           mean count\n",
       "Age                  \n",
       "0.42   1.000000     1\n",
       "0.67   1.000000     1\n",
       "0.75   1.000000     2\n",
       "0.83   1.000000     2\n",
       "0.92   1.000000     1\n",
       "1.00   0.714286     7\n",
       "2.00   0.300000    10\n",
       "3.00   0.833333     6\n",
       "4.00   0.700000    10\n",
       "5.00   1.000000     4\n",
       "6.00   0.666667     3\n",
       "7.00   0.333333     3\n",
       "8.00   0.500000     4\n",
       "9.00   0.250000     8\n",
       "10.00  0.000000     2\n",
       "11.00  0.250000     4\n",
       "12.00  1.000000     1\n",
       "13.00  1.000000     2\n",
       "14.00  0.500000     6\n",
       "14.25  0.571429     7\n",
       "14.50  0.000000     1\n",
       "15.00  0.800000     5\n",
       "16.00  0.352941    17\n",
       "17.00  0.461538    13\n",
       "18.00  0.346154    26\n",
       "19.00  0.360000    25\n",
       "20.00  0.578947    38\n",
       "20.50  0.000000     1\n",
       "21.00  0.208333    24\n",
       "22.00  0.407407    27\n",
       "23.00  0.259259    27\n",
       "23.50  0.000000     1\n",
       "24.00  0.500000    30\n",
       "24.50  0.000000     1\n",
       "25.00  0.135135    74\n",
       "26.00  0.250000    36\n",
       "27.00  0.302326    43\n",
       "28.00  0.280000    25\n",
       "28.50  0.000000     2\n",
       "29.00  0.428571    21\n",
       "29.50  0.500000     2\n",
       "30.00  0.363636    33\n",
       "30.50  0.000000     2\n",
       "31.00  0.470588    17\n",
       "32.00  0.500000    18\n",
       "32.50  0.500000     2\n",
       "33.00  0.526316    19\n",
       "34.00  0.400000    15\n",
       "34.50  0.000000     1\n",
       "35.00  0.611111    18\n",
       "36.00  0.500000    22\n",
       "36.50  0.142857     7\n",
       "37.00  0.166667     6\n",
       "38.00  0.625000    16\n",
       "39.00  0.357143    14\n",
       "40.00  0.461538    13\n",
       "40.50  0.000000     2\n",
       "41.00  0.333333     6\n",
       "42.00  0.357143    28\n",
       "43.00  0.200000     5\n",
       "44.00  0.333333     9\n",
       "45.00  0.416667    12\n",
       "45.50  0.000000     2\n",
       "46.00  0.000000     3\n",
       "47.00  0.111111     9\n",
       "48.00  0.666667     9\n",
       "49.00  0.666667     6\n",
       "50.00  0.500000    10\n",
       "51.00  0.285714     7\n",
       "52.00  0.500000     6\n",
       "53.00  1.000000     1\n",
       "54.00  0.375000     8\n",
       "55.00  0.500000     2\n",
       "55.50  0.000000     1\n",
       "56.00  0.500000     4\n",
       "57.00  0.000000     2\n",
       "58.00  0.600000     5\n",
       "59.00  0.000000     2\n",
       "60.00  0.500000     4\n",
       "61.00  0.000000     3\n",
       "62.00  0.500000     4\n",
       "63.00  1.000000     2\n",
       "64.00  0.000000     2\n",
       "65.00  0.000000     3\n",
       "66.00  0.000000     1\n",
       "70.00  0.000000     2\n",
       "70.50  0.000000     1\n",
       "71.00  0.000000     2\n",
       "74.00  0.000000     1\n",
       "80.00  1.000000     1"
      ]
     },
     "execution_count": 32,
     "metadata": {},
     "output_type": "execute_result"
    }
   ],
   "source": [
    "# Look at average survival and count of passengers by age\n",
    "training_data_2[[\"Age\", \"Survived\"]].groupby([\"Age\"], as_index = False).agg(['mean', 'count'])"
   ]
  },
  {
   "cell_type": "markdown",
   "metadata": {},
   "source": [
    "Above, I use a Kernel Density Plot to show the different distributions of ages for the surviving population and the deceased population. The goal is to see whether or not the distribution of ages for the surviving population is different than that of the deceased population. If the distributions are different, then it's possible that age plays a role in the probability of whether or not someone survived the shipwreck.\n",
    "\n",
    "The first graph (titled \"Density Plot of Age for Surviving Population and Deceased Population (Including Replaced Age Values)\") compares the distribution of ages for people who survived the shipwreck relative to people who did not survive the shipwreck. In the training dataset, ~20% people had null values for age. For the analysis, I replaced null values with the median of individuals grouped by Ticket Class, Sex, and Port of Embarkation. Note that in the first graph, the age distribution for deceased passengers and surviving passengers differs in two ways:\n",
    "\n",
    "    1. A higher proportion of surviving individuals are between the ages of ~0 and ~18\n",
    "    2. A higher proportion of deceased passengers are between the ages of ~18 and ~35\n",
    "    \n",
    "The second difference is due to replacing null ages with median values. Recall that passengers with missing age values tended to disproportionately exist in the deceased group. \n",
    "\n",
    "In the second graph, (titled \"Density Plot of Age for Surviving Population and Deceased Population (Only Including Passengers With Specified Ages)\") I plot the same Kernel Density Plot, but with passengers with Age equal to null excluded. This chart shows that The primary difference between the distribution of ages between deceased and surviving passengers is in the younger passenger group.\n",
    "\n",
    "It looks like the child passengers under the age of 16 are much more likely to survive than passengers in other age groups. Additionally, it looks like passengers in other age groups tend to have similar probabilities of surviving the shipwreck. "
   ]
  },
  {
   "cell_type": "markdown",
   "metadata": {},
   "source": [
    "### 3d. Sibling/Spouses On Board the Titanic Variable  Exploration"
   ]
  },
  {
   "cell_type": "code",
   "execution_count": 33,
   "metadata": {},
   "outputs": [
    {
     "data": {
      "image/png": "[encoded data removed]",
      "text/plain": [
       "<Figure size 1008x432 with 2 Axes>"
      ]
     },
     "metadata": {
      "needs_background": "light"
     },
     "output_type": "display_data"
    }
   ],
   "source": [
    "# Set up the figure with two subplots\n",
    "fig, (axis1,axis2) = plt.subplots(1, 2, figsize=(14,6))\n",
    "# Create a plot showing the count of observations with different numbers of siblings / spouses on board the titanic\n",
    "sns.countplot(x = 'SibSp', data = training_data_2, palette = 'Blues_r', ax = axis1)\n",
    "axis1.set_xlabel(\"Number of Siblings / Spouses On Board Titanic\")\n",
    "# Create a plot showing the proportion of with different numbers of siblings / spouses onboard the titanic who survived\n",
    "sns.barplot('SibSp', 'Survived', data = training_data_2, palette = 'Oranges_r', ax = axis2)\n",
    "axis2.set_xlabel(\"Number of Siblings / Spouses On Board Titanic\")\n",
    "plt.show()"
   ]
  },
  {
   "cell_type": "markdown",
   "metadata": {},
   "source": [
    "The vast majority of passengers in the training dataset do not have a sibling or spouse on board the titanic. While the majority of passengers on board the titanic do not have a sibling or spouse on board, there are a large number of passengers with one sibling or spouse on board the titanic. There are very few people with two or more siblings or spouses on board the titanic.\n",
    "\n",
    "There seems to be higher survivorship for people who have zero siblings/spouses on board the titanic relative to people with one sibling/spouse on board the titanic. Given that there are a low number of people with two or more siblings/spouses on board the titanic, the affect on survivorship is less clear"
   ]
  },
  {
   "cell_type": "markdown",
   "metadata": {},
   "source": [
    "### 3e. Parents/Children On Board the Titanic Variable Exploration"
   ]
  },
  {
   "cell_type": "code",
   "execution_count": 34,
   "metadata": {},
   "outputs": [
    {
     "data": {
      "image/png": "[encoded data removed]",
      "text/plain": [
       "<Figure size 1008x432 with 2 Axes>"
      ]
     },
     "metadata": {
      "needs_background": "light"
     },
     "output_type": "display_data"
    }
   ],
   "source": [
    "# Set up the figure with two subplots\n",
    "fig, (axis1,axis2) = plt.subplots(1, 2, figsize=(14,6))\n",
    "# Create a plot showing the count of observations with different numbers of parents / children on board the titanic\n",
    "sns.countplot(x = 'Parch', data = training_data_2, palette = 'Blues_r', ax = axis1)\n",
    "axis1.set_xlabel(\"Number of Parents / Children On Board Titanic\")\n",
    "# Create a plot showing the proportion of with different numbers of parents / children onboard the titanic who survived\n",
    "sns.barplot('Parch', 'Survived', data = training_data_2, palette = 'Oranges_r', ax = axis2)\n",
    "axis2.set_xlabel(\"Number of Parents / Children On Board Titanic\")\n",
    "plt.show()"
   ]
  },
  {
   "cell_type": "markdown",
   "metadata": {},
   "source": [
    "The vast majority of passengers in the training dataset do not have a parent / child on board the titanic. While the majority of passengers on board the titanic do not have a parent or child on board, there are a large number of passengers with one or two parents / children on board the titanic. There are very few people with three or more parents or children on board the titanic.\n",
    "\n",
    "There seems to be higher survivorship for people who have zero parents / children on board the titanic relative to people with one or two parents / children on board the titanic. Given that there are a low number of people with two or more parents/children on board the titanic, the affect on survivorship is less clear"
   ]
  },
  {
   "cell_type": "markdown",
   "metadata": {},
   "source": [
    "### 3f. Fare Exploration"
   ]
  },
  {
   "cell_type": "code",
   "execution_count": 35,
   "metadata": {},
   "outputs": [
    {
     "data": {
      "image/png": "[encoded data removed]",
      "text/plain": [
       "<Figure size 1080x576 with 1 Axes>"
      ]
     },
     "metadata": {
      "needs_background": "light"
     },
     "output_type": "display_data"
    }
   ],
   "source": [
    "plt.figure(figsize=(15,8))\n",
    "ax1 = sns.kdeplot(training_data_2[\"Fare\"], color=\"grey\", shade=True)\n",
    "# sns.kdeplot(training_data_2[\"Age\"], color=\"grey\", shade=True)\n",
    "plt.title('Density Plot of Fare')\n",
    "ax1.set(xlabel = 'Fare')\n",
    "plt.xlim(-10,125)\n",
    "plt.show()"
   ]
  },
  {
   "cell_type": "code",
   "execution_count": 36,
   "metadata": {},
   "outputs": [
    {
     "data": {
      "image/png": "[encoded data removed]",
      "text/plain": [
       "<Figure size 1080x576 with 1 Axes>"
      ]
     },
     "metadata": {
      "needs_background": "light"
     },
     "output_type": "display_data"
    }
   ],
   "source": [
    "plt.figure(figsize=(15,8))\n",
    "ax1 = sns.kdeplot(training_data_2[\"Fare\"][(training_data_2.Survived == 1)], color=\"royalblue\", shade=True)\n",
    "ax2 = sns.kdeplot(training_data_2[\"Fare\"][(training_data_2.Survived == 0)], color=\"orange\", shade=True)\n",
    "# sns.kdeplot(training_data_2[\"Age\"], color=\"grey\", shade=True)\n",
    "plt.legend(['Survived', 'Died'])\n",
    "plt.title('Density Plot of Ticket Fare for Surviving Population and Deceased Population')\n",
    "ax2.set(xlabel = 'Fare')\n",
    "plt.xlim(-10,125)\n",
    "plt.show()"
   ]
  },
  {
   "cell_type": "code",
   "execution_count": 37,
   "metadata": {},
   "outputs": [
    {
     "data": {
      "image/png": "[encoded data removed]",
      "text/plain": [
       "<Figure size 1080x576 with 1 Axes>"
      ]
     },
     "metadata": {
      "needs_background": "light"
     },
     "output_type": "display_data"
    }
   ],
   "source": [
    "plt.figure(figsize=(15,8))\n",
    "ax1 = sns.kdeplot(training_data_2[\"Fare\"][(training_data_2.Pclass == 1)], color = \"royalblue\")\n",
    "ax2 = sns.kdeplot(training_data_2[\"Fare\"][(training_data_2.Pclass == 2)], color = \"orange\")\n",
    "ax3 = sns.kdeplot(training_data_2[\"Fare\"][(training_data_2.Pclass == 3)], color = \"dimgray\")\n",
    "# sns.kdeplot(training_data_2[\"Age\"], color=\"grey\", shade=True)\n",
    "plt.legend(['Upper Class', 'Middle Class', 'Lower Class'])\n",
    "plt.title('Density Plot of Ticket Fare for People of Different Classes')\n",
    "ax2.set(xlabel = 'Fare')\n",
    "plt.xlim(-10,125)\n",
    "plt.show()"
   ]
  },
  {
   "cell_type": "code",
   "execution_count": 38,
   "metadata": {},
   "outputs": [
    {
     "data": {
      "image/png": "[encoded data removed]",
      "text/plain": [
       "<Figure size 1080x576 with 1 Axes>"
      ]
     },
     "metadata": {
      "needs_background": "light"
     },
     "output_type": "display_data"
    }
   ],
   "source": [
    "plt.figure(figsize=(15,8))\n",
    "ax1 = sns.kdeplot(training_data_2[\"Fare\"][(training_data_2.Survived == 1) & (training_data_2.Pclass == 1)], color=\"royalblue\", shade=True)\n",
    "ax2 = sns.kdeplot(training_data_2[\"Fare\"][(training_data_2.Survived == 0) & (training_data_2.Pclass == 1)], color=\"orange\", shade=True)\n",
    "# sns.kdeplot(training_data_2[\"Age\"], color=\"grey\", shade=True)\n",
    "plt.legend(['Survived', 'Died'])\n",
    "plt.title('Density Plot of Ticket Fare for Surviving Population and Deceased Population of Upper Class Passengers')\n",
    "ax2.set(xlabel = 'Fare')\n",
    "# plt.xlim(-10,125)\n",
    "plt.show()"
   ]
  },
  {
   "cell_type": "code",
   "execution_count": 39,
   "metadata": {},
   "outputs": [
    {
     "data": {
      "image/png": "[encoded data removed]",
      "text/plain": [
       "<Figure size 1080x576 with 1 Axes>"
      ]
     },
     "metadata": {
      "needs_background": "light"
     },
     "output_type": "display_data"
    }
   ],
   "source": [
    "plt.figure(figsize=(15,8))\n",
    "ax1 = sns.kdeplot(training_data_2[\"Fare\"][(training_data_2.Survived == 1) & (training_data_2.Pclass == 2)], color=\"royalblue\", shade=True)\n",
    "ax2 = sns.kdeplot(training_data_2[\"Fare\"][(training_data_2.Survived == 0) & (training_data_2.Pclass == 2)], color=\"orange\", shade=True)\n",
    "# sns.kdeplot(training_data_2[\"Age\"], color=\"grey\", shade=True)\n",
    "plt.legend(['Survived', 'Died'])\n",
    "plt.title('Density Plot of Ticket Fare for Surviving Population and Deceased Population of Middle Class Passengers')\n",
    "ax2.set(xlabel = 'Fare')\n",
    "# plt.xlim(-10,125)\n",
    "plt.show()"
   ]
  },
  {
   "cell_type": "code",
   "execution_count": 40,
   "metadata": {},
   "outputs": [
    {
     "data": {
      "image/png": "[encoded data removed]",
      "text/plain": [
       "<Figure size 1080x576 with 1 Axes>"
      ]
     },
     "metadata": {
      "needs_background": "light"
     },
     "output_type": "display_data"
    }
   ],
   "source": [
    "plt.figure(figsize=(15,8))\n",
    "ax1 = sns.kdeplot(training_data_2[\"Fare\"][(training_data_2.Survived == 1) & (training_data_2.Pclass == 3)], color=\"royalblue\", shade=True)\n",
    "ax2 = sns.kdeplot(training_data_2[\"Fare\"][(training_data_2.Survived == 0) & (training_data_2.Pclass == 3)], color=\"orange\", shade=True)\n",
    "# sns.kdeplot(training_data_2[\"Age\"], color=\"grey\", shade=True)\n",
    "plt.legend(['Survived', 'Died'])\n",
    "plt.title('Density Plot of Ticket Fare for Surviving Population and Deceased Population of Lower Class Passengers')\n",
    "ax2.set(xlabel = 'Fare')\n",
    "# plt.xlim(-10,125)\n",
    "plt.show()"
   ]
  },
  {
   "cell_type": "code",
   "execution_count": 41,
   "metadata": {},
   "outputs": [],
   "source": [
    "# training_data_2.drop(columns = [\"Fare\"], inplace = True)\n",
    "# testing_data_2.drop(columns = [\"Fare\"], inplace = True)"
   ]
  },
  {
   "cell_type": "markdown",
   "metadata": {},
   "source": [
    "Above are a series of kernel density plots that show the following:\n",
    "    1. Distribution of the \"Fare\" variable as a whole\n",
    "    2. Distribution of the \"Fare\" variable for people who survived the shipwreck relative to people who did not survive the shipwreck\n",
    "    3. Distribution of the \"Fare\" variable for people who are upper class, middle class, and lower class ticket holders\n",
    "    4. Distribution of the \"Fare\" variable for upper class ticket holders who survived the shipwreck relative to upper class ticketholders who did not survive the shipwreck\n",
    "    5. Distribution of the \"Fare\" variable for middle class ticket holders who survived the shipwreck relative to middle class ticketholders who did not survive the shipwreck\n",
    "    6. Distribution of the \"Fare\" variable for lower class ticket holders who survived the shipwreck relative to lower class ticketholders who did not survive the shipwreck\n",
    "\n",
    "The \"Fare\" variable is right skewed with a small proportion of passengers paying very high prices (100 dollars and up) and a large proportion of passengers paying between 0 dollars and 40 dollars. In general, the passengers who survived tended to pay higher prices. Additionally, people of different ticket classes paid substantially different ticket prices (upper class ticket holders tended to pay the highest ticket prices, followed by middle class ticket holders, and lower class ticket holders). The distribution of fare for upper class survivors was similar to the distribution of fare for upper class deceased passengers. The distribution of fare for middle class survivors was similar to the distribution of fare for middle class deceased passengers. The distribution of fare for lower class survivors was similar to the distribution of fare for lower class deceased passengers.\n",
    "\n",
    "Ultimately, while it does appear that passengers who paid higher prices tended to be more likely to survive, it also appears that fare is very heavily related to ticket class. As a result, ticket class is likely a better predictor of survivorship than ticket fare."
   ]
  },
  {
   "cell_type": "markdown",
   "metadata": {},
   "source": [
    "### 3g. Port of Embarkation Exploration"
   ]
  },
  {
   "cell_type": "code",
   "execution_count": 42,
   "metadata": {},
   "outputs": [
    {
     "data": {
      "image/png": "[encoded data removed]",
      "text/plain": [
       "<Figure size 1008x432 with 2 Axes>"
      ]
     },
     "metadata": {
      "needs_background": "light"
     },
     "output_type": "display_data"
    }
   ],
   "source": [
    "# Set up the figure with two subplots\n",
    "fig, (axis1,axis2) = plt.subplots(1, 2, figsize=(14,6))\n",
    "# Create a plot showing the count of observations of passengers leaving from different ports\n",
    "sns.countplot(x = 'Embarked', data = training_data_2, palette = 'Blues_r', ax = axis1)\n",
    "axis1.set_xlabel(\"Port of Embarkation\")\n",
    "axis1.set_xticklabels([\"Cherbourg\",\"Queenstown\", \"Southampton\"])\n",
    "# Create a plot showing the proportion of with different numbers of passengers leaving from different ports\n",
    "sns.barplot('Embarked', 'Survived', data = training_data_2, palette = 'Oranges_r', ax = axis2)\n",
    "axis2.set_xlabel(\"Port of Embarkation\")\n",
    "axis2.set_xticklabels([\"Cherbourg\",\"Queenstown\", \"Southampton\"])\n",
    "plt.show()"
   ]
  },
  {
   "cell_type": "markdown",
   "metadata": {},
   "source": [
    "The vast majority of passengers leave from Cherbourg. It appears that passengers from some ports are more likely to survive the shipwreck than others."
   ]
  },
  {
   "cell_type": "markdown",
   "metadata": {},
   "source": [
    "# 4. Feature Engineering"
   ]
  },
  {
   "cell_type": "markdown",
   "metadata": {},
   "source": [
    "### 4a. Isolating the Effect of Age"
   ]
  },
  {
   "cell_type": "code",
   "execution_count": 43,
   "metadata": {},
   "outputs": [],
   "source": [
    "# Making children be defined as under 16 and adults defined as all other ages\n",
    "training_data_2[\"ChildAdult\"] = pd.cut(training_data_2['Age'],[0,16,81],  labels = ['child', 'adult'], right = False)\n",
    "testing_data_2[\"ChildAdult\"] = pd.cut(testing_data_2['Age'],[0,16,81],  labels = ['child', 'adult'], right = False)"
   ]
  },
  {
   "cell_type": "code",
   "execution_count": 44,
   "metadata": {},
   "outputs": [
    {
     "data": {
      "image/png": "[encoded data removed]",
      "text/plain": [
       "<Figure size 1008x432 with 2 Axes>"
      ]
     },
     "metadata": {
      "needs_background": "light"
     },
     "output_type": "display_data"
    }
   ],
   "source": [
    "# Set up the figure with two subplots\n",
    "fig, (axis1,axis2) = plt.subplots(1, 2, figsize=(14,6))\n",
    "# Create a plot showing the count of observations with different numbers of parents / children on board the titanic\n",
    "sns.countplot(x = 'ChildAdult', data = training_data_2, palette = 'Blues_r', ax = axis1)\n",
    "axis1.set_xlabel(\"Child or Adult\")\n",
    "# Create a plot showing the proportion of with different numbers of family members onboard the titanic who survived\n",
    "sns.barplot('ChildAdult', 'Survived', data = training_data_2, palette = 'Oranges_r', ax = axis2)\n",
    "axis2.set_xlabel(\"Child or Adult\")\n",
    "plt.show()"
   ]
  },
  {
   "cell_type": "code",
   "execution_count": 45,
   "metadata": {},
   "outputs": [],
   "source": [
    "# Drop the Age variables because the effect is being captured in another way\n",
    "training_data_2.drop(columns = [\"Age\"], inplace = True)\n",
    "testing_data_2.drop(columns = [\"Age\"], inplace = True)"
   ]
  },
  {
   "cell_type": "markdown",
   "metadata": {},
   "source": [
    "Children are more likely to survive the shipwreck than adults. I capture children as passengers under the age of 16 and adults as all other passengers."
   ]
  },
  {
   "cell_type": "markdown",
   "metadata": {},
   "source": [
    "### 4b. Resolving Parents/Children on Board and Siblings/Spouses on Board Variables"
   ]
  },
  {
   "cell_type": "code",
   "execution_count": 46,
   "metadata": {},
   "outputs": [],
   "source": [
    "# Create family size variable\n",
    "training_data_2['FamilySize'] = training_data_2['SibSp'] + training_data_2['Parch']\n",
    "testing_data_2['FamilySize'] = testing_data_2['SibSp'] + testing_data_2['Parch']"
   ]
  },
  {
   "cell_type": "code",
   "execution_count": 47,
   "metadata": {},
   "outputs": [
    {
     "data": {
      "image/png": "[encoded data removed]",
      "text/plain": [
       "<Figure size 1008x432 with 2 Axes>"
      ]
     },
     "metadata": {
      "needs_background": "light"
     },
     "output_type": "display_data"
    }
   ],
   "source": [
    "# Set up the figure with two subplots\n",
    "fig, (axis1,axis2) = plt.subplots(1, 2, figsize=(14,6))\n",
    "# Create a plot showing the count of observations with different numbers of parents / children on board the titanic\n",
    "sns.countplot(x = 'FamilySize', data = training_data_2, palette = 'Blues_r', ax = axis1)\n",
    "axis1.set_xlabel(\"Family Size\")\n",
    "# Create a plot showing the proportion of with different numbers of family members onboard the titanic who survived\n",
    "sns.barplot('FamilySize', 'Survived', data = training_data_2, palette = 'Oranges_r', ax = axis2)\n",
    "axis2.set_xlabel(\"Family Size\")\n",
    "plt.show()"
   ]
  },
  {
   "cell_type": "code",
   "execution_count": 48,
   "metadata": {},
   "outputs": [],
   "source": [
    "# Create travel alone variable\n",
    "training_data_2['WithFamily'] = np.where((training_data_2['FamilySize'] > 0), 1, 0)\n",
    "testing_data_2['WithFamily'] = np.where((testing_data_2['FamilySize'] > 0), 1, 0)"
   ]
  },
  {
   "cell_type": "code",
   "execution_count": 49,
   "metadata": {},
   "outputs": [
    {
     "data": {
      "image/png": "[encoded data removed]",
      "text/plain": [
       "<Figure size 1008x432 with 2 Axes>"
      ]
     },
     "metadata": {
      "needs_background": "light"
     },
     "output_type": "display_data"
    }
   ],
   "source": [
    "# Set up the figure with two subplots\n",
    "fig, (axis1,axis2) = plt.subplots(1, 2, figsize=(14,6))\n",
    "# Create a plot showing the count of observations with different numbers of parents / children on board the titanic\n",
    "sns.countplot(x = 'WithFamily', data = training_data_2, palette = 'Blues_r', ax = axis1)\n",
    "axis1.set_xlabel(\"Passengers\")\n",
    "axis1.set_xticklabels([\"Travel Alone\",\"Travel with Family\"])\n",
    "# Create a plot showing the proportion of with different numbers of family members onboard the titanic who survived\n",
    "sns.barplot('WithFamily', 'Survived', data = training_data_2, palette = 'Oranges_r', ax = axis2)\n",
    "axis2.set_xlabel(\"Passengers\")\n",
    "axis2.set_xticklabels([\"Travel Alone\",\"Travel with Family\"])\n",
    "plt.show()"
   ]
  },
  {
   "cell_type": "code",
   "execution_count": 50,
   "metadata": {},
   "outputs": [],
   "source": [
    "# Drop the SibSp, Parch, and FamilySize variables because the effect is being captured in another way\n",
    "training_data_2.drop(columns = [\"SibSp\", \"Parch\", \"FamilySize\"], inplace = True)\n",
    "testing_data_2.drop(columns = [\"SibSp\", \"Parch\", \"FamilySize\"], inplace = True)"
   ]
  },
  {
   "cell_type": "markdown",
   "metadata": {},
   "source": [
    "The variables that capture the number of parents/children she/he is traveling with and the number of siblings/spouses she/he is traveling with are not very readable and I don't have a good reason for keeping them as separate variables. \n",
    "\n",
    "I combine the variables into one FamilySize variable that captures the number of family members the passenger is traveling with. \n",
    "\n",
    "It appears that passengers traveling alone are significantly less likely to survive the shipwreck than passengers traveling with family. This is possibly due to the fact that passengers traveling alone are disproportionately male. This could also be because traveling with family means that a passenger is more likely to travel with a woman or child -- both of whom are types of passengers that have better odds of surviving the shipwreck.\n",
    "\n",
    "I isolate the effect by creating a variable that captures whether or not a passenger is traveling with family.  "
   ]
  },
  {
   "cell_type": "markdown",
   "metadata": {},
   "source": [
    "# 5. Logistic Regression"
   ]
  },
  {
   "cell_type": "markdown",
   "metadata": {},
   "source": [
    "### 5a. Background"
   ]
  },
  {
   "cell_type": "markdown",
   "metadata": {},
   "source": [
    "Logistic regression models the natural log of the odds ratio (logit) of a binary variable of a binar binary variable as its dependent variable. It is used to model the probability of an event occuring. Coefficients for the independent variables in a logistic regression are calculated using the maximum likelihood estimation."
   ]
  },
  {
   "cell_type": "markdown",
   "metadata": {},
   "source": [
    "### 5b. Preparation of variables"
   ]
  },
  {
   "cell_type": "code",
   "execution_count": 51,
   "metadata": {},
   "outputs": [],
   "source": [
    "# Drop remaining leftover columns that we're not using\n",
    "training_data_2.drop(columns = [\"Name\", \"Ticket\"], inplace = True)\n",
    "testing_data_2.drop(columns = [\"Name\", \"Ticket\"], inplace = True)"
   ]
  },
  {
   "cell_type": "code",
   "execution_count": 52,
   "metadata": {},
   "outputs": [],
   "source": [
    "# Create binary variables for all categorical variables\n",
    "training_data_2 = pd.get_dummies(training_data_2, columns = [\"Sex\",\"Embarked\", \"ChildAdult\"], drop_first = True)\n",
    "testing_data_2 = pd.get_dummies(testing_data_2, columns = [\"Sex\",\"Embarked\", \"ChildAdult\"], drop_first = True)"
   ]
  },
  {
   "cell_type": "code",
   "execution_count": 53,
   "metadata": {},
   "outputs": [],
   "source": [
    "# Apply standard scaler to 'Fare' column\n",
    "fare = training_data_2[[\"Fare\"]].values\n",
    "fare = StandardScaler().fit_transform(fare)\n",
    "training_data_2[\"Fare\"] = fare"
   ]
  },
  {
   "cell_type": "code",
   "execution_count": 54,
   "metadata": {},
   "outputs": [
    {
     "data": {
      "text/html": [
       "<div>\n",
       "<style scoped>\n",
       "    .dataframe tbody tr th:only-of-type {\n",
       "        vertical-align: middle;\n",
       "    }\n",
       "\n",
       "    .dataframe tbody tr th {\n",
       "        vertical-align: top;\n",
       "    }\n",
       "\n",
       "    .dataframe thead th {\n",
       "        text-align: right;\n",
       "    }\n",
       "</style>\n",
       "<table border=\"1\" class=\"dataframe\">\n",
       "  <thead>\n",
       "    <tr style=\"text-align: right;\">\n",
       "      <th></th>\n",
       "      <th>Survived</th>\n",
       "      <th>Pclass</th>\n",
       "      <th>Fare</th>\n",
       "      <th>WithFamily</th>\n",
       "      <th>Sex_male</th>\n",
       "      <th>Embarked_Q</th>\n",
       "      <th>Embarked_S</th>\n",
       "      <th>ChildAdult_adult</th>\n",
       "    </tr>\n",
       "    <tr>\n",
       "      <th>PassengerId</th>\n",
       "      <th></th>\n",
       "      <th></th>\n",
       "      <th></th>\n",
       "      <th></th>\n",
       "      <th></th>\n",
       "      <th></th>\n",
       "      <th></th>\n",
       "      <th></th>\n",
       "    </tr>\n",
       "  </thead>\n",
       "  <tbody>\n",
       "    <tr>\n",
       "      <th>1</th>\n",
       "      <td>0</td>\n",
       "      <td>3</td>\n",
       "      <td>-0.502445</td>\n",
       "      <td>1</td>\n",
       "      <td>1</td>\n",
       "      <td>0</td>\n",
       "      <td>1</td>\n",
       "      <td>1</td>\n",
       "    </tr>\n",
       "    <tr>\n",
       "      <th>2</th>\n",
       "      <td>1</td>\n",
       "      <td>1</td>\n",
       "      <td>0.786845</td>\n",
       "      <td>1</td>\n",
       "      <td>0</td>\n",
       "      <td>0</td>\n",
       "      <td>0</td>\n",
       "      <td>1</td>\n",
       "    </tr>\n",
       "    <tr>\n",
       "      <th>3</th>\n",
       "      <td>1</td>\n",
       "      <td>3</td>\n",
       "      <td>-0.488854</td>\n",
       "      <td>0</td>\n",
       "      <td>0</td>\n",
       "      <td>0</td>\n",
       "      <td>1</td>\n",
       "      <td>1</td>\n",
       "    </tr>\n",
       "    <tr>\n",
       "      <th>4</th>\n",
       "      <td>1</td>\n",
       "      <td>1</td>\n",
       "      <td>0.420730</td>\n",
       "      <td>1</td>\n",
       "      <td>0</td>\n",
       "      <td>0</td>\n",
       "      <td>1</td>\n",
       "      <td>1</td>\n",
       "    </tr>\n",
       "    <tr>\n",
       "      <th>5</th>\n",
       "      <td>0</td>\n",
       "      <td>3</td>\n",
       "      <td>-0.486337</td>\n",
       "      <td>0</td>\n",
       "      <td>1</td>\n",
       "      <td>0</td>\n",
       "      <td>1</td>\n",
       "      <td>1</td>\n",
       "    </tr>\n",
       "  </tbody>\n",
       "</table>\n",
       "</div>"
      ],
      "text/plain": [
       "             Survived  Pclass      Fare  WithFamily  Sex_male  Embarked_Q  \\\n",
       "PassengerId                                                                 \n",
       "1                   0       3 -0.502445           1         1           0   \n",
       "2                   1       1  0.786845           1         0           0   \n",
       "3                   1       3 -0.488854           0         0           0   \n",
       "4                   1       1  0.420730           1         0           0   \n",
       "5                   0       3 -0.486337           0         1           0   \n",
       "\n",
       "             Embarked_S  ChildAdult_adult  \n",
       "PassengerId                                \n",
       "1                     1                 1  \n",
       "2                     0                 1  \n",
       "3                     1                 1  \n",
       "4                     1                 1  \n",
       "5                     1                 1  "
      ]
     },
     "execution_count": 54,
     "metadata": {},
     "output_type": "execute_result"
    }
   ],
   "source": [
    "# Take a look at the final dataset\n",
    "training_data_2.head()"
   ]
  },
  {
   "cell_type": "code",
   "execution_count": 55,
   "metadata": {},
   "outputs": [],
   "source": [
    "# Define the dependent and independent variables\n",
    "y = training_data_2.iloc[:,0].values\n",
    "X = training_data_2.iloc[:,1:].values"
   ]
  },
  {
   "cell_type": "markdown",
   "metadata": {},
   "source": [
    "In order to prepare the dataset for logistic regression, I change change the nominal variables (Sex, Embarked, and ChildAdult) into separate binary variables for each of the classifications. For example, \"Embarked\" has a separate binary variable for whether or not the passenger embarked from Cherbourg, Queenstown, or Southhampton. Then, I remove one of the binary variables from each in order to avoid perfect multicollinearity in between the independent variables. For example, If I just include the binary variables indicating if the passenger embarked from \"Queenstown\" or \"Southhampton\", I don't include the binary variable indicating whether or not the passenger embarked from \"Cherbourg\" because the effect of a passenger embarking from \"Cherbourg\" is already captured in the intercept term. \n",
    "\n",
    "Coefficients in the logistic regression are created using gradient descent. As a result, it's important to apply feature scaling to variables with wide ranges to ensure that the conversion to the global minimum (the gradient descent process that happens to create the coefficients) happens more quickly. It's also important weigh the pros of improvements to model efficiency that feature scaling provides with the cons of the loss of meaning to coefficients that happens after feature scaling is applied. \n",
    "\n",
    "Pclass is a variable that indicates whether a passenger is upper class, middle class, or lower class on the ship. The variable is originally indicated as 1 (upper), 2 (middle), or 3 (lower). I kept this variable indicated as 1, 2, or 3 in order to preserve the ordinal quality ofthe data. Additionally, I opted not to normalize this variable or scale it down. This is because the variable doesn't get very large (only goes up to three) so I determined that maintaining the interpretability of this variable was more important than any marginal efficiency gains the model would benefit from after scaling this variable down.\n",
    "\n",
    "Fare is a variable that indicates the price the passenger paid for her/his ticket. This variable ranges from $0 to over $500. As a result of this wide range, I opted to standardize the variable. This means, I scaled down the feature based on the normal distrbution so that the mean of the variable is ~0 and the standard deviation of the variable is ~1."
   ]
  },
  {
   "cell_type": "markdown",
   "metadata": {},
   "source": [
    "### 5c. Finalizing the variables to go into Logistic Regression"
   ]
  },
  {
   "cell_type": "code",
   "execution_count": 56,
   "metadata": {},
   "outputs": [
    {
     "name": "stdout",
     "output_type": "stream",
     "text": [
      "Optimization terminated successfully.\n",
      "         Current function value: 0.507328\n",
      "         Iterations 6\n"
     ]
    }
   ],
   "source": [
    "# Fit a logistic model to the data\n",
    "classifier_2 = sm.Logit(endog = y, exog = X).fit()"
   ]
  },
  {
   "cell_type": "code",
   "execution_count": 57,
   "metadata": {},
   "outputs": [
    {
     "data": {
      "text/html": [
       "<table class=\"simpletable\">\n",
       "<caption>Logit Regression Results</caption>\n",
       "<tr>\n",
       "  <th>Dep. Variable:</th>         <td>y</td>        <th>  No. Observations:  </th>  <td>   891</td>  \n",
       "</tr>\n",
       "<tr>\n",
       "  <th>Model:</th>               <td>Logit</td>      <th>  Df Residuals:      </th>  <td>   884</td>  \n",
       "</tr>\n",
       "<tr>\n",
       "  <th>Method:</th>               <td>MLE</td>       <th>  Df Model:          </th>  <td>     6</td>  \n",
       "</tr>\n",
       "<tr>\n",
       "  <th>Date:</th>          <td>Mon, 25 May 2020</td> <th>  Pseudo R-squ.:     </th>  <td>0.2381</td>  \n",
       "</tr>\n",
       "<tr>\n",
       "  <th>Time:</th>              <td>22:59:30</td>     <th>  Log-Likelihood:    </th> <td> -452.03</td> \n",
       "</tr>\n",
       "<tr>\n",
       "  <th>converged:</th>           <td>True</td>       <th>  LL-Null:           </th> <td> -593.33</td> \n",
       "</tr>\n",
       "<tr>\n",
       "  <th> </th>                      <td> </td>        <th>  LLR p-value:       </th> <td>4.369e-58</td>\n",
       "</tr>\n",
       "</table>\n",
       "<table class=\"simpletable\">\n",
       "<tr>\n",
       "   <td></td>     <th>coef</th>     <th>std err</th>      <th>z</th>      <th>P>|z|</th>  <th>[0.025</th>    <th>0.975]</th>  \n",
       "</tr>\n",
       "<tr>\n",
       "  <th>x1</th> <td>   -0.1745</td> <td>    0.094</td> <td>   -1.854</td> <td> 0.064</td> <td>   -0.359</td> <td>    0.010</td>\n",
       "</tr>\n",
       "<tr>\n",
       "  <th>x2</th> <td>    0.3586</td> <td>    0.118</td> <td>    3.048</td> <td> 0.002</td> <td>    0.128</td> <td>    0.589</td>\n",
       "</tr>\n",
       "<tr>\n",
       "  <th>x3</th> <td>    0.5656</td> <td>    0.174</td> <td>    3.247</td> <td> 0.001</td> <td>    0.224</td> <td>    0.907</td>\n",
       "</tr>\n",
       "<tr>\n",
       "  <th>x4</th> <td>   -2.0408</td> <td>    0.171</td> <td>  -11.928</td> <td> 0.000</td> <td>   -2.376</td> <td>   -1.705</td>\n",
       "</tr>\n",
       "<tr>\n",
       "  <th>x5</th> <td>    0.2925</td> <td>    0.351</td> <td>    0.833</td> <td> 0.405</td> <td>   -0.396</td> <td>    0.981</td>\n",
       "</tr>\n",
       "<tr>\n",
       "  <th>x6</th> <td>    0.1019</td> <td>    0.216</td> <td>    0.472</td> <td> 0.637</td> <td>   -0.322</td> <td>    0.525</td>\n",
       "</tr>\n",
       "<tr>\n",
       "  <th>x7</th> <td>    0.7745</td> <td>    0.217</td> <td>    3.567</td> <td> 0.000</td> <td>    0.349</td> <td>    1.200</td>\n",
       "</tr>\n",
       "</table>"
      ],
      "text/plain": [
       "<class 'statsmodels.iolib.summary.Summary'>\n",
       "\"\"\"\n",
       "                           Logit Regression Results                           \n",
       "==============================================================================\n",
       "Dep. Variable:                      y   No. Observations:                  891\n",
       "Model:                          Logit   Df Residuals:                      884\n",
       "Method:                           MLE   Df Model:                            6\n",
       "Date:                Mon, 25 May 2020   Pseudo R-squ.:                  0.2381\n",
       "Time:                        22:59:30   Log-Likelihood:                -452.03\n",
       "converged:                       True   LL-Null:                       -593.33\n",
       "                                        LLR p-value:                 4.369e-58\n",
       "==============================================================================\n",
       "                 coef    std err          z      P>|z|      [0.025      0.975]\n",
       "------------------------------------------------------------------------------\n",
       "x1            -0.1745      0.094     -1.854      0.064      -0.359       0.010\n",
       "x2             0.3586      0.118      3.048      0.002       0.128       0.589\n",
       "x3             0.5656      0.174      3.247      0.001       0.224       0.907\n",
       "x4            -2.0408      0.171    -11.928      0.000      -2.376      -1.705\n",
       "x5             0.2925      0.351      0.833      0.405      -0.396       0.981\n",
       "x6             0.1019      0.216      0.472      0.637      -0.322       0.525\n",
       "x7             0.7745      0.217      3.567      0.000       0.349       1.200\n",
       "==============================================================================\n",
       "\"\"\""
      ]
     },
     "execution_count": 57,
     "metadata": {},
     "output_type": "execute_result"
    }
   ],
   "source": [
    "# Show coefficients of the logistic regression\n",
    "classifier_2.summary()"
   ]
  },
  {
   "cell_type": "code",
   "execution_count": 58,
   "metadata": {},
   "outputs": [],
   "source": [
    "# The \"Embarked_Q\" variable (Binary variable indicating whether or not the individual embarked the Titanic from the Queenstown port) has a high p-value revealing that the variable is not statistically significant in this model. Removing the Embarked_Q variable\n",
    "X = np.delete(X,5, axis = 1)"
   ]
  },
  {
   "cell_type": "code",
   "execution_count": 59,
   "metadata": {},
   "outputs": [
    {
     "name": "stdout",
     "output_type": "stream",
     "text": [
      "Optimization terminated successfully.\n",
      "         Current function value: 0.507454\n",
      "         Iterations 6\n"
     ]
    }
   ],
   "source": [
    "# Fit a logistic model to the data (with the \"Embarked_Q\" variable removed) \n",
    "classifier_2 = sm.Logit(endog = y, exog = X).fit()"
   ]
  },
  {
   "cell_type": "code",
   "execution_count": 60,
   "metadata": {},
   "outputs": [
    {
     "data": {
      "text/html": [
       "<table class=\"simpletable\">\n",
       "<caption>Logit Regression Results</caption>\n",
       "<tr>\n",
       "  <th>Dep. Variable:</th>         <td>y</td>        <th>  No. Observations:  </th>  <td>   891</td>  \n",
       "</tr>\n",
       "<tr>\n",
       "  <th>Model:</th>               <td>Logit</td>      <th>  Df Residuals:      </th>  <td>   885</td>  \n",
       "</tr>\n",
       "<tr>\n",
       "  <th>Method:</th>               <td>MLE</td>       <th>  Df Model:          </th>  <td>     5</td>  \n",
       "</tr>\n",
       "<tr>\n",
       "  <th>Date:</th>          <td>Mon, 25 May 2020</td> <th>  Pseudo R-squ.:     </th>  <td>0.2380</td>  \n",
       "</tr>\n",
       "<tr>\n",
       "  <th>Time:</th>              <td>22:59:30</td>     <th>  Log-Likelihood:    </th> <td> -452.14</td> \n",
       "</tr>\n",
       "<tr>\n",
       "  <th>converged:</th>           <td>True</td>       <th>  LL-Null:           </th> <td> -593.33</td> \n",
       "</tr>\n",
       "<tr>\n",
       "  <th> </th>                      <td> </td>        <th>  LLR p-value:       </th> <td>6.154e-59</td>\n",
       "</tr>\n",
       "</table>\n",
       "<table class=\"simpletable\">\n",
       "<tr>\n",
       "   <td></td>     <th>coef</th>     <th>std err</th>      <th>z</th>      <th>P>|z|</th>  <th>[0.025</th>    <th>0.975]</th>  \n",
       "</tr>\n",
       "<tr>\n",
       "  <th>x1</th> <td>   -0.1576</td> <td>    0.087</td> <td>   -1.811</td> <td> 0.070</td> <td>   -0.328</td> <td>    0.013</td>\n",
       "</tr>\n",
       "<tr>\n",
       "  <th>x2</th> <td>    0.3549</td> <td>    0.118</td> <td>    3.019</td> <td> 0.003</td> <td>    0.125</td> <td>    0.585</td>\n",
       "</tr>\n",
       "<tr>\n",
       "  <th>x3</th> <td>    0.5747</td> <td>    0.173</td> <td>    3.321</td> <td> 0.001</td> <td>    0.236</td> <td>    0.914</td>\n",
       "</tr>\n",
       "<tr>\n",
       "  <th>x4</th> <td>   -2.0352</td> <td>    0.171</td> <td>  -11.919</td> <td> 0.000</td> <td>   -2.370</td> <td>   -1.701</td>\n",
       "</tr>\n",
       "<tr>\n",
       "  <th>x5</th> <td>    0.2012</td> <td>    0.293</td> <td>    0.688</td> <td> 0.492</td> <td>   -0.372</td> <td>    0.775</td>\n",
       "</tr>\n",
       "<tr>\n",
       "  <th>x6</th> <td>    0.8125</td> <td>    0.202</td> <td>    4.018</td> <td> 0.000</td> <td>    0.416</td> <td>    1.209</td>\n",
       "</tr>\n",
       "</table>"
      ],
      "text/plain": [
       "<class 'statsmodels.iolib.summary.Summary'>\n",
       "\"\"\"\n",
       "                           Logit Regression Results                           \n",
       "==============================================================================\n",
       "Dep. Variable:                      y   No. Observations:                  891\n",
       "Model:                          Logit   Df Residuals:                      885\n",
       "Method:                           MLE   Df Model:                            5\n",
       "Date:                Mon, 25 May 2020   Pseudo R-squ.:                  0.2380\n",
       "Time:                        22:59:30   Log-Likelihood:                -452.14\n",
       "converged:                       True   LL-Null:                       -593.33\n",
       "                                        LLR p-value:                 6.154e-59\n",
       "==============================================================================\n",
       "                 coef    std err          z      P>|z|      [0.025      0.975]\n",
       "------------------------------------------------------------------------------\n",
       "x1            -0.1576      0.087     -1.811      0.070      -0.328       0.013\n",
       "x2             0.3549      0.118      3.019      0.003       0.125       0.585\n",
       "x3             0.5747      0.173      3.321      0.001       0.236       0.914\n",
       "x4            -2.0352      0.171    -11.919      0.000      -2.370      -1.701\n",
       "x5             0.2012      0.293      0.688      0.492      -0.372       0.775\n",
       "x6             0.8125      0.202      4.018      0.000       0.416       1.209\n",
       "==============================================================================\n",
       "\"\"\""
      ]
     },
     "execution_count": 60,
     "metadata": {},
     "output_type": "execute_result"
    }
   ],
   "source": [
    "# Show coefficients of the logistic regression\n",
    "classifier_2.summary()"
   ]
  },
  {
   "cell_type": "code",
   "execution_count": 61,
   "metadata": {},
   "outputs": [],
   "source": [
    "# The \"Embarked_S\" variable (Binary variable indicating whether or not the individual embarked the Titanic from the Southhampton port) has a high p-value revealing that the variable is not statistically significant in this model. Removing the Embarked_S variable\n",
    "X = np.delete(X,4, axis = 1)"
   ]
  },
  {
   "cell_type": "code",
   "execution_count": 62,
   "metadata": {},
   "outputs": [
    {
     "name": "stdout",
     "output_type": "stream",
     "text": [
      "Optimization terminated successfully.\n",
      "         Current function value: 0.507717\n",
      "         Iterations 6\n"
     ]
    }
   ],
   "source": [
    "# Fit a logistic model to the data (with the \"Embarked_Q\" and \"Embarked_Q\" variables removed)\n",
    "classifier_2 = sm.Logit(endog = y, exog = X).fit()"
   ]
  },
  {
   "cell_type": "code",
   "execution_count": 63,
   "metadata": {},
   "outputs": [
    {
     "data": {
      "text/html": [
       "<table class=\"simpletable\">\n",
       "<caption>Logit Regression Results</caption>\n",
       "<tr>\n",
       "  <th>Dep. Variable:</th>         <td>y</td>        <th>  No. Observations:  </th>  <td>   891</td>  \n",
       "</tr>\n",
       "<tr>\n",
       "  <th>Model:</th>               <td>Logit</td>      <th>  Df Residuals:      </th>  <td>   886</td>  \n",
       "</tr>\n",
       "<tr>\n",
       "  <th>Method:</th>               <td>MLE</td>       <th>  Df Model:          </th>  <td>     4</td>  \n",
       "</tr>\n",
       "<tr>\n",
       "  <th>Date:</th>          <td>Mon, 25 May 2020</td> <th>  Pseudo R-squ.:     </th>  <td>0.2376</td>  \n",
       "</tr>\n",
       "<tr>\n",
       "  <th>Time:</th>              <td>22:59:30</td>     <th>  Log-Likelihood:    </th> <td> -452.38</td> \n",
       "</tr>\n",
       "<tr>\n",
       "  <th>converged:</th>           <td>True</td>       <th>  LL-Null:           </th> <td> -593.33</td> \n",
       "</tr>\n",
       "<tr>\n",
       "  <th> </th>                      <td> </td>        <th>  LLR p-value:       </th> <td>8.660e-60</td>\n",
       "</tr>\n",
       "</table>\n",
       "<table class=\"simpletable\">\n",
       "<tr>\n",
       "   <td></td>     <th>coef</th>     <th>std err</th>      <th>z</th>      <th>P>|z|</th>  <th>[0.025</th>    <th>0.975]</th>  \n",
       "</tr>\n",
       "<tr>\n",
       "  <th>x1</th> <td>   -0.1440</td> <td>    0.085</td> <td>   -1.700</td> <td> 0.089</td> <td>   -0.310</td> <td>    0.022</td>\n",
       "</tr>\n",
       "<tr>\n",
       "  <th>x2</th> <td>    0.3550</td> <td>    0.118</td> <td>    3.017</td> <td> 0.003</td> <td>    0.124</td> <td>    0.586</td>\n",
       "</tr>\n",
       "<tr>\n",
       "  <th>x3</th> <td>    0.5584</td> <td>    0.171</td> <td>    3.257</td> <td> 0.001</td> <td>    0.222</td> <td>    0.894</td>\n",
       "</tr>\n",
       "<tr>\n",
       "  <th>x4</th> <td>   -2.0534</td> <td>    0.169</td> <td>  -12.145</td> <td> 0.000</td> <td>   -2.385</td> <td>   -1.722</td>\n",
       "</tr>\n",
       "<tr>\n",
       "  <th>x5</th> <td>    0.8200</td> <td>    0.202</td> <td>    4.051</td> <td> 0.000</td> <td>    0.423</td> <td>    1.217</td>\n",
       "</tr>\n",
       "</table>"
      ],
      "text/plain": [
       "<class 'statsmodels.iolib.summary.Summary'>\n",
       "\"\"\"\n",
       "                           Logit Regression Results                           \n",
       "==============================================================================\n",
       "Dep. Variable:                      y   No. Observations:                  891\n",
       "Model:                          Logit   Df Residuals:                      886\n",
       "Method:                           MLE   Df Model:                            4\n",
       "Date:                Mon, 25 May 2020   Pseudo R-squ.:                  0.2376\n",
       "Time:                        22:59:30   Log-Likelihood:                -452.38\n",
       "converged:                       True   LL-Null:                       -593.33\n",
       "                                        LLR p-value:                 8.660e-60\n",
       "==============================================================================\n",
       "                 coef    std err          z      P>|z|      [0.025      0.975]\n",
       "------------------------------------------------------------------------------\n",
       "x1            -0.1440      0.085     -1.700      0.089      -0.310       0.022\n",
       "x2             0.3550      0.118      3.017      0.003       0.124       0.586\n",
       "x3             0.5584      0.171      3.257      0.001       0.222       0.894\n",
       "x4            -2.0534      0.169    -12.145      0.000      -2.385      -1.722\n",
       "x5             0.8200      0.202      4.051      0.000       0.423       1.217\n",
       "==============================================================================\n",
       "\"\"\""
      ]
     },
     "execution_count": 63,
     "metadata": {},
     "output_type": "execute_result"
    }
   ],
   "source": [
    "# Show coefficients of the logistic regression\n",
    "classifier_2.summary()"
   ]
  },
  {
   "cell_type": "code",
   "execution_count": 64,
   "metadata": {},
   "outputs": [],
   "source": [
    "# The \"Pclass\" variable (variable indicating whether a passenger is 1st, 2nd, or 3rd class) has a high p-value revealing that the variable is not statistically significant in this model. Removing the Pclass variable\n",
    "X = np.delete(X,0, axis = 1)"
   ]
  },
  {
   "cell_type": "code",
   "execution_count": 65,
   "metadata": {},
   "outputs": [
    {
     "name": "stdout",
     "output_type": "stream",
     "text": [
      "Optimization terminated successfully.\n",
      "         Current function value: 0.509325\n",
      "         Iterations 6\n"
     ]
    }
   ],
   "source": [
    "# Fit a logistic model to the data (with the \"Embarked_Q\", \"Embarked_Q\", and \"Pclass\" variables removed)\n",
    "classifier_2 = sm.Logit(endog = y, exog = X).fit()"
   ]
  },
  {
   "cell_type": "code",
   "execution_count": 66,
   "metadata": {},
   "outputs": [
    {
     "data": {
      "text/html": [
       "<table class=\"simpletable\">\n",
       "<caption>Logit Regression Results</caption>\n",
       "<tr>\n",
       "  <th>Dep. Variable:</th>         <td>y</td>        <th>  No. Observations:  </th>  <td>   891</td>  \n",
       "</tr>\n",
       "<tr>\n",
       "  <th>Model:</th>               <td>Logit</td>      <th>  Df Residuals:      </th>  <td>   887</td>  \n",
       "</tr>\n",
       "<tr>\n",
       "  <th>Method:</th>               <td>MLE</td>       <th>  Df Model:          </th>  <td>     3</td>  \n",
       "</tr>\n",
       "<tr>\n",
       "  <th>Date:</th>          <td>Mon, 25 May 2020</td> <th>  Pseudo R-squ.:     </th>  <td>0.2351</td>  \n",
       "</tr>\n",
       "<tr>\n",
       "  <th>Time:</th>              <td>22:59:30</td>     <th>  Log-Likelihood:    </th> <td> -453.81</td> \n",
       "</tr>\n",
       "<tr>\n",
       "  <th>converged:</th>           <td>True</td>       <th>  LL-Null:           </th> <td> -593.33</td> \n",
       "</tr>\n",
       "<tr>\n",
       "  <th> </th>                      <td> </td>        <th>  LLR p-value:       </th> <td>3.420e-60</td>\n",
       "</tr>\n",
       "</table>\n",
       "<table class=\"simpletable\">\n",
       "<tr>\n",
       "   <td></td>     <th>coef</th>     <th>std err</th>      <th>z</th>      <th>P>|z|</th>  <th>[0.025</th>    <th>0.975]</th>  \n",
       "</tr>\n",
       "<tr>\n",
       "  <th>x1</th> <td>    0.4667</td> <td>    0.108</td> <td>    4.319</td> <td> 0.000</td> <td>    0.255</td> <td>    0.679</td>\n",
       "</tr>\n",
       "<tr>\n",
       "  <th>x2</th> <td>    0.4201</td> <td>    0.152</td> <td>    2.767</td> <td> 0.006</td> <td>    0.123</td> <td>    0.718</td>\n",
       "</tr>\n",
       "<tr>\n",
       "  <th>x3</th> <td>   -2.1065</td> <td>    0.165</td> <td>  -12.745</td> <td> 0.000</td> <td>   -2.430</td> <td>   -1.783</td>\n",
       "</tr>\n",
       "<tr>\n",
       "  <th>x4</th> <td>    0.5847</td> <td>    0.145</td> <td>    4.037</td> <td> 0.000</td> <td>    0.301</td> <td>    0.869</td>\n",
       "</tr>\n",
       "</table>"
      ],
      "text/plain": [
       "<class 'statsmodels.iolib.summary.Summary'>\n",
       "\"\"\"\n",
       "                           Logit Regression Results                           \n",
       "==============================================================================\n",
       "Dep. Variable:                      y   No. Observations:                  891\n",
       "Model:                          Logit   Df Residuals:                      887\n",
       "Method:                           MLE   Df Model:                            3\n",
       "Date:                Mon, 25 May 2020   Pseudo R-squ.:                  0.2351\n",
       "Time:                        22:59:30   Log-Likelihood:                -453.81\n",
       "converged:                       True   LL-Null:                       -593.33\n",
       "                                        LLR p-value:                 3.420e-60\n",
       "==============================================================================\n",
       "                 coef    std err          z      P>|z|      [0.025      0.975]\n",
       "------------------------------------------------------------------------------\n",
       "x1             0.4667      0.108      4.319      0.000       0.255       0.679\n",
       "x2             0.4201      0.152      2.767      0.006       0.123       0.718\n",
       "x3            -2.1065      0.165    -12.745      0.000      -2.430      -1.783\n",
       "x4             0.5847      0.145      4.037      0.000       0.301       0.869\n",
       "==============================================================================\n",
       "\"\"\""
      ]
     },
     "execution_count": 66,
     "metadata": {},
     "output_type": "execute_result"
    }
   ],
   "source": [
    "# Show coefficients of the logistic regression\n",
    "classifier_2.summary()"
   ]
  },
  {
   "cell_type": "markdown",
   "metadata": {},
   "source": [
    "I ran the logistic regression model the first time using the following independent variables:\n",
    "* \"Pclass\": An ordinal variable indicating someone's passenger class using a rating of 1 (upper class), 2 (middle class), or 3 (lower class)\n",
    "* \"Fare\": The price that the passenger paid to board the ship (note that this variable was standardized to have a mean of 0 and a standard deviation of ~1\n",
    "* \"WithFamily\": A binary variable indicating whether or not the passenger was traveling with family. 1 means that she/he is traveling with at least one other family member and 0 means that she/he is traveling alone\n",
    "* \"Sex_male\": A binary variable indicating whether or not the passenger is male. 1 indicates that she/he is male. 0 indicates that she/he is female\n",
    "* \"Embarked_Q\": A binary variable indicating whether or not the passenger embarked from the Queenstown port. 1 indicates that she/he embarked the titanic from Queenstown. 0 indicates that she/he embarked from another port.\n",
    "* \"Embarked_S\": A binary variable indicating whether or not the passenger embarked from the Southampton port. 1 indicates that she/he embarked the titanic from Southampton. 0 indicates that she/he embarked from another port.\n",
    "* \"ChildAdult_adult\": A binary variable indicating whether or not the passenger is an adult (defined as 16 or over in this model). 1 indicates that the passenger is an adult. 0 indicates that the passenger is a child.\n",
    "\n",
    "The p-value for regression coefficients quantifies how confident we are that the independent variable impacts the depdendent variable. The smaller the p value, the stronger the evidence tha there is a relationship between the independent and dependent variables. I use a p-value threshold of 0.05 in this regression. \n",
    "\n",
    "In this regression, there isn't a good reason to keep insignificant variables in the model. So I drop the independent variable with the highest p-value of all the independent variables with p-values > 0.05 and rerun the model with the variable excluded. I repeat this process until only independent variables with p-values < 0.05 are included in the model. \n",
    "\n",
    "I am left with the following variables in the model:\n",
    "* \"Fare\": The price that the passenger paid to board the ship (note that this variable was standardized to have a mean of 0 and a standard deviation of ~1\n",
    "* \"WithFamily\": A binary variable indicating whether or not the passenger was traveling with family. 1 means that she/he is traveling with at least one other family member and 0 means that she/he is traveling alone\n",
    "* \"Sex_male\": A binary variable indicating whether or not the passenger is male. 1 indicates that she/he is male. 0 indicates that she/he is female\n",
    "* \"ChildAdult_adult\": A binary variable indicating whether or not the passenger is an adult (defined as 16 or over in this model). 1 indicates that the passenger is an adult. 0 indicates that the passenger is a child."
   ]
  },
  {
   "cell_type": "code",
   "execution_count": null,
   "metadata": {},
   "outputs": [],
   "source": []
  },
  {
   "cell_type": "code",
   "execution_count": 88,
   "metadata": {},
   "outputs": [
    {
     "ename": "NameError",
     "evalue": "name 'features_one' is not defined",
     "output_type": "error",
     "traceback": [
      "\u001b[1;31m---------------------------------------------------------------------------\u001b[0m",
      "\u001b[1;31mNameError\u001b[0m                                 Traceback (most recent call last)",
      "\u001b[1;32m<ipython-input-88-321768f1a723>\u001b[0m in \u001b[0;36m<module>\u001b[1;34m()\u001b[0m\n\u001b[0;32m      1\u001b[0m \u001b[0mmy_tree_one\u001b[0m \u001b[1;33m=\u001b[0m \u001b[0mtree\u001b[0m\u001b[1;33m.\u001b[0m\u001b[0mDecisionTreeClassifier\u001b[0m\u001b[1;33m(\u001b[0m\u001b[1;33m)\u001b[0m\u001b[1;33m\u001b[0m\u001b[0m\n\u001b[1;32m----> 2\u001b[1;33m \u001b[0mmy_tree_one\u001b[0m \u001b[1;33m=\u001b[0m \u001b[0mmy_tree_one\u001b[0m\u001b[1;33m.\u001b[0m\u001b[0mfit\u001b[0m\u001b[1;33m(\u001b[0m\u001b[0mfeatures_one\u001b[0m\u001b[1;33m,\u001b[0m\u001b[0mtarget\u001b[0m\u001b[1;33m)\u001b[0m\u001b[1;33m\u001b[0m\u001b[0m\n\u001b[0m",
      "\u001b[1;31mNameError\u001b[0m: name 'features_one' is not defined"
     ]
    }
   ],
   "source": []
  },
  {
   "cell_type": "code",
   "execution_count": null,
   "metadata": {},
   "outputs": [],
   "source": []
  },
  {
   "cell_type": "code",
   "execution_count": null,
   "metadata": {},
   "outputs": [],
   "source": []
  },
  {
   "cell_type": "code",
   "execution_count": null,
   "metadata": {},
   "outputs": [],
   "source": []
  },
  {
   "cell_type": "code",
   "execution_count": 67,
   "metadata": {},
   "outputs": [],
   "source": [
    "X_train, X_test, y_train, y_test = train_test_split (X, y, test_size = 0.2, random_state = 0, stratify = y)"
   ]
  },
  {
   "cell_type": "code",
   "execution_count": 68,
   "metadata": {},
   "outputs": [
    {
     "data": {
      "text/plain": [
       "LogisticRegression(random_state=0)"
      ]
     },
     "execution_count": 68,
     "metadata": {},
     "output_type": "execute_result"
    }
   ],
   "source": [
    "classifier = LogisticRegression(random_state = 0)\n",
    "classifier.fit(X_train, y_train)"
   ]
  },
  {
   "cell_type": "code",
   "execution_count": 69,
   "metadata": {},
   "outputs": [],
   "source": [
    "y_pred = classifier.predict(X_test)"
   ]
  },
  {
   "cell_type": "code",
   "execution_count": 70,
   "metadata": {},
   "outputs": [
    {
     "name": "stdout",
     "output_type": "stream",
     "text": [
      "              precision    recall  f1-score   support\n",
      "\n",
      "           0       0.80      0.84      0.82       110\n",
      "           1       0.72      0.67      0.69        69\n",
      "\n",
      "    accuracy                           0.77       179\n",
      "   macro avg       0.76      0.75      0.75       179\n",
      "weighted avg       0.77      0.77      0.77       179\n",
      "\n"
     ]
    }
   ],
   "source": [
    "print(classification_report(y_test, y_pred))"
   ]
  },
  {
   "cell_type": "code",
   "execution_count": 71,
   "metadata": {},
   "outputs": [],
   "source": [
    "cm = confusion_matrix(y_test, y_pred)"
   ]
  },
  {
   "cell_type": "code",
   "execution_count": 72,
   "metadata": {},
   "outputs": [
    {
     "name": "stdout",
     "output_type": "stream",
     "text": [
      "[[92 18]\n",
      " [23 46]]\n"
     ]
    }
   ],
   "source": [
    "print(cm)"
   ]
  },
  {
   "cell_type": "code",
   "execution_count": null,
   "metadata": {},
   "outputs": [],
   "source": []
  },
  {
   "cell_type": "code",
   "execution_count": null,
   "metadata": {},
   "outputs": [],
   "source": []
  },
  {
   "cell_type": "code",
   "execution_count": null,
   "metadata": {},
   "outputs": [],
   "source": []
  },
  {
   "cell_type": "code",
   "execution_count": null,
   "metadata": {},
   "outputs": [],
   "source": []
  },
  {
   "cell_type": "code",
   "execution_count": null,
   "metadata": {},
   "outputs": [],
   "source": []
  },
  {
   "cell_type": "code",
   "execution_count": null,
   "metadata": {},
   "outputs": [],
   "source": []
  },
  {
   "cell_type": "code",
   "execution_count": 74,
   "metadata": {},
   "outputs": [],
   "source": [
    "X_train, X_test, y_train, y_test = train_test_split (X, y, test_size = 0.2, random_state = 0, stratify = y)\n",
    "# Create a stratified train_test split that preserves the gender ratio\n",
    "# gender_split = StratifiedShuffleSplit(n_splits = 1, test_size = 0.2, random_state = 0)\n",
    "# for train_index, test_index in gender_split.split(training_data_2, training_data_2[\"Sex_male\"]):\n",
    "#     strat_train_set = training_data_2.loc[train_index]\n",
    "#     strat_test_set = training_data_2.loc[test_index]"
   ]
  },
  {
   "cell_type": "code",
   "execution_count": 75,
   "metadata": {},
   "outputs": [
    {
     "data": {
      "text/plain": [
       "LogisticRegression(random_state=0)"
      ]
     },
     "execution_count": 75,
     "metadata": {},
     "output_type": "execute_result"
    }
   ],
   "source": [
    "classifier = LogisticRegression(random_state = 0)\n",
    "classifier.fit(X_train, y_train)"
   ]
  },
  {
   "cell_type": "code",
   "execution_count": 76,
   "metadata": {},
   "outputs": [
    {
     "name": "stdout",
     "output_type": "stream",
     "text": [
      "              precision    recall  f1-score   support\n",
      "\n",
      "           0       0.80      0.84      0.82       110\n",
      "           1       0.72      0.67      0.69        69\n",
      "\n",
      "    accuracy                           0.77       179\n",
      "   macro avg       0.76      0.75      0.75       179\n",
      "weighted avg       0.77      0.77      0.77       179\n",
      "\n"
     ]
    }
   ],
   "source": [
    "print(classification_report(y_test, classifier.predict(X_test)))"
   ]
  },
  {
   "cell_type": "code",
   "execution_count": 86,
   "metadata": {},
   "outputs": [
    {
     "name": "stdout",
     "output_type": "stream",
     "text": [
      "Confusion Matrix: [[92 18]\n",
      " [23 46]]\n",
      "Precision: 0.71875\n",
      "Recall: 0.6666666666666666\n",
      "F1 Score: 0.6917293233082707\n"
     ]
    }
   ],
   "source": [
    "print(\"Confusion Matrix: \" + str(confusion_matrix(y_test, y_pred)))\n",
    "print(\"Precision: \" + str(precision_score(y_test, y_pred)))\n",
    "print(\"Recall: \" + str(recall_score(y_test, y_pred)))\n",
    "print(\"F1 Score: \" + str(f1_score(y_test, y_pred)))"
   ]
  },
  {
   "cell_type": "code",
   "execution_count": null,
   "metadata": {},
   "outputs": [],
   "source": []
  },
  {
   "cell_type": "code",
   "execution_count": null,
   "metadata": {},
   "outputs": [],
   "source": []
  },
  {
   "cell_type": "code",
   "execution_count": null,
   "metadata": {},
   "outputs": [],
   "source": []
  },
  {
   "cell_type": "code",
   "execution_count": 94,
   "metadata": {},
   "outputs": [],
   "source": [
    "X_2 = training_data_2.iloc[:,1:].values"
   ]
  },
  {
   "cell_type": "code",
   "execution_count": 95,
   "metadata": {},
   "outputs": [],
   "source": [
    "X_train, X_test, y_train, y_test = train_test_split (X_2, y, test_size = 0.2, random_state = 0, stratify = y)"
   ]
  },
  {
   "cell_type": "code",
   "execution_count": null,
   "metadata": {},
   "outputs": [],
   "source": []
  },
  {
   "cell_type": "code",
   "execution_count": 96,
   "metadata": {},
   "outputs": [],
   "source": [
    "my_tree_one = tree.DecisionTreeClassifier()\n",
    "my_tree_one = my_tree_one.fit(X_train,y_train)"
   ]
  },
  {
   "cell_type": "code",
   "execution_count": 97,
   "metadata": {},
   "outputs": [],
   "source": [
    "y_pred = my_tree_one.predict(X_test)"
   ]
  },
  {
   "cell_type": "code",
   "execution_count": 98,
   "metadata": {},
   "outputs": [
    {
     "name": "stdout",
     "output_type": "stream",
     "text": [
      "[0.10805438 0.36700774 0.03072225 0.3866016  0.00343229 0.0236228\n",
      " 0.08055895]\n",
      "0.9241573033707865\n"
     ]
    }
   ],
   "source": [
    "print(my_tree_one.feature_importances_)\n",
    "print(my_tree_one.score(X_train,y_train))"
   ]
  },
  {
   "cell_type": "code",
   "execution_count": 99,
   "metadata": {},
   "outputs": [
    {
     "name": "stdout",
     "output_type": "stream",
     "text": [
      "Confusion Matrix: [[94 16]\n",
      " [20 49]]\n",
      "Precision: 0.7538461538461538\n",
      "Recall: 0.7101449275362319\n",
      "F1 Score: 0.7313432835820897\n"
     ]
    }
   ],
   "source": [
    "print(\"Confusion Matrix: \" + str(confusion_matrix(y_test, y_pred)))\n",
    "print(\"Precision: \" + str(precision_score(y_test, y_pred)))\n",
    "print(\"Recall: \" + str(recall_score(y_test, y_pred)))\n",
    "print(\"F1 Score: \" + str(f1_score(y_test, y_pred)))"
   ]
  },
  {
   "cell_type": "code",
   "execution_count": null,
   "metadata": {},
   "outputs": [],
   "source": []
  },
  {
   "cell_type": "code",
   "execution_count": 101,
   "metadata": {},
   "outputs": [],
   "source": [
    "forest = RandomForestClassifier(max_depth = 10, min_samples_split=2, n_estimators = 100, random_state = 1)\n",
    "my_forest = forest.fit(X_train,y_train)\n"
   ]
  },
  {
   "cell_type": "code",
   "execution_count": 102,
   "metadata": {},
   "outputs": [],
   "source": [
    "y_pred = my_forest.predict(X_test)"
   ]
  },
  {
   "cell_type": "code",
   "execution_count": 103,
   "metadata": {},
   "outputs": [
    {
     "name": "stdout",
     "output_type": "stream",
     "text": [
      "Confusion Matrix: [[94 16]\n",
      " [23 46]]\n",
      "Precision: 0.7419354838709677\n",
      "Recall: 0.6666666666666666\n",
      "F1 Score: 0.7022900763358778\n"
     ]
    }
   ],
   "source": [
    "print(\"Confusion Matrix: \" + str(confusion_matrix(y_test, y_pred)))\n",
    "print(\"Precision: \" + str(precision_score(y_test, y_pred)))\n",
    "print(\"Recall: \" + str(recall_score(y_test, y_pred)))\n",
    "print(\"F1 Score: \" + str(f1_score(y_test, y_pred)))"
   ]
  },
  {
   "cell_type": "code",
   "execution_count": null,
   "metadata": {},
   "outputs": [],
   "source": []
  },
  {
   "cell_type": "code",
   "execution_count": null,
   "metadata": {},
   "outputs": [],
   "source": []
  },
  {
   "cell_type": "code",
   "execution_count": null,
   "metadata": {},
   "outputs": [],
   "source": [
    "break"
   ]
  }
 ],
 "metadata": {
  "kernelspec": {
   "display_name": "Python 3",
   "language": "python",
   "name": "python3"
  },
  "language_info": {
   "codemirror_mode": {
    "name": "ipython",
    "version": 3
   },
   "file_extension": ".py",
   "mimetype": "text/x-python",
   "name": "python",
   "nbconvert_exporter": "python",
   "pygments_lexer": "ipython3",
   "version": "3.7.0"
  }
 },
 "nbformat": 4,
 "nbformat_minor": 2
}
