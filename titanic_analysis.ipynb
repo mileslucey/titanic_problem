{
 "cells": [
  {
   "cell_type": "markdown",
   "metadata": {},
   "source": [
    "# 1. Import Data and Python Packages"
   ]
  },
  {
   "cell_type": "code",
   "execution_count": 1,
   "metadata": {},
   "outputs": [],
   "source": [
    "# Dependencies and setup\n",
    "import numpy as np\n",
    "import matplotlib.pyplot as plt\n",
    "import pandas as pd\n",
    "import seaborn as sns\n",
    "import numpy as np\n",
    "from scipy import stats\n",
    "import matplotlib.gridspec as gridspec\n",
    "from sklearn.preprocessing import LabelEncoder, OneHotEncoder, StandardScaler\n",
    "from sklearn.model_selection import train_test_split, GridSearchCV, StratifiedShuffleSplit, RandomizedSearchCV, cross_val_score, cross_validate\n",
    "from sklearn.linear_model import LogisticRegression\n",
    "from sklearn.metrics import classification_report, confusion_matrix, precision_score, recall_score, f1_score, roc_auc_score, roc_curve, auc\n",
    "from sklearn.compose import ColumnTransformer\n",
    "from sklearn import tree\n",
    "from sklearn.ensemble import RandomForestClassifier, RandomForestRegressor\n",
    "from sklearn.tree import DecisionTreeClassifier\n",
    "import statsmodels.api as sm\n",
    "from sklearn.tree import plot_tree\n",
    "import os\n",
    "%matplotlib inline"
   ]
  },
  {
   "cell_type": "code",
   "execution_count": 2,
   "metadata": {},
   "outputs": [],
   "source": [
    "# Set maximum rows to a high number\n",
    "pd.set_option('display.max_rows', 100)"
   ]
  },
  {
   "cell_type": "code",
   "execution_count": 3,
   "metadata": {},
   "outputs": [],
   "source": [
    "# Load datasets\n",
    "training_data = pd.read_csv('01-raw_data/train.csv',index_col=0)\n",
    "testing_data = pd.read_csv('01-raw_data/test.csv',index_col=0)"
   ]
  },
  {
   "cell_type": "markdown",
   "metadata": {},
   "source": [
    "# 2. Perform Initial Observations and Deal with Missing Values"
   ]
  },
  {
   "cell_type": "markdown",
   "metadata": {},
   "source": [
    "### 2a. Investigate shape of dataset and whether or not there are any missing values"
   ]
  },
  {
   "cell_type": "code",
   "execution_count": 4,
   "metadata": {},
   "outputs": [],
   "source": [
    "# Make copies of the original DataFrames in order to prevent errors\n",
    "training_data_2 = training_data.copy()\n",
    "testing_data_2 = testing_data.copy()"
   ]
  },
  {
   "cell_type": "code",
   "execution_count": 5,
   "metadata": {},
   "outputs": [
    {
     "data": {
      "text/plain": [
       "(891, 11)"
      ]
     },
     "execution_count": 5,
     "metadata": {},
     "output_type": "execute_result"
    }
   ],
   "source": [
    "# Investigate shape of the training dataset\n",
    "training_data_2.shape"
   ]
  },
  {
   "cell_type": "code",
   "execution_count": 6,
   "metadata": {},
   "outputs": [
    {
     "data": {
      "text/plain": [
       "(418, 10)"
      ]
     },
     "execution_count": 6,
     "metadata": {},
     "output_type": "execute_result"
    }
   ],
   "source": [
    "# Investigate shape of the testing dataset\n",
    "testing_data_2.shape"
   ]
  },
  {
   "cell_type": "code",
   "execution_count": 7,
   "metadata": {},
   "outputs": [
    {
     "data": {
      "text/html": [
       "<div>\n",
       "<style scoped>\n",
       "    .dataframe tbody tr th:only-of-type {\n",
       "        vertical-align: middle;\n",
       "    }\n",
       "\n",
       "    .dataframe tbody tr th {\n",
       "        vertical-align: top;\n",
       "    }\n",
       "\n",
       "    .dataframe thead th {\n",
       "        text-align: right;\n",
       "    }\n",
       "</style>\n",
       "<table border=\"1\" class=\"dataframe\">\n",
       "  <thead>\n",
       "    <tr style=\"text-align: right;\">\n",
       "      <th></th>\n",
       "      <th>Total</th>\n",
       "      <th>Percent</th>\n",
       "    </tr>\n",
       "  </thead>\n",
       "  <tbody>\n",
       "    <tr>\n",
       "      <th>Cabin</th>\n",
       "      <td>687</td>\n",
       "      <td>77.10</td>\n",
       "    </tr>\n",
       "    <tr>\n",
       "      <th>Age</th>\n",
       "      <td>177</td>\n",
       "      <td>19.87</td>\n",
       "    </tr>\n",
       "    <tr>\n",
       "      <th>Embarked</th>\n",
       "      <td>2</td>\n",
       "      <td>0.22</td>\n",
       "    </tr>\n",
       "    <tr>\n",
       "      <th>Fare</th>\n",
       "      <td>0</td>\n",
       "      <td>0.00</td>\n",
       "    </tr>\n",
       "    <tr>\n",
       "      <th>Ticket</th>\n",
       "      <td>0</td>\n",
       "      <td>0.00</td>\n",
       "    </tr>\n",
       "    <tr>\n",
       "      <th>Parch</th>\n",
       "      <td>0</td>\n",
       "      <td>0.00</td>\n",
       "    </tr>\n",
       "    <tr>\n",
       "      <th>SibSp</th>\n",
       "      <td>0</td>\n",
       "      <td>0.00</td>\n",
       "    </tr>\n",
       "    <tr>\n",
       "      <th>Sex</th>\n",
       "      <td>0</td>\n",
       "      <td>0.00</td>\n",
       "    </tr>\n",
       "    <tr>\n",
       "      <th>Name</th>\n",
       "      <td>0</td>\n",
       "      <td>0.00</td>\n",
       "    </tr>\n",
       "    <tr>\n",
       "      <th>Pclass</th>\n",
       "      <td>0</td>\n",
       "      <td>0.00</td>\n",
       "    </tr>\n",
       "    <tr>\n",
       "      <th>Survived</th>\n",
       "      <td>0</td>\n",
       "      <td>0.00</td>\n",
       "    </tr>\n",
       "  </tbody>\n",
       "</table>\n",
       "</div>"
      ],
      "text/plain": [
       "          Total  Percent\n",
       "Cabin       687    77.10\n",
       "Age         177    19.87\n",
       "Embarked      2     0.22\n",
       "Fare          0     0.00\n",
       "Ticket        0     0.00\n",
       "Parch         0     0.00\n",
       "SibSp         0     0.00\n",
       "Sex           0     0.00\n",
       "Name          0     0.00\n",
       "Pclass        0     0.00\n",
       "Survived      0     0.00"
      ]
     },
     "execution_count": 7,
     "metadata": {},
     "output_type": "execute_result"
    }
   ],
   "source": [
    "# Investigate missing values in the training dataset\n",
    "total_missing_training = training_data_2.isnull().sum().sort_values (ascending = False)\n",
    "percent_missing_training = round((training_data_2.isnull().sum().sort_values(ascending = False)/len(training_data_2))*100,2)\n",
    "pd.concat([total_missing_training, percent_missing_training], axis = 1, keys = ['Total','Percent'])"
   ]
  },
  {
   "cell_type": "code",
   "execution_count": 8,
   "metadata": {},
   "outputs": [
    {
     "data": {
      "text/html": [
       "<div>\n",
       "<style scoped>\n",
       "    .dataframe tbody tr th:only-of-type {\n",
       "        vertical-align: middle;\n",
       "    }\n",
       "\n",
       "    .dataframe tbody tr th {\n",
       "        vertical-align: top;\n",
       "    }\n",
       "\n",
       "    .dataframe thead th {\n",
       "        text-align: right;\n",
       "    }\n",
       "</style>\n",
       "<table border=\"1\" class=\"dataframe\">\n",
       "  <thead>\n",
       "    <tr style=\"text-align: right;\">\n",
       "      <th></th>\n",
       "      <th>Total</th>\n",
       "      <th>Percent</th>\n",
       "    </tr>\n",
       "  </thead>\n",
       "  <tbody>\n",
       "    <tr>\n",
       "      <th>Cabin</th>\n",
       "      <td>327</td>\n",
       "      <td>78.23</td>\n",
       "    </tr>\n",
       "    <tr>\n",
       "      <th>Age</th>\n",
       "      <td>86</td>\n",
       "      <td>20.57</td>\n",
       "    </tr>\n",
       "    <tr>\n",
       "      <th>Fare</th>\n",
       "      <td>1</td>\n",
       "      <td>0.24</td>\n",
       "    </tr>\n",
       "    <tr>\n",
       "      <th>Embarked</th>\n",
       "      <td>0</td>\n",
       "      <td>0.00</td>\n",
       "    </tr>\n",
       "    <tr>\n",
       "      <th>Ticket</th>\n",
       "      <td>0</td>\n",
       "      <td>0.00</td>\n",
       "    </tr>\n",
       "    <tr>\n",
       "      <th>Parch</th>\n",
       "      <td>0</td>\n",
       "      <td>0.00</td>\n",
       "    </tr>\n",
       "    <tr>\n",
       "      <th>SibSp</th>\n",
       "      <td>0</td>\n",
       "      <td>0.00</td>\n",
       "    </tr>\n",
       "    <tr>\n",
       "      <th>Sex</th>\n",
       "      <td>0</td>\n",
       "      <td>0.00</td>\n",
       "    </tr>\n",
       "    <tr>\n",
       "      <th>Name</th>\n",
       "      <td>0</td>\n",
       "      <td>0.00</td>\n",
       "    </tr>\n",
       "    <tr>\n",
       "      <th>Pclass</th>\n",
       "      <td>0</td>\n",
       "      <td>0.00</td>\n",
       "    </tr>\n",
       "  </tbody>\n",
       "</table>\n",
       "</div>"
      ],
      "text/plain": [
       "          Total  Percent\n",
       "Cabin       327    78.23\n",
       "Age          86    20.57\n",
       "Fare          1     0.24\n",
       "Embarked      0     0.00\n",
       "Ticket        0     0.00\n",
       "Parch         0     0.00\n",
       "SibSp         0     0.00\n",
       "Sex           0     0.00\n",
       "Name          0     0.00\n",
       "Pclass        0     0.00"
      ]
     },
     "execution_count": 8,
     "metadata": {},
     "output_type": "execute_result"
    }
   ],
   "source": [
    "# Investigate missing values in the testing dataset\n",
    "total_missing_testing = testing_data_2.isnull().sum().sort_values (ascending = False)\n",
    "percent_missing_testing = round((testing_data_2.isnull().sum().sort_values(ascending = False)/len(testing_data_2))*100,2)\n",
    "pd.concat([total_missing_testing, percent_missing_testing], axis = 1, keys = ['Total','Percent'])"
   ]
  },
  {
   "cell_type": "markdown",
   "metadata": {},
   "source": [
    "The training dataset has 11 fields and 891 observations. The testing dataset has 10 fields and 418 observations. The training dataset includes whether or not the passenger survived whereas the testing dataset does not.\n",
    "\n",
    "There are missing values in the 'Cabin', 'Age', 'Embarked', and 'Fare' columns. It is important to figure out a strategy to deal with these missing values so that machine learning algorithms will work.\n",
    "\n",
    "To handle missing values, there are primarily three options:\n",
    "1. Remove the field entirely\n",
    "2. Remove the observation that contains the missing value\n",
    "3. Replace the missing value with an approximation of the value"
   ]
  },
  {
   "cell_type": "markdown",
   "metadata": {},
   "source": [
    "### 2b. Deal with missing 'Fare' values"
   ]
  },
  {
   "cell_type": "code",
   "execution_count": 9,
   "metadata": {},
   "outputs": [
    {
     "data": {
      "image/png": "[encoded data removed]",
      "text/plain": [
       "<Figure size 432x288 with 1 Axes>"
      ]
     },
     "metadata": {
      "needs_background": "light"
     },
     "output_type": "display_data"
    }
   ],
   "source": [
    "# Plot a histogram of fares in the training dataset\n",
    "testing_data_2.Fare.hist(bins=35, density = True, stacked = True, alpha = 0.6, color='royalblue')\n",
    "testing_data_2.Fare.plot(kind = 'density', color = 'royalblue')\n",
    "plt.xlabel('Fare ($)')\n",
    "plt.xlim(-10,200)\n",
    "plt.title('Distribution of Fare')\n",
    "plt.show()"
   ]
  },
  {
   "cell_type": "code",
   "execution_count": 10,
   "metadata": {},
   "outputs": [
    {
     "data": {
      "text/html": [
       "<div>\n",
       "<style scoped>\n",
       "    .dataframe tbody tr th:only-of-type {\n",
       "        vertical-align: middle;\n",
       "    }\n",
       "\n",
       "    .dataframe tbody tr th {\n",
       "        vertical-align: top;\n",
       "    }\n",
       "\n",
       "    .dataframe thead th {\n",
       "        text-align: right;\n",
       "    }\n",
       "</style>\n",
       "<table border=\"1\" class=\"dataframe\">\n",
       "  <thead>\n",
       "    <tr style=\"text-align: right;\">\n",
       "      <th></th>\n",
       "      <th>Pclass</th>\n",
       "      <th>Name</th>\n",
       "      <th>Sex</th>\n",
       "      <th>Age</th>\n",
       "      <th>SibSp</th>\n",
       "      <th>Parch</th>\n",
       "      <th>Ticket</th>\n",
       "      <th>Fare</th>\n",
       "      <th>Cabin</th>\n",
       "      <th>Embarked</th>\n",
       "    </tr>\n",
       "    <tr>\n",
       "      <th>PassengerId</th>\n",
       "      <th></th>\n",
       "      <th></th>\n",
       "      <th></th>\n",
       "      <th></th>\n",
       "      <th></th>\n",
       "      <th></th>\n",
       "      <th></th>\n",
       "      <th></th>\n",
       "      <th></th>\n",
       "      <th></th>\n",
       "    </tr>\n",
       "  </thead>\n",
       "  <tbody>\n",
       "    <tr>\n",
       "      <th>1044</th>\n",
       "      <td>3</td>\n",
       "      <td>Storey, Mr. Thomas</td>\n",
       "      <td>male</td>\n",
       "      <td>60.5</td>\n",
       "      <td>0</td>\n",
       "      <td>0</td>\n",
       "      <td>3701</td>\n",
       "      <td>NaN</td>\n",
       "      <td>NaN</td>\n",
       "      <td>S</td>\n",
       "    </tr>\n",
       "  </tbody>\n",
       "</table>\n",
       "</div>"
      ],
      "text/plain": [
       "             Pclass                Name   Sex   Age  SibSp  Parch Ticket  \\\n",
       "PassengerId                                                                \n",
       "1044              3  Storey, Mr. Thomas  male  60.5      0      0   3701   \n",
       "\n",
       "             Fare Cabin Embarked  \n",
       "PassengerId                       \n",
       "1044          NaN   NaN        S  "
      ]
     },
     "execution_count": 10,
     "metadata": {},
     "output_type": "execute_result"
    }
   ],
   "source": [
    "# Look at the line item with the missing Fare value\n",
    "testing_data_2[testing_data_2['Fare'].isnull()]"
   ]
  },
  {
   "cell_type": "code",
   "execution_count": 11,
   "metadata": {},
   "outputs": [],
   "source": [
    "# Fill in missing Fare values with the median Fare paid by customers of the same passenger class, sex, and port of embarkation\n",
    "testing_data_2['Fare'] = testing_data_2.groupby(['Pclass','Sex','Embarked'])['Fare'].transform(lambda x: x.fillna(x.median()))"
   ]
  },
  {
   "cell_type": "markdown",
   "metadata": {},
   "source": [
    "One fare is missing from the test dataset.\n",
    "\n",
    "**Options for handling missing values:**\n",
    "1. Remove the field entirely\n",
    "    - Not a good solution because 'Fare' is a usable field\n",
    "    - The vast majority of observations for the 'Fare' field are present, making 'Fare' a very usable field that should not be removed\n",
    "2. Remove the observation that contains the missing value\n",
    "    - Not a good solution because the missing value exists in the test dataset\n",
    "    - The goal of the Titanic Problem is to predict whether or not each of the passengers in the test dataset survived. Removing one observation from the test dataset would mean there would be no basis for predicting survivorship for the removed observation\n",
    "3. Replace the missing value with an approximation of the value\n",
    "    - The best solution in this case\n",
    "\n",
    "**Strategy for replacing the missing fare value:**\n",
    "\n",
    "'Fare' is a right skewed variable so it is preferable to replace the missing value with a median value rather than an average value so that the approximation is not overestimated. Ideally, the fare approximation should be based on a the fare paid by a set of passengers similar to the passenger whose fare paid is unknown. In this case, it is a good solution to replace the missing fare with the median fare paid by passengers with the same ticket class, sex, and port of embarkation as the passenger whose fare paid is unknown."
   ]
  },
  {
   "cell_type": "markdown",
   "metadata": {},
   "source": [
    "### 2c. Deal with missing 'Embarked' values"
   ]
  },
  {
   "cell_type": "code",
   "execution_count": 12,
   "metadata": {},
   "outputs": [
    {
     "data": {
      "text/html": [
       "<div>\n",
       "<style scoped>\n",
       "    .dataframe tbody tr th:only-of-type {\n",
       "        vertical-align: middle;\n",
       "    }\n",
       "\n",
       "    .dataframe tbody tr th {\n",
       "        vertical-align: top;\n",
       "    }\n",
       "\n",
       "    .dataframe thead th {\n",
       "        text-align: right;\n",
       "    }\n",
       "</style>\n",
       "<table border=\"1\" class=\"dataframe\">\n",
       "  <thead>\n",
       "    <tr style=\"text-align: right;\">\n",
       "      <th></th>\n",
       "      <th>Survived</th>\n",
       "      <th>Pclass</th>\n",
       "      <th>Name</th>\n",
       "      <th>Sex</th>\n",
       "      <th>Age</th>\n",
       "      <th>SibSp</th>\n",
       "      <th>Parch</th>\n",
       "      <th>Ticket</th>\n",
       "      <th>Fare</th>\n",
       "      <th>Cabin</th>\n",
       "      <th>Embarked</th>\n",
       "    </tr>\n",
       "    <tr>\n",
       "      <th>PassengerId</th>\n",
       "      <th></th>\n",
       "      <th></th>\n",
       "      <th></th>\n",
       "      <th></th>\n",
       "      <th></th>\n",
       "      <th></th>\n",
       "      <th></th>\n",
       "      <th></th>\n",
       "      <th></th>\n",
       "      <th></th>\n",
       "      <th></th>\n",
       "    </tr>\n",
       "  </thead>\n",
       "  <tbody>\n",
       "    <tr>\n",
       "      <th>62</th>\n",
       "      <td>1</td>\n",
       "      <td>1</td>\n",
       "      <td>Icard, Miss. Amelie</td>\n",
       "      <td>female</td>\n",
       "      <td>38.0</td>\n",
       "      <td>0</td>\n",
       "      <td>0</td>\n",
       "      <td>113572</td>\n",
       "      <td>80.0</td>\n",
       "      <td>B28</td>\n",
       "      <td>NaN</td>\n",
       "    </tr>\n",
       "    <tr>\n",
       "      <th>830</th>\n",
       "      <td>1</td>\n",
       "      <td>1</td>\n",
       "      <td>Stone, Mrs. George Nelson (Martha Evelyn)</td>\n",
       "      <td>female</td>\n",
       "      <td>62.0</td>\n",
       "      <td>0</td>\n",
       "      <td>0</td>\n",
       "      <td>113572</td>\n",
       "      <td>80.0</td>\n",
       "      <td>B28</td>\n",
       "      <td>NaN</td>\n",
       "    </tr>\n",
       "  </tbody>\n",
       "</table>\n",
       "</div>"
      ],
      "text/plain": [
       "             Survived  Pclass                                       Name  \\\n",
       "PassengerId                                                                \n",
       "62                  1       1                        Icard, Miss. Amelie   \n",
       "830                 1       1  Stone, Mrs. George Nelson (Martha Evelyn)   \n",
       "\n",
       "                Sex   Age  SibSp  Parch  Ticket  Fare Cabin Embarked  \n",
       "PassengerId                                                           \n",
       "62           female  38.0      0      0  113572  80.0   B28      NaN  \n",
       "830          female  62.0      0      0  113572  80.0   B28      NaN  "
      ]
     },
     "execution_count": 12,
     "metadata": {},
     "output_type": "execute_result"
    }
   ],
   "source": [
    "# Look into what the 'Embarked' null rows look like\n",
    "training_data_2[training_data_2['Embarked'].isnull()]"
   ]
  },
  {
   "cell_type": "code",
   "execution_count": 13,
   "metadata": {},
   "outputs": [
    {
     "data": {
      "text/html": [
       "<div>\n",
       "<style scoped>\n",
       "    .dataframe tbody tr th:only-of-type {\n",
       "        vertical-align: middle;\n",
       "    }\n",
       "\n",
       "    .dataframe tbody tr th {\n",
       "        vertical-align: top;\n",
       "    }\n",
       "\n",
       "    .dataframe thead th {\n",
       "        text-align: right;\n",
       "    }\n",
       "</style>\n",
       "<table border=\"1\" class=\"dataframe\">\n",
       "  <thead>\n",
       "    <tr style=\"text-align: right;\">\n",
       "      <th></th>\n",
       "      <th>Survived</th>\n",
       "      <th>Pclass</th>\n",
       "      <th>Name</th>\n",
       "      <th>Sex</th>\n",
       "      <th>Age</th>\n",
       "      <th>SibSp</th>\n",
       "      <th>Parch</th>\n",
       "      <th>Ticket</th>\n",
       "      <th>Fare</th>\n",
       "      <th>Cabin</th>\n",
       "      <th>Embarked</th>\n",
       "    </tr>\n",
       "    <tr>\n",
       "      <th>PassengerId</th>\n",
       "      <th></th>\n",
       "      <th></th>\n",
       "      <th></th>\n",
       "      <th></th>\n",
       "      <th></th>\n",
       "      <th></th>\n",
       "      <th></th>\n",
       "      <th></th>\n",
       "      <th></th>\n",
       "      <th></th>\n",
       "      <th></th>\n",
       "    </tr>\n",
       "  </thead>\n",
       "  <tbody>\n",
       "    <tr>\n",
       "      <th>62</th>\n",
       "      <td>1</td>\n",
       "      <td>1</td>\n",
       "      <td>Icard, Miss. Amelie</td>\n",
       "      <td>female</td>\n",
       "      <td>38.0</td>\n",
       "      <td>0</td>\n",
       "      <td>0</td>\n",
       "      <td>113572</td>\n",
       "      <td>80.0</td>\n",
       "      <td>B28</td>\n",
       "      <td>NaN</td>\n",
       "    </tr>\n",
       "    <tr>\n",
       "      <th>830</th>\n",
       "      <td>1</td>\n",
       "      <td>1</td>\n",
       "      <td>Stone, Mrs. George Nelson (Martha Evelyn)</td>\n",
       "      <td>female</td>\n",
       "      <td>62.0</td>\n",
       "      <td>0</td>\n",
       "      <td>0</td>\n",
       "      <td>113572</td>\n",
       "      <td>80.0</td>\n",
       "      <td>B28</td>\n",
       "      <td>NaN</td>\n",
       "    </tr>\n",
       "  </tbody>\n",
       "</table>\n",
       "</div>"
      ],
      "text/plain": [
       "             Survived  Pclass                                       Name  \\\n",
       "PassengerId                                                                \n",
       "62                  1       1                        Icard, Miss. Amelie   \n",
       "830                 1       1  Stone, Mrs. George Nelson (Martha Evelyn)   \n",
       "\n",
       "                Sex   Age  SibSp  Parch  Ticket  Fare Cabin Embarked  \n",
       "PassengerId                                                           \n",
       "62           female  38.0      0      0  113572  80.0   B28      NaN  \n",
       "830          female  62.0      0      0  113572  80.0   B28      NaN  "
      ]
     },
     "execution_count": 13,
     "metadata": {},
     "output_type": "execute_result"
    }
   ],
   "source": [
    "# Check if there are any other passengers with the same ticket number in the training dataset\n",
    "training_data_2[training_data_2['Ticket']=='113572']"
   ]
  },
  {
   "cell_type": "code",
   "execution_count": 14,
   "metadata": {},
   "outputs": [
    {
     "data": {
      "text/html": [
       "<div>\n",
       "<style scoped>\n",
       "    .dataframe tbody tr th:only-of-type {\n",
       "        vertical-align: middle;\n",
       "    }\n",
       "\n",
       "    .dataframe tbody tr th {\n",
       "        vertical-align: top;\n",
       "    }\n",
       "\n",
       "    .dataframe thead th {\n",
       "        text-align: right;\n",
       "    }\n",
       "</style>\n",
       "<table border=\"1\" class=\"dataframe\">\n",
       "  <thead>\n",
       "    <tr style=\"text-align: right;\">\n",
       "      <th></th>\n",
       "      <th>Pclass</th>\n",
       "      <th>Name</th>\n",
       "      <th>Sex</th>\n",
       "      <th>Age</th>\n",
       "      <th>SibSp</th>\n",
       "      <th>Parch</th>\n",
       "      <th>Ticket</th>\n",
       "      <th>Fare</th>\n",
       "      <th>Cabin</th>\n",
       "      <th>Embarked</th>\n",
       "    </tr>\n",
       "    <tr>\n",
       "      <th>PassengerId</th>\n",
       "      <th></th>\n",
       "      <th></th>\n",
       "      <th></th>\n",
       "      <th></th>\n",
       "      <th></th>\n",
       "      <th></th>\n",
       "      <th></th>\n",
       "      <th></th>\n",
       "      <th></th>\n",
       "      <th></th>\n",
       "    </tr>\n",
       "  </thead>\n",
       "  <tbody>\n",
       "  </tbody>\n",
       "</table>\n",
       "</div>"
      ],
      "text/plain": [
       "Empty DataFrame\n",
       "Columns: [Pclass, Name, Sex, Age, SibSp, Parch, Ticket, Fare, Cabin, Embarked]\n",
       "Index: []"
      ]
     },
     "execution_count": 14,
     "metadata": {},
     "output_type": "execute_result"
    }
   ],
   "source": [
    "# Check if there are any other passengers with the same ticket number in the testing dataset\n",
    "testing_data_2[testing_data_2['Ticket']=='113572']"
   ]
  },
  {
   "cell_type": "code",
   "execution_count": 15,
   "metadata": {},
   "outputs": [
    {
     "data": {
      "text/html": [
       "<div>\n",
       "<style scoped>\n",
       "    .dataframe tbody tr th:only-of-type {\n",
       "        vertical-align: middle;\n",
       "    }\n",
       "\n",
       "    .dataframe tbody tr th {\n",
       "        vertical-align: top;\n",
       "    }\n",
       "\n",
       "    .dataframe thead th {\n",
       "        text-align: right;\n",
       "    }\n",
       "</style>\n",
       "<table border=\"1\" class=\"dataframe\">\n",
       "  <thead>\n",
       "    <tr style=\"text-align: right;\">\n",
       "      <th></th>\n",
       "      <th>Survived</th>\n",
       "      <th>Pclass</th>\n",
       "      <th>Name</th>\n",
       "      <th>Sex</th>\n",
       "      <th>Age</th>\n",
       "      <th>SibSp</th>\n",
       "      <th>Parch</th>\n",
       "      <th>Ticket</th>\n",
       "      <th>Fare</th>\n",
       "      <th>Cabin</th>\n",
       "      <th>Embarked</th>\n",
       "    </tr>\n",
       "    <tr>\n",
       "      <th>PassengerId</th>\n",
       "      <th></th>\n",
       "      <th></th>\n",
       "      <th></th>\n",
       "      <th></th>\n",
       "      <th></th>\n",
       "      <th></th>\n",
       "      <th></th>\n",
       "      <th></th>\n",
       "      <th></th>\n",
       "      <th></th>\n",
       "      <th></th>\n",
       "    </tr>\n",
       "  </thead>\n",
       "  <tbody>\n",
       "    <tr>\n",
       "      <th>62</th>\n",
       "      <td>1</td>\n",
       "      <td>1</td>\n",
       "      <td>Icard, Miss. Amelie</td>\n",
       "      <td>female</td>\n",
       "      <td>38.0</td>\n",
       "      <td>0</td>\n",
       "      <td>0</td>\n",
       "      <td>113572</td>\n",
       "      <td>80.0</td>\n",
       "      <td>B28</td>\n",
       "      <td>NaN</td>\n",
       "    </tr>\n",
       "    <tr>\n",
       "      <th>830</th>\n",
       "      <td>1</td>\n",
       "      <td>1</td>\n",
       "      <td>Stone, Mrs. George Nelson (Martha Evelyn)</td>\n",
       "      <td>female</td>\n",
       "      <td>62.0</td>\n",
       "      <td>0</td>\n",
       "      <td>0</td>\n",
       "      <td>113572</td>\n",
       "      <td>80.0</td>\n",
       "      <td>B28</td>\n",
       "      <td>NaN</td>\n",
       "    </tr>\n",
       "  </tbody>\n",
       "</table>\n",
       "</div>"
      ],
      "text/plain": [
       "             Survived  Pclass                                       Name  \\\n",
       "PassengerId                                                                \n",
       "62                  1       1                        Icard, Miss. Amelie   \n",
       "830                 1       1  Stone, Mrs. George Nelson (Martha Evelyn)   \n",
       "\n",
       "                Sex   Age  SibSp  Parch  Ticket  Fare Cabin Embarked  \n",
       "PassengerId                                                           \n",
       "62           female  38.0      0      0  113572  80.0   B28      NaN  \n",
       "830          female  62.0      0      0  113572  80.0   B28      NaN  "
      ]
     },
     "execution_count": 15,
     "metadata": {},
     "output_type": "execute_result"
    }
   ],
   "source": [
    "# Check if there are any other passengers with the same cabin in the training dataset\n",
    "training_data_2[training_data_2['Cabin']=='B28']"
   ]
  },
  {
   "cell_type": "code",
   "execution_count": 16,
   "metadata": {},
   "outputs": [
    {
     "data": {
      "text/html": [
       "<div>\n",
       "<style scoped>\n",
       "    .dataframe tbody tr th:only-of-type {\n",
       "        vertical-align: middle;\n",
       "    }\n",
       "\n",
       "    .dataframe tbody tr th {\n",
       "        vertical-align: top;\n",
       "    }\n",
       "\n",
       "    .dataframe thead th {\n",
       "        text-align: right;\n",
       "    }\n",
       "</style>\n",
       "<table border=\"1\" class=\"dataframe\">\n",
       "  <thead>\n",
       "    <tr style=\"text-align: right;\">\n",
       "      <th></th>\n",
       "      <th>Pclass</th>\n",
       "      <th>Name</th>\n",
       "      <th>Sex</th>\n",
       "      <th>Age</th>\n",
       "      <th>SibSp</th>\n",
       "      <th>Parch</th>\n",
       "      <th>Ticket</th>\n",
       "      <th>Fare</th>\n",
       "      <th>Cabin</th>\n",
       "      <th>Embarked</th>\n",
       "    </tr>\n",
       "    <tr>\n",
       "      <th>PassengerId</th>\n",
       "      <th></th>\n",
       "      <th></th>\n",
       "      <th></th>\n",
       "      <th></th>\n",
       "      <th></th>\n",
       "      <th></th>\n",
       "      <th></th>\n",
       "      <th></th>\n",
       "      <th></th>\n",
       "      <th></th>\n",
       "    </tr>\n",
       "  </thead>\n",
       "  <tbody>\n",
       "  </tbody>\n",
       "</table>\n",
       "</div>"
      ],
      "text/plain": [
       "Empty DataFrame\n",
       "Columns: [Pclass, Name, Sex, Age, SibSp, Parch, Ticket, Fare, Cabin, Embarked]\n",
       "Index: []"
      ]
     },
     "execution_count": 16,
     "metadata": {},
     "output_type": "execute_result"
    }
   ],
   "source": [
    "# Check if there are any other passengers with the same cabin in the testing dataset\n",
    "testing_data_2[testing_data_2['Cabin']=='B28']"
   ]
  },
  {
   "cell_type": "code",
   "execution_count": 17,
   "metadata": {},
   "outputs": [
    {
     "data": {
      "text/html": [
       "<div>\n",
       "<style scoped>\n",
       "    .dataframe tbody tr th:only-of-type {\n",
       "        vertical-align: middle;\n",
       "    }\n",
       "\n",
       "    .dataframe tbody tr th {\n",
       "        vertical-align: top;\n",
       "    }\n",
       "\n",
       "    .dataframe thead th {\n",
       "        text-align: right;\n",
       "    }\n",
       "</style>\n",
       "<table border=\"1\" class=\"dataframe\">\n",
       "  <thead>\n",
       "    <tr style=\"text-align: right;\">\n",
       "      <th></th>\n",
       "      <th>count</th>\n",
       "      <th>mean</th>\n",
       "      <th>std</th>\n",
       "      <th>min</th>\n",
       "      <th>25%</th>\n",
       "      <th>50%</th>\n",
       "      <th>75%</th>\n",
       "      <th>max</th>\n",
       "    </tr>\n",
       "    <tr>\n",
       "      <th>Embarked</th>\n",
       "      <th></th>\n",
       "      <th></th>\n",
       "      <th></th>\n",
       "      <th></th>\n",
       "      <th></th>\n",
       "      <th></th>\n",
       "      <th></th>\n",
       "      <th></th>\n",
       "    </tr>\n",
       "  </thead>\n",
       "  <tbody>\n",
       "    <tr>\n",
       "      <th>C</th>\n",
       "      <td>43.0</td>\n",
       "      <td>115.640309</td>\n",
       "      <td>88.571645</td>\n",
       "      <td>27.7208</td>\n",
       "      <td>69.3</td>\n",
       "      <td>83.1583</td>\n",
       "      <td>134.500000</td>\n",
       "      <td>512.3292</td>\n",
       "    </tr>\n",
       "    <tr>\n",
       "      <th>Q</th>\n",
       "      <td>1.0</td>\n",
       "      <td>90.000000</td>\n",
       "      <td>NaN</td>\n",
       "      <td>90.0000</td>\n",
       "      <td>90.0</td>\n",
       "      <td>90.0000</td>\n",
       "      <td>90.000000</td>\n",
       "      <td>90.0000</td>\n",
       "    </tr>\n",
       "    <tr>\n",
       "      <th>S</th>\n",
       "      <td>48.0</td>\n",
       "      <td>99.026910</td>\n",
       "      <td>61.094407</td>\n",
       "      <td>25.9292</td>\n",
       "      <td>53.1</td>\n",
       "      <td>79.6500</td>\n",
       "      <td>139.612475</td>\n",
       "      <td>263.0000</td>\n",
       "    </tr>\n",
       "  </tbody>\n",
       "</table>\n",
       "</div>"
      ],
      "text/plain": [
       "          count        mean        std      min   25%      50%         75%  \\\n",
       "Embarked                                                                     \n",
       "C          43.0  115.640309  88.571645  27.7208  69.3  83.1583  134.500000   \n",
       "Q           1.0   90.000000        NaN  90.0000  90.0  90.0000   90.000000   \n",
       "S          48.0   99.026910  61.094407  25.9292  53.1  79.6500  139.612475   \n",
       "\n",
       "               max  \n",
       "Embarked            \n",
       "C         512.3292  \n",
       "Q          90.0000  \n",
       "S         263.0000  "
      ]
     },
     "execution_count": 17,
     "metadata": {},
     "output_type": "execute_result"
    }
   ],
   "source": [
    "# Look at the percentiles of fare prices paid for all first class women\n",
    "training_data_2[(training_data_2['Pclass'] == 1) & (training_data_2['Sex'] == 'female')].groupby('Embarked')['Fare'].describe()"
   ]
  },
  {
   "cell_type": "code",
   "execution_count": 18,
   "metadata": {},
   "outputs": [
    {
     "data": {
      "text/plain": [
       "S    23\n",
       "C    22\n",
       "Name: Embarked, dtype: int64"
      ]
     },
     "execution_count": 18,
     "metadata": {},
     "output_type": "execute_result"
    }
   ],
   "source": [
    "# Look into the most common port of embarkation for people on cabin level B\n",
    "training_data_2[training_data_2['Cabin'].str[0]=='B']['Embarked'].value_counts()"
   ]
  },
  {
   "cell_type": "code",
   "execution_count": 19,
   "metadata": {},
   "outputs": [
    {
     "data": {
      "text/plain": [
       "1    47\n",
       "Name: Pclass, dtype: int64"
      ]
     },
     "execution_count": 19,
     "metadata": {},
     "output_type": "execute_result"
    }
   ],
   "source": [
    "# Look at the most common ticket classes for individuals on cabin level B\n",
    "training_data_2[training_data_2['Cabin'].str[0]=='B']['Pclass'].value_counts()"
   ]
  },
  {
   "cell_type": "code",
   "execution_count": 20,
   "metadata": {},
   "outputs": [
    {
     "data": {
      "text/plain": [
       "female    27\n",
       "male      20\n",
       "Name: Sex, dtype: int64"
      ]
     },
     "execution_count": 20,
     "metadata": {},
     "output_type": "execute_result"
    }
   ],
   "source": [
    "# Look at the distribution of sexes of passengers inhabiting cabin level B \n",
    "training_data_2[training_data_2['Cabin'].str[0]=='B']['Sex'].value_counts()"
   ]
  },
  {
   "cell_type": "code",
   "execution_count": 21,
   "metadata": {},
   "outputs": [
    {
     "data": {
      "text/html": [
       "<div>\n",
       "<style scoped>\n",
       "    .dataframe tbody tr th:only-of-type {\n",
       "        vertical-align: middle;\n",
       "    }\n",
       "\n",
       "    .dataframe tbody tr th {\n",
       "        vertical-align: top;\n",
       "    }\n",
       "\n",
       "    .dataframe thead th {\n",
       "        text-align: right;\n",
       "    }\n",
       "</style>\n",
       "<table border=\"1\" class=\"dataframe\">\n",
       "  <thead>\n",
       "    <tr style=\"text-align: right;\">\n",
       "      <th></th>\n",
       "      <th>count</th>\n",
       "      <th>mean</th>\n",
       "      <th>std</th>\n",
       "      <th>min</th>\n",
       "      <th>25%</th>\n",
       "      <th>50%</th>\n",
       "      <th>75%</th>\n",
       "      <th>max</th>\n",
       "    </tr>\n",
       "    <tr>\n",
       "      <th>Embarked</th>\n",
       "      <th></th>\n",
       "      <th></th>\n",
       "      <th></th>\n",
       "      <th></th>\n",
       "      <th></th>\n",
       "      <th></th>\n",
       "      <th></th>\n",
       "      <th></th>\n",
       "    </tr>\n",
       "  </thead>\n",
       "  <tbody>\n",
       "    <tr>\n",
       "      <th>C</th>\n",
       "      <td>12.0</td>\n",
       "      <td>124.014233</td>\n",
       "      <td>87.994021</td>\n",
       "      <td>27.7208</td>\n",
       "      <td>57.9792</td>\n",
       "      <td>80.1896</td>\n",
       "      <td>171.7708</td>\n",
       "      <td>262.3750</td>\n",
       "    </tr>\n",
       "    <tr>\n",
       "      <th>S</th>\n",
       "      <td>13.0</td>\n",
       "      <td>113.731731</td>\n",
       "      <td>60.386313</td>\n",
       "      <td>30.0000</td>\n",
       "      <td>86.5000</td>\n",
       "      <td>93.5000</td>\n",
       "      <td>120.0000</td>\n",
       "      <td>211.3375</td>\n",
       "    </tr>\n",
       "  </tbody>\n",
       "</table>\n",
       "</div>"
      ],
      "text/plain": [
       "          count        mean        std      min      25%      50%       75%  \\\n",
       "Embarked                                                                      \n",
       "C          12.0  124.014233  87.994021  27.7208  57.9792  80.1896  171.7708   \n",
       "S          13.0  113.731731  60.386313  30.0000  86.5000  93.5000  120.0000   \n",
       "\n",
       "               max  \n",
       "Embarked            \n",
       "C         262.3750  \n",
       "S         211.3375  "
      ]
     },
     "execution_count": 21,
     "metadata": {},
     "output_type": "execute_result"
    }
   ],
   "source": [
    "# Look at the percentiles of fare prices paid by women inhabiting cabin level B\n",
    "training_data_2[(training_data_2['Cabin'].str[0]=='B') & (training_data_2['Sex'] == 'female')].groupby('Embarked')['Fare'].describe()"
   ]
  },
  {
   "cell_type": "code",
   "execution_count": 22,
   "metadata": {},
   "outputs": [],
   "source": [
    "# Replace the missing 'Embarked' datapoints with 'C' for 'Cherbourg'\n",
    "training_data_2.update(training_data_2['Embarked'].fillna('C'))"
   ]
  },
  {
   "cell_type": "markdown",
   "metadata": {},
   "source": [
    "Two passengers have missing port of embarkation values in the training dataset.\n",
    "\n",
    "**Options for handling missing values:**\n",
    "1. Remove the field entirely\n",
    "    - Not a good solution because 'Embarked' is a usable field\n",
    "    - The vast majority of observations for the 'Embarked' field are present, making 'Embarked' a very usable field that should not be removed\n",
    "2. Remove the observation that contains the missing value\n",
    "    - A valid solution, but not the best solution because it is important to have as many usable training observations as possible\n",
    "    - Since the training dataset is already relatively small small, it is ideal to not remove observations unless it is absolutely necessary\n",
    "3. Replace the missing value with an approximation of the value\n",
    "    - The best solution in this case\n",
    "\n",
    "**Strategy for replacing the missing port of embarkation values:**\n",
    "\n",
    "Both of the passengers with missing port of embarkation values have the same ticket number and cabin number. Both passengers are female first class passengers who paid the same fare. Both women reside on cabin floor B. No other passengers on the ship have the same ticket number as the two women with missing port of embarkation values, but several reside on the same cabin floor. \n",
    "\n",
    "First class women residing on cabin floor B who embarked from 'Cherbourg' generally paid fairs most similar to those of the two women with missing port of embarkation values. Therefore, it is best to replace the null port of embarkation values with 'C' for 'Cherbourg'."
   ]
  },
  {
   "cell_type": "markdown",
   "metadata": {},
   "source": [
    "### 2d. Deal with missing 'Age' values"
   ]
  },
  {
   "cell_type": "code",
   "execution_count": 23,
   "metadata": {},
   "outputs": [
    {
     "data": {
      "image/png": "[encoded data removed]",
      "text/plain": [
       "<Figure size 432x288 with 1 Axes>"
      ]
     },
     "metadata": {
      "needs_background": "light"
     },
     "output_type": "display_data"
    }
   ],
   "source": [
    "# Plot a histogram of ages in the training dataset\n",
    "training_data_2.Age.hist(bins=15, density = True, stacked = True, alpha = 0.6, color='royalblue')\n",
    "training_data_2.Age.plot(kind = 'density', color = 'royalblue')\n",
    "plt.xlabel('Age')\n",
    "plt.xlim(-10,85)\n",
    "plt.show()"
   ]
  },
  {
   "cell_type": "code",
   "execution_count": 24,
   "metadata": {},
   "outputs": [
    {
     "data": {
      "image/png": "[encoded data removed]",
      "text/plain": [
       "<Figure size 1008x432 with 3 Axes>"
      ]
     },
     "metadata": {
      "needs_background": "light"
     },
     "output_type": "display_data"
    }
   ],
   "source": [
    "# CREATE A FIGURE SHOWING THE COUNT OF PASSENGERS WITH AGE VALUES POPULATED BY CLASS, SURVIVORSHIP, AND SEX\n",
    "# Set up the figure with two subplots\n",
    "fig, (axis1,axis2,axis3) = plt.subplots(1, 3, figsize=(14,6))\n",
    "# Create a plot showing the count of observations with upper, middle, and lower classes\n",
    "sns.countplot(x = 'Pclass', data = training_data_2[training_data_2.Age.notnull()], palette = 'Blues_r', ax = axis1)\n",
    "axis1.set_xticklabels(['Upper','Middle','Lower'])\n",
    "axis1.set_xlabel('Ticket Class')\n",
    "# Create a plot showing the count of passengers who survived and did not survive\n",
    "sns.countplot(x = 'Survived', data = training_data_2[training_data_2.Age.notnull()], palette = 'Blues_r', ax = axis2)\n",
    "axis2.set_xticklabels(['No','Yes'])\n",
    "axis2.set_xlabel('Survived?')\n",
    "# Create a plot showing the count of observations by sex\n",
    "sns.countplot(x = 'Sex', data = training_data_2[training_data_2.Age.notnull()], palette = 'Blues_r', ax = axis3)\n",
    "axis3.set_xticklabels(['Male','Female'])\n",
    "axis3.set_xlabel('Sex')\n",
    "# Add title and show the graph\n",
    "plt.text(-3, 495, 'Count of Passengers With Ages', fontsize = 20)\n",
    "plt.show()"
   ]
  },
  {
   "cell_type": "code",
   "execution_count": 25,
   "metadata": {},
   "outputs": [
    {
     "data": {
      "image/png": "[encoded data removed]",
      "text/plain": [
       "<Figure size 1008x432 with 3 Axes>"
      ]
     },
     "metadata": {
      "needs_background": "light"
     },
     "output_type": "display_data"
    }
   ],
   "source": [
    "# CREATE A FIGURE SHOWING THE COUNT OF PASSENGERS WITH AGE VALUES EQUAL TO NULL BY CLASS, SURVIVORSHIP, AND SEX\n",
    "# Set up the figure with two subplots\n",
    "fig, (axis1,axis2,axis3) = plt.subplots(1, 3, figsize=(14,6))\n",
    "# Create a plot showing the count of observations with upper, middle, and lower classes\n",
    "sns.countplot(x = 'Pclass', data = training_data_2[training_data_2.Age.isnull()], palette = 'Oranges_r', ax = axis1)\n",
    "axis1.set_xticklabels(['Upper','Middle','Lower'])\n",
    "axis1.set_xlabel('Ticket Class')\n",
    "# Create a plot showing the count of passengers who survived and did not survive\n",
    "sns.countplot(x = 'Survived', data = training_data_2[training_data_2.Age.isnull()], palette = 'Oranges_r', ax = axis2)\n",
    "axis2.set_xticklabels(['No','Yes'])\n",
    "axis2.set_xlabel('Survived?')\n",
    "# Create a plot showing the count of observations by sex\n",
    "sns.countplot(x = 'Sex', data = training_data_2[training_data_2.Age.isnull()], palette = 'Oranges_r', ax = axis3)\n",
    "axis3.set_xticklabels(['Male','Female'])\n",
    "axis3.set_xlabel('Sex')\n",
    "# Add title and show the graph\n",
    "plt.text(-3, 140, 'Count of Passengers Without Ages', fontsize = 20)\n",
    "plt.show()"
   ]
  },
  {
   "cell_type": "code",
   "execution_count": 26,
   "metadata": {},
   "outputs": [],
   "source": [
    "# Replace missing variables with the median of age for individuals grouped by ticket class, sex, and embarked location\n",
    "training_data_2['Age'] = training_data_2.groupby(['Pclass','Sex','Embarked'])['Age'].transform(lambda x: x.fillna(x.median()))\n",
    "testing_data_2['Age'] = testing_data_2.groupby(['Pclass','Sex','Embarked'])['Age'].transform(lambda x: x.fillna(x.median()))"
   ]
  },
  {
   "cell_type": "code",
   "execution_count": 27,
   "metadata": {},
   "outputs": [
    {
     "data": {
      "image/png": "[encoded data removed]",
      "text/plain": [
       "<Figure size 432x288 with 1 Axes>"
      ]
     },
     "metadata": {
      "needs_background": "light"
     },
     "output_type": "display_data"
    }
   ],
   "source": [
    "# Plot histogram of ages before nulls were replaced and show this histogram in blue\n",
    "training_data.Age.hist(bins=15, density = True, stacked = True, alpha = 0.6, color='royalblue')\n",
    "training_data.Age.plot(kind = 'density', color = 'royalblue', label = 'before')\n",
    "# Plot histogram of ages after null values were replaced and show the histogram in orange\n",
    "training_data_2.Age.hist(bins=15, density = True, stacked = True, alpha = 0.5, color='orange')\n",
    "training_data_2.Age.plot(kind = 'density', color = 'orange', label = 'after')\n",
    "# Create legend and labels\n",
    "plt.legend()\n",
    "plt.xlabel('Age')\n",
    "plt.xlim(-10,85)\n",
    "plt.show()"
   ]
  },
  {
   "cell_type": "markdown",
   "metadata": {},
   "source": [
    "~20% of the age values are missing from both the training and testing datasets.\n",
    "\n",
    "**Options for handling missing values:**\n",
    "1. Remove the field entirely\n",
    "    - Not a good solution because 'Age' is likely a significant field\n",
    "    - During the Titanic Disaster, efforts were made to save children first so it's likely that age is an important field that helps determine survivorship. As a result, we do not want to remove this field\n",
    "2. Remove the observation that contains the missing value\n",
    "    - Not a good solution because this would mean removing a significant portion of the data\n",
    "    - Removing ~20% of the data, would likely adversely impact the model's predictive power because the model would have fewer examples of data points to train on\n",
    "    - Additionally, removing ~20% of the data would mean losing visibility on ~20% of the test observations meaning there would be little basis for predicting Survivorship for those ~20% removed observations\n",
    "3. Replace the missing value with an approximation of the value\n",
    "    - The best solution in this case\n",
    "\n",
    "**Strategy for replacing the missing age values:**\n",
    "\n",
    "The age variable is right skewed a right skewed so it is preferable to replace the missing value with a median value rather than an average value so that the approximation is not overestimated. Ideally, the age approximation should be based on a the age of a set of passengers similar to the passengers whose ages are unknown. In this case, it is a good solution to replace the missing ages with the median ages of passengers with the same ticket class, sex, and port of embarkation as the passenger whose ages are unknown. A graph of the histogram of ages before and after replacements are made shows that the distribution of ages is largely preserved after these replacements are made."
   ]
  },
  {
   "cell_type": "markdown",
   "metadata": {},
   "source": [
    "### 2e. Deal with missing 'Cabin' values"
   ]
  },
  {
   "cell_type": "markdown",
   "metadata": {},
   "source": [
    "~77% of the cabin number values are missing from both the training and testing datasets.\n",
    "\n",
    "**Options for handling missing values:**\n",
    "1. Remove the field entirely\n",
    "    - The best solution in this case\n",
    "2. Remove the observation that contains the missing value\n",
    "    - Not a good solution because this would mean removing a significant portion of the data\n",
    "    - Removing ~77% of the data, would adversely impact the model's predictive power because the model would have significantly fewer examples to train on\n",
    "    - Removing ~77% of the data would mean losing visibility on ~77% of the test observations meaning there would be little basis for predicting Survivorship for the removed observations\n",
    "3. Replace the missing value with an approximation of the value\n",
    "    - Not a good solution because only ~23% of the observations have cabin numbers\n",
    "    - Given that very few observations have the cabin number recorded, it would be very difficult to reaonably approximate the cabin number for ~77% of the data"
   ]
  },
  {
   "cell_type": "markdown",
   "metadata": {},
   "source": [
    "# 3. Explore Variables and their Impact on Survival"
   ]
  },
  {
   "cell_type": "markdown",
   "metadata": {},
   "source": [
    "### 3a. Explore Ticket Class"
   ]
  },
  {
   "cell_type": "code",
   "execution_count": 28,
   "metadata": {},
   "outputs": [
    {
     "data": {
      "image/png": "[encoded data removed]",
      "text/plain": [
       "<Figure size 1008x432 with 2 Axes>"
      ]
     },
     "metadata": {
      "needs_background": "light"
     },
     "output_type": "display_data"
    }
   ],
   "source": [
    "# Set up the figure with two subplots\n",
    "fig, (axis1,axis2) = plt.subplots(1, 2, figsize=(14,6))\n",
    "# Create a plot showing the count of observations with upper, middle, and lower classes\n",
    "sns.countplot(x = 'Pclass', data = training_data_2, palette = 'Blues_r', ax = axis1)\n",
    "axis1.set_xticklabels(['Upper','Middle','Lower'])\n",
    "axis1.set_xlabel('Ticket Class')\n",
    "# Create a plot showing the proportion of people in each class who survived\n",
    "sns.barplot('Pclass', 'Survived', data = training_data_2, palette = 'Oranges_r', ax = axis2)\n",
    "axis2.set_xticklabels(['Upper','Middle','Lower'])\n",
    "axis2.set_xlabel('Ticket Class')\n",
    "plt.show()"
   ]
  },
  {
   "cell_type": "markdown",
   "metadata": {},
   "source": [
    "Lower class ticket holders make up the bulk of the training dataset relative to middle and upper class ticket holders. People of higher classes tend to have higher odds of surviving the shipwreck."
   ]
  },
  {
   "cell_type": "markdown",
   "metadata": {},
   "source": [
    "### 3b. Expore Gender"
   ]
  },
  {
   "cell_type": "code",
   "execution_count": 29,
   "metadata": {},
   "outputs": [
    {
     "data": {
      "image/png": "[encoded data removed]",
      "text/plain": [
       "<Figure size 1008x432 with 2 Axes>"
      ]
     },
     "metadata": {
      "needs_background": "light"
     },
     "output_type": "display_data"
    }
   ],
   "source": [
    "# Set up the figure with two subplots\n",
    "fig, (axis1,axis2) = plt.subplots(1, 2, figsize=(14,6))\n",
    "# Create a plot showing the count of observations with upper, middle, and lower classes\n",
    "sns.countplot(x = 'Sex', data = training_data_2, palette = 'Blues_r', ax = axis1)\n",
    "axis1.set_xticklabels(['Male','Female'])\n",
    "axis1.set_xlabel('Sex')\n",
    "# Create a plot showing the proportion of people in each class who survive\n",
    "sns.barplot('Sex', 'Survived', data = training_data_2, palette = 'Oranges_r', ax = axis2)\n",
    "axis2.set_xticklabels(['Male','Female'])\n",
    "axis2.set_xlabel('Sex')\n",
    "plt.show()"
   ]
  },
  {
   "cell_type": "markdown",
   "metadata": {},
   "source": [
    "The dataset is composed of significantly more men than women. Women were much more likely to survive the shipwreck than men."
   ]
  },
  {
   "cell_type": "markdown",
   "metadata": {},
   "source": [
    "### 3c. Explore Age"
   ]
  },
  {
   "cell_type": "code",
   "execution_count": 30,
   "metadata": {},
   "outputs": [
    {
     "data": {
      "image/png": "[encoded data removed]",
      "text/plain": [
       "<Figure size 1080x576 with 1 Axes>"
      ]
     },
     "metadata": {
      "needs_background": "light"
     },
     "output_type": "display_data"
    }
   ],
   "source": [
    "# Set up figure with two subplots\n",
    "plt.figure(figsize=(15,8))\n",
    "# Create a kernel density estimation plot showing the ages of passengers who survive the shipwreck and color the plot blue\n",
    "ax1 = sns.kdeplot(training_data_2['Age'][training_data_2.Survived == 1], color = 'royalblue', shade=True)\n",
    "# Create a kernel density estimation plot showing the ages of passengers who did not survive the shipwreck and color the plot orange\n",
    "ax2 = sns.kdeplot(training_data_2['Age'][training_data_2.Survived == 0], color = 'orange', shade=True)\n",
    "# Add titles and legend\n",
    "plt.legend(['Survived', 'Died'])\n",
    "plt.title('Density Plot of Age for Surviving Population and Deceased Population (Including Replaced Age Values)')\n",
    "ax2.set(xlabel = 'Age')\n",
    "plt.show()"
   ]
  },
  {
   "cell_type": "code",
   "execution_count": 31,
   "metadata": {},
   "outputs": [
    {
     "data": {
      "image/png": "[encoded data removed]",
      "text/plain": [
       "<Figure size 1080x576 with 1 Axes>"
      ]
     },
     "metadata": {
      "needs_background": "light"
     },
     "output_type": "display_data"
    }
   ],
   "source": [
    "# Set up figure with two subplots\n",
    "plt.figure(figsize=(15,8))\n",
    "# Create a kernel density estimation plot showing the ages of passengers who survive the shipwreck and color the plot blue\n",
    "ax1 = sns.kdeplot(training_data['Age'][(training_data.Age.notnull()) & (training_data.Survived == 1)], color = 'royalblue', shade=True)\n",
    "# Create a kernel density estimation plot showing the ages of passengers who did not survive the shipwreck and color the plot orange\n",
    "ax2 = sns.kdeplot(training_data['Age'][(training_data.Age.notnull()) & (training_data.Survived == 0)], color = 'orange', shade=True)\n",
    "# Add titles and legend\n",
    "plt.legend(['Survived', 'Died'])\n",
    "plt.title('Density Plot of Age for Surviving Population and Deceased Population (Only Including Passengers Whose Ages Originally Specified in the Data)')\n",
    "ax2.set(xlabel = 'Age')\n",
    "plt.xlim(-10,85)\n",
    "plt.show()"
   ]
  },
  {
   "cell_type": "code",
   "execution_count": 32,
   "metadata": {},
   "outputs": [
    {
     "data": {
      "text/html": [
       "<div>\n",
       "<style scoped>\n",
       "    .dataframe tbody tr th:only-of-type {\n",
       "        vertical-align: middle;\n",
       "    }\n",
       "\n",
       "    .dataframe tbody tr th {\n",
       "        vertical-align: top;\n",
       "    }\n",
       "\n",
       "    .dataframe thead tr th {\n",
       "        text-align: left;\n",
       "    }\n",
       "\n",
       "    .dataframe thead tr:last-of-type th {\n",
       "        text-align: right;\n",
       "    }\n",
       "</style>\n",
       "<table border=\"1\" class=\"dataframe\">\n",
       "  <thead>\n",
       "    <tr>\n",
       "      <th></th>\n",
       "      <th colspan=\"2\" halign=\"left\">Survived</th>\n",
       "    </tr>\n",
       "    <tr>\n",
       "      <th></th>\n",
       "      <th>mean</th>\n",
       "      <th>count</th>\n",
       "    </tr>\n",
       "    <tr>\n",
       "      <th>Age</th>\n",
       "      <th></th>\n",
       "      <th></th>\n",
       "    </tr>\n",
       "  </thead>\n",
       "  <tbody>\n",
       "    <tr>\n",
       "      <th>0.42</th>\n",
       "      <td>1.000000</td>\n",
       "      <td>1</td>\n",
       "    </tr>\n",
       "    <tr>\n",
       "      <th>0.67</th>\n",
       "      <td>1.000000</td>\n",
       "      <td>1</td>\n",
       "    </tr>\n",
       "    <tr>\n",
       "      <th>0.75</th>\n",
       "      <td>1.000000</td>\n",
       "      <td>2</td>\n",
       "    </tr>\n",
       "    <tr>\n",
       "      <th>0.83</th>\n",
       "      <td>1.000000</td>\n",
       "      <td>2</td>\n",
       "    </tr>\n",
       "    <tr>\n",
       "      <th>0.92</th>\n",
       "      <td>1.000000</td>\n",
       "      <td>1</td>\n",
       "    </tr>\n",
       "    <tr>\n",
       "      <th>1.00</th>\n",
       "      <td>0.714286</td>\n",
       "      <td>7</td>\n",
       "    </tr>\n",
       "    <tr>\n",
       "      <th>2.00</th>\n",
       "      <td>0.300000</td>\n",
       "      <td>10</td>\n",
       "    </tr>\n",
       "    <tr>\n",
       "      <th>3.00</th>\n",
       "      <td>0.833333</td>\n",
       "      <td>6</td>\n",
       "    </tr>\n",
       "    <tr>\n",
       "      <th>4.00</th>\n",
       "      <td>0.700000</td>\n",
       "      <td>10</td>\n",
       "    </tr>\n",
       "    <tr>\n",
       "      <th>5.00</th>\n",
       "      <td>1.000000</td>\n",
       "      <td>4</td>\n",
       "    </tr>\n",
       "    <tr>\n",
       "      <th>6.00</th>\n",
       "      <td>0.666667</td>\n",
       "      <td>3</td>\n",
       "    </tr>\n",
       "    <tr>\n",
       "      <th>7.00</th>\n",
       "      <td>0.333333</td>\n",
       "      <td>3</td>\n",
       "    </tr>\n",
       "    <tr>\n",
       "      <th>8.00</th>\n",
       "      <td>0.500000</td>\n",
       "      <td>4</td>\n",
       "    </tr>\n",
       "    <tr>\n",
       "      <th>9.00</th>\n",
       "      <td>0.250000</td>\n",
       "      <td>8</td>\n",
       "    </tr>\n",
       "    <tr>\n",
       "      <th>10.00</th>\n",
       "      <td>0.000000</td>\n",
       "      <td>2</td>\n",
       "    </tr>\n",
       "    <tr>\n",
       "      <th>11.00</th>\n",
       "      <td>0.250000</td>\n",
       "      <td>4</td>\n",
       "    </tr>\n",
       "    <tr>\n",
       "      <th>12.00</th>\n",
       "      <td>1.000000</td>\n",
       "      <td>1</td>\n",
       "    </tr>\n",
       "    <tr>\n",
       "      <th>13.00</th>\n",
       "      <td>1.000000</td>\n",
       "      <td>2</td>\n",
       "    </tr>\n",
       "    <tr>\n",
       "      <th>14.00</th>\n",
       "      <td>0.500000</td>\n",
       "      <td>6</td>\n",
       "    </tr>\n",
       "    <tr>\n",
       "      <th>14.25</th>\n",
       "      <td>0.571429</td>\n",
       "      <td>7</td>\n",
       "    </tr>\n",
       "    <tr>\n",
       "      <th>14.50</th>\n",
       "      <td>0.000000</td>\n",
       "      <td>1</td>\n",
       "    </tr>\n",
       "    <tr>\n",
       "      <th>15.00</th>\n",
       "      <td>0.800000</td>\n",
       "      <td>5</td>\n",
       "    </tr>\n",
       "    <tr>\n",
       "      <th>16.00</th>\n",
       "      <td>0.352941</td>\n",
       "      <td>17</td>\n",
       "    </tr>\n",
       "    <tr>\n",
       "      <th>17.00</th>\n",
       "      <td>0.461538</td>\n",
       "      <td>13</td>\n",
       "    </tr>\n",
       "    <tr>\n",
       "      <th>18.00</th>\n",
       "      <td>0.346154</td>\n",
       "      <td>26</td>\n",
       "    </tr>\n",
       "    <tr>\n",
       "      <th>19.00</th>\n",
       "      <td>0.360000</td>\n",
       "      <td>25</td>\n",
       "    </tr>\n",
       "    <tr>\n",
       "      <th>20.00</th>\n",
       "      <td>0.578947</td>\n",
       "      <td>38</td>\n",
       "    </tr>\n",
       "    <tr>\n",
       "      <th>20.50</th>\n",
       "      <td>0.000000</td>\n",
       "      <td>1</td>\n",
       "    </tr>\n",
       "    <tr>\n",
       "      <th>21.00</th>\n",
       "      <td>0.208333</td>\n",
       "      <td>24</td>\n",
       "    </tr>\n",
       "    <tr>\n",
       "      <th>22.00</th>\n",
       "      <td>0.407407</td>\n",
       "      <td>27</td>\n",
       "    </tr>\n",
       "    <tr>\n",
       "      <th>23.00</th>\n",
       "      <td>0.259259</td>\n",
       "      <td>27</td>\n",
       "    </tr>\n",
       "    <tr>\n",
       "      <th>23.50</th>\n",
       "      <td>0.000000</td>\n",
       "      <td>1</td>\n",
       "    </tr>\n",
       "    <tr>\n",
       "      <th>24.00</th>\n",
       "      <td>0.500000</td>\n",
       "      <td>30</td>\n",
       "    </tr>\n",
       "    <tr>\n",
       "      <th>24.50</th>\n",
       "      <td>0.000000</td>\n",
       "      <td>1</td>\n",
       "    </tr>\n",
       "    <tr>\n",
       "      <th>25.00</th>\n",
       "      <td>0.135135</td>\n",
       "      <td>74</td>\n",
       "    </tr>\n",
       "    <tr>\n",
       "      <th>26.00</th>\n",
       "      <td>0.250000</td>\n",
       "      <td>36</td>\n",
       "    </tr>\n",
       "    <tr>\n",
       "      <th>27.00</th>\n",
       "      <td>0.302326</td>\n",
       "      <td>43</td>\n",
       "    </tr>\n",
       "    <tr>\n",
       "      <th>28.00</th>\n",
       "      <td>0.280000</td>\n",
       "      <td>25</td>\n",
       "    </tr>\n",
       "    <tr>\n",
       "      <th>28.50</th>\n",
       "      <td>0.000000</td>\n",
       "      <td>2</td>\n",
       "    </tr>\n",
       "    <tr>\n",
       "      <th>29.00</th>\n",
       "      <td>0.428571</td>\n",
       "      <td>21</td>\n",
       "    </tr>\n",
       "    <tr>\n",
       "      <th>29.50</th>\n",
       "      <td>0.500000</td>\n",
       "      <td>2</td>\n",
       "    </tr>\n",
       "    <tr>\n",
       "      <th>30.00</th>\n",
       "      <td>0.363636</td>\n",
       "      <td>33</td>\n",
       "    </tr>\n",
       "    <tr>\n",
       "      <th>30.50</th>\n",
       "      <td>0.000000</td>\n",
       "      <td>2</td>\n",
       "    </tr>\n",
       "    <tr>\n",
       "      <th>31.00</th>\n",
       "      <td>0.470588</td>\n",
       "      <td>17</td>\n",
       "    </tr>\n",
       "    <tr>\n",
       "      <th>32.00</th>\n",
       "      <td>0.500000</td>\n",
       "      <td>18</td>\n",
       "    </tr>\n",
       "    <tr>\n",
       "      <th>32.50</th>\n",
       "      <td>0.500000</td>\n",
       "      <td>2</td>\n",
       "    </tr>\n",
       "    <tr>\n",
       "      <th>33.00</th>\n",
       "      <td>0.526316</td>\n",
       "      <td>19</td>\n",
       "    </tr>\n",
       "    <tr>\n",
       "      <th>34.00</th>\n",
       "      <td>0.400000</td>\n",
       "      <td>15</td>\n",
       "    </tr>\n",
       "    <tr>\n",
       "      <th>34.50</th>\n",
       "      <td>0.000000</td>\n",
       "      <td>1</td>\n",
       "    </tr>\n",
       "    <tr>\n",
       "      <th>35.00</th>\n",
       "      <td>0.611111</td>\n",
       "      <td>18</td>\n",
       "    </tr>\n",
       "    <tr>\n",
       "      <th>36.00</th>\n",
       "      <td>0.500000</td>\n",
       "      <td>22</td>\n",
       "    </tr>\n",
       "    <tr>\n",
       "      <th>36.50</th>\n",
       "      <td>0.142857</td>\n",
       "      <td>7</td>\n",
       "    </tr>\n",
       "    <tr>\n",
       "      <th>37.00</th>\n",
       "      <td>0.166667</td>\n",
       "      <td>6</td>\n",
       "    </tr>\n",
       "    <tr>\n",
       "      <th>38.00</th>\n",
       "      <td>0.625000</td>\n",
       "      <td>16</td>\n",
       "    </tr>\n",
       "    <tr>\n",
       "      <th>39.00</th>\n",
       "      <td>0.357143</td>\n",
       "      <td>14</td>\n",
       "    </tr>\n",
       "    <tr>\n",
       "      <th>40.00</th>\n",
       "      <td>0.461538</td>\n",
       "      <td>13</td>\n",
       "    </tr>\n",
       "    <tr>\n",
       "      <th>40.50</th>\n",
       "      <td>0.000000</td>\n",
       "      <td>2</td>\n",
       "    </tr>\n",
       "    <tr>\n",
       "      <th>41.00</th>\n",
       "      <td>0.333333</td>\n",
       "      <td>6</td>\n",
       "    </tr>\n",
       "    <tr>\n",
       "      <th>42.00</th>\n",
       "      <td>0.357143</td>\n",
       "      <td>28</td>\n",
       "    </tr>\n",
       "    <tr>\n",
       "      <th>43.00</th>\n",
       "      <td>0.200000</td>\n",
       "      <td>5</td>\n",
       "    </tr>\n",
       "    <tr>\n",
       "      <th>44.00</th>\n",
       "      <td>0.333333</td>\n",
       "      <td>9</td>\n",
       "    </tr>\n",
       "    <tr>\n",
       "      <th>45.00</th>\n",
       "      <td>0.416667</td>\n",
       "      <td>12</td>\n",
       "    </tr>\n",
       "    <tr>\n",
       "      <th>45.50</th>\n",
       "      <td>0.000000</td>\n",
       "      <td>2</td>\n",
       "    </tr>\n",
       "    <tr>\n",
       "      <th>46.00</th>\n",
       "      <td>0.000000</td>\n",
       "      <td>3</td>\n",
       "    </tr>\n",
       "    <tr>\n",
       "      <th>47.00</th>\n",
       "      <td>0.111111</td>\n",
       "      <td>9</td>\n",
       "    </tr>\n",
       "    <tr>\n",
       "      <th>48.00</th>\n",
       "      <td>0.666667</td>\n",
       "      <td>9</td>\n",
       "    </tr>\n",
       "    <tr>\n",
       "      <th>49.00</th>\n",
       "      <td>0.666667</td>\n",
       "      <td>6</td>\n",
       "    </tr>\n",
       "    <tr>\n",
       "      <th>50.00</th>\n",
       "      <td>0.500000</td>\n",
       "      <td>10</td>\n",
       "    </tr>\n",
       "    <tr>\n",
       "      <th>51.00</th>\n",
       "      <td>0.285714</td>\n",
       "      <td>7</td>\n",
       "    </tr>\n",
       "    <tr>\n",
       "      <th>52.00</th>\n",
       "      <td>0.500000</td>\n",
       "      <td>6</td>\n",
       "    </tr>\n",
       "    <tr>\n",
       "      <th>53.00</th>\n",
       "      <td>1.000000</td>\n",
       "      <td>1</td>\n",
       "    </tr>\n",
       "    <tr>\n",
       "      <th>54.00</th>\n",
       "      <td>0.375000</td>\n",
       "      <td>8</td>\n",
       "    </tr>\n",
       "    <tr>\n",
       "      <th>55.00</th>\n",
       "      <td>0.500000</td>\n",
       "      <td>2</td>\n",
       "    </tr>\n",
       "    <tr>\n",
       "      <th>55.50</th>\n",
       "      <td>0.000000</td>\n",
       "      <td>1</td>\n",
       "    </tr>\n",
       "    <tr>\n",
       "      <th>56.00</th>\n",
       "      <td>0.500000</td>\n",
       "      <td>4</td>\n",
       "    </tr>\n",
       "    <tr>\n",
       "      <th>57.00</th>\n",
       "      <td>0.000000</td>\n",
       "      <td>2</td>\n",
       "    </tr>\n",
       "    <tr>\n",
       "      <th>58.00</th>\n",
       "      <td>0.600000</td>\n",
       "      <td>5</td>\n",
       "    </tr>\n",
       "    <tr>\n",
       "      <th>59.00</th>\n",
       "      <td>0.000000</td>\n",
       "      <td>2</td>\n",
       "    </tr>\n",
       "    <tr>\n",
       "      <th>60.00</th>\n",
       "      <td>0.500000</td>\n",
       "      <td>4</td>\n",
       "    </tr>\n",
       "    <tr>\n",
       "      <th>61.00</th>\n",
       "      <td>0.000000</td>\n",
       "      <td>3</td>\n",
       "    </tr>\n",
       "    <tr>\n",
       "      <th>62.00</th>\n",
       "      <td>0.500000</td>\n",
       "      <td>4</td>\n",
       "    </tr>\n",
       "    <tr>\n",
       "      <th>63.00</th>\n",
       "      <td>1.000000</td>\n",
       "      <td>2</td>\n",
       "    </tr>\n",
       "    <tr>\n",
       "      <th>64.00</th>\n",
       "      <td>0.000000</td>\n",
       "      <td>2</td>\n",
       "    </tr>\n",
       "    <tr>\n",
       "      <th>65.00</th>\n",
       "      <td>0.000000</td>\n",
       "      <td>3</td>\n",
       "    </tr>\n",
       "    <tr>\n",
       "      <th>66.00</th>\n",
       "      <td>0.000000</td>\n",
       "      <td>1</td>\n",
       "    </tr>\n",
       "    <tr>\n",
       "      <th>70.00</th>\n",
       "      <td>0.000000</td>\n",
       "      <td>2</td>\n",
       "    </tr>\n",
       "    <tr>\n",
       "      <th>70.50</th>\n",
       "      <td>0.000000</td>\n",
       "      <td>1</td>\n",
       "    </tr>\n",
       "    <tr>\n",
       "      <th>71.00</th>\n",
       "      <td>0.000000</td>\n",
       "      <td>2</td>\n",
       "    </tr>\n",
       "    <tr>\n",
       "      <th>74.00</th>\n",
       "      <td>0.000000</td>\n",
       "      <td>1</td>\n",
       "    </tr>\n",
       "    <tr>\n",
       "      <th>80.00</th>\n",
       "      <td>1.000000</td>\n",
       "      <td>1</td>\n",
       "    </tr>\n",
       "  </tbody>\n",
       "</table>\n",
       "</div>"
      ],
      "text/plain": [
       "       Survived      \n",
       "           mean count\n",
       "Age                  \n",
       "0.42   1.000000     1\n",
       "0.67   1.000000     1\n",
       "0.75   1.000000     2\n",
       "0.83   1.000000     2\n",
       "0.92   1.000000     1\n",
       "1.00   0.714286     7\n",
       "2.00   0.300000    10\n",
       "3.00   0.833333     6\n",
       "4.00   0.700000    10\n",
       "5.00   1.000000     4\n",
       "6.00   0.666667     3\n",
       "7.00   0.333333     3\n",
       "8.00   0.500000     4\n",
       "9.00   0.250000     8\n",
       "10.00  0.000000     2\n",
       "11.00  0.250000     4\n",
       "12.00  1.000000     1\n",
       "13.00  1.000000     2\n",
       "14.00  0.500000     6\n",
       "14.25  0.571429     7\n",
       "14.50  0.000000     1\n",
       "15.00  0.800000     5\n",
       "16.00  0.352941    17\n",
       "17.00  0.461538    13\n",
       "18.00  0.346154    26\n",
       "19.00  0.360000    25\n",
       "20.00  0.578947    38\n",
       "20.50  0.000000     1\n",
       "21.00  0.208333    24\n",
       "22.00  0.407407    27\n",
       "23.00  0.259259    27\n",
       "23.50  0.000000     1\n",
       "24.00  0.500000    30\n",
       "24.50  0.000000     1\n",
       "25.00  0.135135    74\n",
       "26.00  0.250000    36\n",
       "27.00  0.302326    43\n",
       "28.00  0.280000    25\n",
       "28.50  0.000000     2\n",
       "29.00  0.428571    21\n",
       "29.50  0.500000     2\n",
       "30.00  0.363636    33\n",
       "30.50  0.000000     2\n",
       "31.00  0.470588    17\n",
       "32.00  0.500000    18\n",
       "32.50  0.500000     2\n",
       "33.00  0.526316    19\n",
       "34.00  0.400000    15\n",
       "34.50  0.000000     1\n",
       "35.00  0.611111    18\n",
       "36.00  0.500000    22\n",
       "36.50  0.142857     7\n",
       "37.00  0.166667     6\n",
       "38.00  0.625000    16\n",
       "39.00  0.357143    14\n",
       "40.00  0.461538    13\n",
       "40.50  0.000000     2\n",
       "41.00  0.333333     6\n",
       "42.00  0.357143    28\n",
       "43.00  0.200000     5\n",
       "44.00  0.333333     9\n",
       "45.00  0.416667    12\n",
       "45.50  0.000000     2\n",
       "46.00  0.000000     3\n",
       "47.00  0.111111     9\n",
       "48.00  0.666667     9\n",
       "49.00  0.666667     6\n",
       "50.00  0.500000    10\n",
       "51.00  0.285714     7\n",
       "52.00  0.500000     6\n",
       "53.00  1.000000     1\n",
       "54.00  0.375000     8\n",
       "55.00  0.500000     2\n",
       "55.50  0.000000     1\n",
       "56.00  0.500000     4\n",
       "57.00  0.000000     2\n",
       "58.00  0.600000     5\n",
       "59.00  0.000000     2\n",
       "60.00  0.500000     4\n",
       "61.00  0.000000     3\n",
       "62.00  0.500000     4\n",
       "63.00  1.000000     2\n",
       "64.00  0.000000     2\n",
       "65.00  0.000000     3\n",
       "66.00  0.000000     1\n",
       "70.00  0.000000     2\n",
       "70.50  0.000000     1\n",
       "71.00  0.000000     2\n",
       "74.00  0.000000     1\n",
       "80.00  1.000000     1"
      ]
     },
     "execution_count": 32,
     "metadata": {},
     "output_type": "execute_result"
    }
   ],
   "source": [
    "# Look at average survival and count of passengers by age\n",
    "training_data_2[['Age', 'Survived']].groupby(['Age'], as_index = False).agg(['mean', 'count'])"
   ]
  },
  {
   "cell_type": "markdown",
   "metadata": {},
   "source": [
    "In the above graphs, density curves are used to show the different distributions of ages for the passengers who survive the shipwreck and the passengers who do not survive the shipwreck. The goal is to see whether or not the distribution of ages for the surviving population is different than the distribution of ages of the deceased population. If the distributions are different, it could mean that age plays a role in the likelihood of someone surviving the shipwreck.\n",
    "\n",
    "The first graph (titled 'Density Plot of Age for Surviving Population and Deceased Population (Including Replaced Age Values)') compares the distribution of ages for passengers who survive the shipwreck relative to passengers who do not survive the shipwreck. Note that in the first graph, the age distribution for deceased passengers and surviving passengers differs in two ways:\n",
    "\n",
    "    1. A higher proportion of surviving individuals are between the ages of ~0 and ~18\n",
    "    2. A higher proportion of deceased passengers are between the ages of ~18 and ~35\n",
    "    \n",
    "The second difference is due to the methodology used to replace null ages. Null ages are replaced by median values grouped by different factors. Since passengers with missing age values tend to disproportionately exist in the deceased group, it makes sense that a higher proportion of deceased passengers are beterrn the ages of ~18 and 35 when missing age values are replaced. This explanation for the second difference is highlighted in the second graph titled 'Density Plot of Age for Surviving Population and Deceased Population (Only Including Passengers Whose Ages Originally Specified in the Data)'. The second graph shows the same density curves, but with passengers with Age equal to null excluded. Without the null age values replaced, the higher proportion of deceased passengers between ages 18 and 35 are no longer visible.\n",
    "\n",
    "The key takeaway on the age variable is that it appears that children are moore likely to survive the shipwreck than adults. "
   ]
  },
  {
   "cell_type": "markdown",
   "metadata": {},
   "source": [
    "### 3d. Explore Sibling/Spouses On Board the Titanic"
   ]
  },
  {
   "cell_type": "code",
   "execution_count": 33,
   "metadata": {},
   "outputs": [
    {
     "data": {
      "image/png": "[encoded data removed]",
      "text/plain": [
       "<Figure size 1008x432 with 2 Axes>"
      ]
     },
     "metadata": {
      "needs_background": "light"
     },
     "output_type": "display_data"
    }
   ],
   "source": [
    "# Set up the figure with two subplots\n",
    "fig, (axis1,axis2) = plt.subplots(1, 2, figsize=(14,6))\n",
    "# Create a plot showing the count of observations with different numbers of siblings / spouses on board the titanic\n",
    "sns.countplot(x = 'SibSp', data = training_data_2, palette = 'Blues_r', ax = axis1)\n",
    "axis1.set_xlabel('Number of Siblings / Spouses On Board Titanic')\n",
    "# Create a plot showing the proportion of with different numbers of siblings / spouses onboard the titanic who survive\n",
    "sns.barplot('SibSp', 'Survived', data = training_data_2, palette = 'Oranges_r', ax = axis2)\n",
    "axis2.set_xlabel('Number of Siblings / Spouses On Board Titanic')\n",
    "plt.show()"
   ]
  },
  {
   "cell_type": "markdown",
   "metadata": {},
   "source": [
    "The vast majority of passengers in the training dataset do not have a sibling or spouse on board the Titanic. There are also several passengers with one sibling or spouse on board and much fewer with two or more siblings or spouses on board.\n",
    "\n",
    "There seems to generally be higher survivorship for passengers traveling with one or more siblings or spouses relative to passengers traveling without any siblings or spouses."
   ]
  },
  {
   "cell_type": "markdown",
   "metadata": {},
   "source": [
    "### 3e. Explore Parents/Children On Board the Titanic"
   ]
  },
  {
   "cell_type": "code",
   "execution_count": 34,
   "metadata": {},
   "outputs": [
    {
     "data": {
      "image/png": "[encoded data removed]",
      "text/plain": [
       "<Figure size 1008x432 with 2 Axes>"
      ]
     },
     "metadata": {
      "needs_background": "light"
     },
     "output_type": "display_data"
    }
   ],
   "source": [
    "# Set up the figure with two subplots\n",
    "fig, (axis1,axis2) = plt.subplots(1, 2, figsize=(14,6))\n",
    "# Create a plot showing the count of observations with different numbers of parents / children on board the titanic\n",
    "sns.countplot(x = 'Parch', data = training_data_2, palette = 'Blues_r', ax = axis1)\n",
    "axis1.set_xlabel('Number of Parents / Children On Board Titanic')\n",
    "# Create a plot showing the proportion of with different numbers of parents / children onboard the titanic who survive\n",
    "sns.barplot('Parch', 'Survived', data = training_data_2, palette = 'Oranges_r', ax = axis2)\n",
    "axis2.set_xlabel('Number of Parents / Children On Board Titanic')\n",
    "plt.show()"
   ]
  },
  {
   "cell_type": "markdown",
   "metadata": {},
   "source": [
    "The vast majority of passengers in the training dataset do not have a parent or child on board the Titanic. There are also several passengers with one parent or child on board and much fewer with two or more parents or children on board.\n",
    "\n",
    "There seems to generally be higher survivorship for passengers traveling with one or more parents or children relative to passengers traveling without any parents or children."
   ]
  },
  {
   "cell_type": "markdown",
   "metadata": {},
   "source": [
    "### 3f. Explore Fare"
   ]
  },
  {
   "cell_type": "code",
   "execution_count": 35,
   "metadata": {},
   "outputs": [
    {
     "data": {
      "image/png": "[encoded data removed]",
      "text/plain": [
       "<Figure size 1080x576 with 1 Axes>"
      ]
     },
     "metadata": {
      "needs_background": "light"
     },
     "output_type": "display_data"
    }
   ],
   "source": [
    "# Create a density plot showing the distribution of fares passengers paid\n",
    "plt.figure(figsize=(15,8))\n",
    "ax1 = sns.kdeplot(training_data_2['Fare'], color='grey', shade=True)\n",
    "plt.title('Density Plot of Fare')\n",
    "ax1.set(xlabel = 'Fare')\n",
    "plt.show()"
   ]
  },
  {
   "cell_type": "code",
   "execution_count": 36,
   "metadata": {},
   "outputs": [],
   "source": [
    "# Create a pivot table showing the counts of passengers per ticket number\n",
    "training_data_3 = training_data_2.copy()\n",
    "training_data_3.drop(columns = ['Survived'], inplace = True)\n",
    "combined_data = training_data_3.append(testing_data_2)\n",
    "ticket_counts = combined_data.pivot_table(index = 'Ticket', values = ['Name'], aggfunc = {'Name':'count'})\n",
    "ticket_counts = ticket_counts.rename(columns = {'Name': 'TicketCount'})"
   ]
  },
  {
   "cell_type": "code",
   "execution_count": 37,
   "metadata": {},
   "outputs": [],
   "source": [
    "# Merge the dataset with the pivot table in order to add a column showing the number of passengers assigned to the observation's ticket number\n",
    "training_data_2 = training_data_2.merge(ticket_counts, left_on='Ticket', right_on = 'Ticket')"
   ]
  },
  {
   "cell_type": "code",
   "execution_count": 38,
   "metadata": {},
   "outputs": [
    {
     "data": {
      "text/html": [
       "<div>\n",
       "<style scoped>\n",
       "    .dataframe tbody tr th:only-of-type {\n",
       "        vertical-align: middle;\n",
       "    }\n",
       "\n",
       "    .dataframe tbody tr th {\n",
       "        vertical-align: top;\n",
       "    }\n",
       "\n",
       "    .dataframe thead th {\n",
       "        text-align: right;\n",
       "    }\n",
       "</style>\n",
       "<table border=\"1\" class=\"dataframe\">\n",
       "  <thead>\n",
       "    <tr style=\"text-align: right;\">\n",
       "      <th></th>\n",
       "      <th>Survived</th>\n",
       "      <th>Pclass</th>\n",
       "      <th>Name</th>\n",
       "      <th>Sex</th>\n",
       "      <th>Age</th>\n",
       "      <th>SibSp</th>\n",
       "      <th>Parch</th>\n",
       "      <th>Ticket</th>\n",
       "      <th>Fare</th>\n",
       "      <th>Cabin</th>\n",
       "      <th>Embarked</th>\n",
       "      <th>TicketCount</th>\n",
       "    </tr>\n",
       "  </thead>\n",
       "  <tbody>\n",
       "    <tr>\n",
       "      <th>245</th>\n",
       "      <td>0</td>\n",
       "      <td>3</td>\n",
       "      <td>Sage, Miss. Dorothy Edith \"Dolly\"</td>\n",
       "      <td>female</td>\n",
       "      <td>23.0</td>\n",
       "      <td>8</td>\n",
       "      <td>2</td>\n",
       "      <td>CA. 2343</td>\n",
       "      <td>69.5500</td>\n",
       "      <td>NaN</td>\n",
       "      <td>S</td>\n",
       "      <td>11</td>\n",
       "    </tr>\n",
       "    <tr>\n",
       "      <th>244</th>\n",
       "      <td>0</td>\n",
       "      <td>3</td>\n",
       "      <td>Sage, Mr. Douglas Bullen</td>\n",
       "      <td>male</td>\n",
       "      <td>25.0</td>\n",
       "      <td>8</td>\n",
       "      <td>2</td>\n",
       "      <td>CA. 2343</td>\n",
       "      <td>69.5500</td>\n",
       "      <td>NaN</td>\n",
       "      <td>S</td>\n",
       "      <td>11</td>\n",
       "    </tr>\n",
       "    <tr>\n",
       "      <th>243</th>\n",
       "      <td>0</td>\n",
       "      <td>3</td>\n",
       "      <td>Sage, Miss. Stella Anna</td>\n",
       "      <td>female</td>\n",
       "      <td>23.0</td>\n",
       "      <td>8</td>\n",
       "      <td>2</td>\n",
       "      <td>CA. 2343</td>\n",
       "      <td>69.5500</td>\n",
       "      <td>NaN</td>\n",
       "      <td>S</td>\n",
       "      <td>11</td>\n",
       "    </tr>\n",
       "    <tr>\n",
       "      <th>242</th>\n",
       "      <td>0</td>\n",
       "      <td>3</td>\n",
       "      <td>Sage, Mr. George John Jr</td>\n",
       "      <td>male</td>\n",
       "      <td>25.0</td>\n",
       "      <td>8</td>\n",
       "      <td>2</td>\n",
       "      <td>CA. 2343</td>\n",
       "      <td>69.5500</td>\n",
       "      <td>NaN</td>\n",
       "      <td>S</td>\n",
       "      <td>11</td>\n",
       "    </tr>\n",
       "    <tr>\n",
       "      <th>241</th>\n",
       "      <td>0</td>\n",
       "      <td>3</td>\n",
       "      <td>Sage, Mr. Frederick</td>\n",
       "      <td>male</td>\n",
       "      <td>25.0</td>\n",
       "      <td>8</td>\n",
       "      <td>2</td>\n",
       "      <td>CA. 2343</td>\n",
       "      <td>69.5500</td>\n",
       "      <td>NaN</td>\n",
       "      <td>S</td>\n",
       "      <td>11</td>\n",
       "    </tr>\n",
       "    <tr>\n",
       "      <th>240</th>\n",
       "      <td>0</td>\n",
       "      <td>3</td>\n",
       "      <td>Sage, Miss. Constance Gladys</td>\n",
       "      <td>female</td>\n",
       "      <td>23.0</td>\n",
       "      <td>8</td>\n",
       "      <td>2</td>\n",
       "      <td>CA. 2343</td>\n",
       "      <td>69.5500</td>\n",
       "      <td>NaN</td>\n",
       "      <td>S</td>\n",
       "      <td>11</td>\n",
       "    </tr>\n",
       "    <tr>\n",
       "      <th>239</th>\n",
       "      <td>0</td>\n",
       "      <td>3</td>\n",
       "      <td>Sage, Master. Thomas Henry</td>\n",
       "      <td>male</td>\n",
       "      <td>25.0</td>\n",
       "      <td>8</td>\n",
       "      <td>2</td>\n",
       "      <td>CA. 2343</td>\n",
       "      <td>69.5500</td>\n",
       "      <td>NaN</td>\n",
       "      <td>S</td>\n",
       "      <td>11</td>\n",
       "    </tr>\n",
       "    <tr>\n",
       "      <th>104</th>\n",
       "      <td>0</td>\n",
       "      <td>3</td>\n",
       "      <td>Goodwin, Master. Harold Victor</td>\n",
       "      <td>male</td>\n",
       "      <td>9.0</td>\n",
       "      <td>5</td>\n",
       "      <td>2</td>\n",
       "      <td>CA 2144</td>\n",
       "      <td>46.9000</td>\n",
       "      <td>NaN</td>\n",
       "      <td>S</td>\n",
       "      <td>8</td>\n",
       "    </tr>\n",
       "    <tr>\n",
       "      <th>134</th>\n",
       "      <td>1</td>\n",
       "      <td>3</td>\n",
       "      <td>Lang, Mr. Fang</td>\n",
       "      <td>male</td>\n",
       "      <td>26.0</td>\n",
       "      <td>0</td>\n",
       "      <td>0</td>\n",
       "      <td>1601</td>\n",
       "      <td>56.4958</td>\n",
       "      <td>NaN</td>\n",
       "      <td>S</td>\n",
       "      <td>8</td>\n",
       "    </tr>\n",
       "    <tr>\n",
       "      <th>132</th>\n",
       "      <td>1</td>\n",
       "      <td>3</td>\n",
       "      <td>Bing, Mr. Lee</td>\n",
       "      <td>male</td>\n",
       "      <td>32.0</td>\n",
       "      <td>0</td>\n",
       "      <td>0</td>\n",
       "      <td>1601</td>\n",
       "      <td>56.4958</td>\n",
       "      <td>NaN</td>\n",
       "      <td>S</td>\n",
       "      <td>8</td>\n",
       "    </tr>\n",
       "    <tr>\n",
       "      <th>135</th>\n",
       "      <td>1</td>\n",
       "      <td>3</td>\n",
       "      <td>Foo, Mr. Choong</td>\n",
       "      <td>male</td>\n",
       "      <td>25.0</td>\n",
       "      <td>0</td>\n",
       "      <td>0</td>\n",
       "      <td>1601</td>\n",
       "      <td>56.4958</td>\n",
       "      <td>NaN</td>\n",
       "      <td>S</td>\n",
       "      <td>8</td>\n",
       "    </tr>\n",
       "    <tr>\n",
       "      <th>136</th>\n",
       "      <td>1</td>\n",
       "      <td>3</td>\n",
       "      <td>Lam, Mr. Ali</td>\n",
       "      <td>male</td>\n",
       "      <td>25.0</td>\n",
       "      <td>0</td>\n",
       "      <td>0</td>\n",
       "      <td>1601</td>\n",
       "      <td>56.4958</td>\n",
       "      <td>NaN</td>\n",
       "      <td>S</td>\n",
       "      <td>8</td>\n",
       "    </tr>\n",
       "    <tr>\n",
       "      <th>106</th>\n",
       "      <td>0</td>\n",
       "      <td>3</td>\n",
       "      <td>Goodwin, Mr. Charles Edward</td>\n",
       "      <td>male</td>\n",
       "      <td>14.0</td>\n",
       "      <td>5</td>\n",
       "      <td>2</td>\n",
       "      <td>CA 2144</td>\n",
       "      <td>46.9000</td>\n",
       "      <td>NaN</td>\n",
       "      <td>S</td>\n",
       "      <td>8</td>\n",
       "    </tr>\n",
       "    <tr>\n",
       "      <th>137</th>\n",
       "      <td>0</td>\n",
       "      <td>3</td>\n",
       "      <td>Lam, Mr. Len</td>\n",
       "      <td>male</td>\n",
       "      <td>25.0</td>\n",
       "      <td>0</td>\n",
       "      <td>0</td>\n",
       "      <td>1601</td>\n",
       "      <td>56.4958</td>\n",
       "      <td>NaN</td>\n",
       "      <td>S</td>\n",
       "      <td>8</td>\n",
       "    </tr>\n",
       "    <tr>\n",
       "      <th>138</th>\n",
       "      <td>1</td>\n",
       "      <td>3</td>\n",
       "      <td>Chip, Mr. Chang</td>\n",
       "      <td>male</td>\n",
       "      <td>32.0</td>\n",
       "      <td>0</td>\n",
       "      <td>0</td>\n",
       "      <td>1601</td>\n",
       "      <td>56.4958</td>\n",
       "      <td>NaN</td>\n",
       "      <td>S</td>\n",
       "      <td>8</td>\n",
       "    </tr>\n",
       "    <tr>\n",
       "      <th>105</th>\n",
       "      <td>0</td>\n",
       "      <td>3</td>\n",
       "      <td>Goodwin, Mrs. Frederick (Augusta Tyler)</td>\n",
       "      <td>female</td>\n",
       "      <td>43.0</td>\n",
       "      <td>1</td>\n",
       "      <td>6</td>\n",
       "      <td>CA 2144</td>\n",
       "      <td>46.9000</td>\n",
       "      <td>NaN</td>\n",
       "      <td>S</td>\n",
       "      <td>8</td>\n",
       "    </tr>\n",
       "    <tr>\n",
       "      <th>133</th>\n",
       "      <td>0</td>\n",
       "      <td>3</td>\n",
       "      <td>Ling, Mr. Lee</td>\n",
       "      <td>male</td>\n",
       "      <td>28.0</td>\n",
       "      <td>0</td>\n",
       "      <td>0</td>\n",
       "      <td>1601</td>\n",
       "      <td>56.4958</td>\n",
       "      <td>NaN</td>\n",
       "      <td>S</td>\n",
       "      <td>8</td>\n",
       "    </tr>\n",
       "    <tr>\n",
       "      <th>103</th>\n",
       "      <td>0</td>\n",
       "      <td>3</td>\n",
       "      <td>Goodwin, Master. Sidney Leonard</td>\n",
       "      <td>male</td>\n",
       "      <td>1.0</td>\n",
       "      <td>5</td>\n",
       "      <td>2</td>\n",
       "      <td>CA 2144</td>\n",
       "      <td>46.9000</td>\n",
       "      <td>NaN</td>\n",
       "      <td>S</td>\n",
       "      <td>8</td>\n",
       "    </tr>\n",
       "    <tr>\n",
       "      <th>101</th>\n",
       "      <td>0</td>\n",
       "      <td>3</td>\n",
       "      <td>Goodwin, Master. William Frederick</td>\n",
       "      <td>male</td>\n",
       "      <td>11.0</td>\n",
       "      <td>5</td>\n",
       "      <td>2</td>\n",
       "      <td>CA 2144</td>\n",
       "      <td>46.9000</td>\n",
       "      <td>NaN</td>\n",
       "      <td>S</td>\n",
       "      <td>8</td>\n",
       "    </tr>\n",
       "    <tr>\n",
       "      <th>102</th>\n",
       "      <td>0</td>\n",
       "      <td>3</td>\n",
       "      <td>Goodwin, Miss. Lillian Amy</td>\n",
       "      <td>female</td>\n",
       "      <td>16.0</td>\n",
       "      <td>5</td>\n",
       "      <td>2</td>\n",
       "      <td>CA 2144</td>\n",
       "      <td>46.9000</td>\n",
       "      <td>NaN</td>\n",
       "      <td>S</td>\n",
       "      <td>8</td>\n",
       "    </tr>\n",
       "  </tbody>\n",
       "</table>\n",
       "</div>"
      ],
      "text/plain": [
       "     Survived  Pclass                                     Name     Sex   Age  \\\n",
       "245         0       3        Sage, Miss. Dorothy Edith \"Dolly\"  female  23.0   \n",
       "244         0       3                 Sage, Mr. Douglas Bullen    male  25.0   \n",
       "243         0       3                  Sage, Miss. Stella Anna  female  23.0   \n",
       "242         0       3                 Sage, Mr. George John Jr    male  25.0   \n",
       "241         0       3                      Sage, Mr. Frederick    male  25.0   \n",
       "240         0       3             Sage, Miss. Constance Gladys  female  23.0   \n",
       "239         0       3               Sage, Master. Thomas Henry    male  25.0   \n",
       "104         0       3           Goodwin, Master. Harold Victor    male   9.0   \n",
       "134         1       3                           Lang, Mr. Fang    male  26.0   \n",
       "132         1       3                            Bing, Mr. Lee    male  32.0   \n",
       "135         1       3                          Foo, Mr. Choong    male  25.0   \n",
       "136         1       3                             Lam, Mr. Ali    male  25.0   \n",
       "106         0       3              Goodwin, Mr. Charles Edward    male  14.0   \n",
       "137         0       3                             Lam, Mr. Len    male  25.0   \n",
       "138         1       3                          Chip, Mr. Chang    male  32.0   \n",
       "105         0       3  Goodwin, Mrs. Frederick (Augusta Tyler)  female  43.0   \n",
       "133         0       3                            Ling, Mr. Lee    male  28.0   \n",
       "103         0       3          Goodwin, Master. Sidney Leonard    male   1.0   \n",
       "101         0       3       Goodwin, Master. William Frederick    male  11.0   \n",
       "102         0       3               Goodwin, Miss. Lillian Amy  female  16.0   \n",
       "\n",
       "     SibSp  Parch    Ticket     Fare Cabin Embarked  TicketCount  \n",
       "245      8      2  CA. 2343  69.5500   NaN        S           11  \n",
       "244      8      2  CA. 2343  69.5500   NaN        S           11  \n",
       "243      8      2  CA. 2343  69.5500   NaN        S           11  \n",
       "242      8      2  CA. 2343  69.5500   NaN        S           11  \n",
       "241      8      2  CA. 2343  69.5500   NaN        S           11  \n",
       "240      8      2  CA. 2343  69.5500   NaN        S           11  \n",
       "239      8      2  CA. 2343  69.5500   NaN        S           11  \n",
       "104      5      2   CA 2144  46.9000   NaN        S            8  \n",
       "134      0      0      1601  56.4958   NaN        S            8  \n",
       "132      0      0      1601  56.4958   NaN        S            8  \n",
       "135      0      0      1601  56.4958   NaN        S            8  \n",
       "136      0      0      1601  56.4958   NaN        S            8  \n",
       "106      5      2   CA 2144  46.9000   NaN        S            8  \n",
       "137      0      0      1601  56.4958   NaN        S            8  \n",
       "138      0      0      1601  56.4958   NaN        S            8  \n",
       "105      1      6   CA 2144  46.9000   NaN        S            8  \n",
       "133      0      0      1601  56.4958   NaN        S            8  \n",
       "103      5      2   CA 2144  46.9000   NaN        S            8  \n",
       "101      5      2   CA 2144  46.9000   NaN        S            8  \n",
       "102      5      2   CA 2144  46.9000   NaN        S            8  "
      ]
     },
     "execution_count": 38,
     "metadata": {},
     "output_type": "execute_result"
    }
   ],
   "source": [
    "# Look at the dataset with the new column added to see if ticket fares correspond to individual passengers or to all passengers in groups with the same ticket number\n",
    "training_data_2.sort_values(by=['TicketCount'], ascending = False).head(20)"
   ]
  },
  {
   "cell_type": "code",
   "execution_count": 39,
   "metadata": {},
   "outputs": [],
   "source": [
    "# Drop the new ticket count column -- feature engineering is handled later in this notebook\n",
    "training_data_2.drop(columns = ['TicketCount'], inplace = True)"
   ]
  },
  {
   "cell_type": "markdown",
   "metadata": {},
   "source": [
    "A density plot of passenger fares shows a right skewed variable with some passengers paying >$100 for tickets. Upon closer investigation, it is clear that passenger fare corresponds to the ticket number not to the individual passenger. So if passengers purchase tickets in a group, the fare applies to the price the entire group paid not to the price corresponding to the individual passenger. This issue is resolved in the feature engineering section of this notebook."
   ]
  },
  {
   "cell_type": "markdown",
   "metadata": {},
   "source": [
    "### 3g. Explore Port of Embarkation"
   ]
  },
  {
   "cell_type": "code",
   "execution_count": 40,
   "metadata": {},
   "outputs": [
    {
     "data": {
      "image/png": "[encoded data removed]",
      "text/plain": [
       "<Figure size 1008x432 with 2 Axes>"
      ]
     },
     "metadata": {
      "needs_background": "light"
     },
     "output_type": "display_data"
    }
   ],
   "source": [
    "# Set up the figure with two subplots\n",
    "fig, (axis1,axis2) = plt.subplots(1, 2, figsize=(14,6))\n",
    "# Create a plot showing the count of observations of passengers leaving from different ports\n",
    "sns.countplot(x = 'Embarked', data = training_data_2, palette = 'Blues_r', ax = axis1)\n",
    "axis1.set_xlabel('Port of Embarkation')\n",
    "axis1.set_xticklabels(['Cherbourg', 'Queenstown', 'Southampton'])\n",
    "# Create a plot showing the proportion of with different numbers of passengers leaving from different ports who survive\n",
    "sns.barplot('Embarked', 'Survived', data = training_data_2, palette = 'Oranges_r', ax = axis2)\n",
    "axis2.set_xlabel('Port of Embarkation')\n",
    "axis2.set_xticklabels(['Cherbourg','Queenstown', 'Southampton'])\n",
    "plt.show()"
   ]
  },
  {
   "cell_type": "markdown",
   "metadata": {},
   "source": [
    "The vast majority of passengers leave from Cherbourg. It appears that passengers from some ports have higher survivorship than others."
   ]
  },
  {
   "cell_type": "markdown",
   "metadata": {},
   "source": [
    "# 4. Feature Engineering"
   ]
  },
  {
   "cell_type": "markdown",
   "metadata": {},
   "source": [
    "### 4a. Isolating the Effect of Age"
   ]
  },
  {
   "cell_type": "code",
   "execution_count": 41,
   "metadata": {},
   "outputs": [],
   "source": [
    "# Define children as under 16 and adults as older than 16 or older\n",
    "training_data_2['ChildAdult'] = pd.cut(training_data_2['Age'],[0,16,81],  labels = ['child', 'adult'], right = False)\n",
    "testing_data_2['ChildAdult'] = pd.cut(testing_data_2['Age'],[0,16,81],  labels = ['child', 'adult'], right = False)"
   ]
  },
  {
   "cell_type": "code",
   "execution_count": 42,
   "metadata": {},
   "outputs": [
    {
     "data": {
      "image/png": "[encoded data removed]",
      "text/plain": [
       "<Figure size 1008x432 with 2 Axes>"
      ]
     },
     "metadata": {
      "needs_background": "light"
     },
     "output_type": "display_data"
    }
   ],
   "source": [
    "# Set up the figure with two subplots\n",
    "fig, (axis1,axis2) = plt.subplots(1, 2, figsize=(14,6))\n",
    "# Create a plot showing the count of observations with different numbers of parents / children on board the titanic\n",
    "sns.countplot(x = 'ChildAdult', data = training_data_2, palette = 'Blues_r', ax = axis1)\n",
    "axis1.set_xlabel('Child or Adult')\n",
    "# Create a plot showing the proportion of with different numbers of family members onboard the titanic who survive\n",
    "sns.barplot('ChildAdult', 'Survived', data = training_data_2, palette = 'Oranges_r', ax = axis2)\n",
    "axis2.set_xlabel('Child or Adult')\n",
    "plt.show()"
   ]
  },
  {
   "cell_type": "markdown",
   "metadata": {},
   "source": [
    "Children are defined as being under 16 while adults are defined as being 16 or older. Children appear to be more likely to survive the shipwreck than adults. "
   ]
  },
  {
   "cell_type": "markdown",
   "metadata": {},
   "source": [
    "### 4b. Resolving Parents/Children on Board and Siblings/Spouses on Board Variables"
   ]
  },
  {
   "cell_type": "code",
   "execution_count": 43,
   "metadata": {},
   "outputs": [],
   "source": [
    "# Create family size variable\n",
    "training_data_2['FamilySize'] = training_data_2['SibSp'] + training_data_2['Parch']\n",
    "testing_data_2['FamilySize'] = testing_data_2['SibSp'] + testing_data_2['Parch']"
   ]
  },
  {
   "cell_type": "code",
   "execution_count": 44,
   "metadata": {},
   "outputs": [
    {
     "data": {
      "image/png": "[encoded data removed]",
      "text/plain": [
       "<Figure size 1008x432 with 2 Axes>"
      ]
     },
     "metadata": {
      "needs_background": "light"
     },
     "output_type": "display_data"
    }
   ],
   "source": [
    "# Set up the figure with two subplots\n",
    "fig, (axis1,axis2) = plt.subplots(1, 2, figsize=(14,6))\n",
    "# Create a plot showing the count of observations with different numbers of family members on board the Titanic\n",
    "sns.countplot(x = 'FamilySize', data = training_data_2, palette = 'Blues_r', ax = axis1)\n",
    "axis1.set_xlabel('Family Size')\n",
    "# Create a plot showing the proportion of passengers with different numbers of family members onboard the Titanic who survived\n",
    "sns.barplot('FamilySize', 'Survived', data = training_data_2, palette = 'Oranges_r', ax = axis2)\n",
    "axis2.set_xlabel('Family Size')\n",
    "plt.show()"
   ]
  },
  {
   "cell_type": "code",
   "execution_count": 45,
   "metadata": {},
   "outputs": [],
   "source": [
    "# Create 'WithFamily' variable and define passengers as being with family if family size is greater than 0 \n",
    "training_data_2['WithFamily'] = np.where((training_data_2['FamilySize'] > 0), 1, 0)\n",
    "testing_data_2['WithFamily'] = np.where((testing_data_2['FamilySize'] > 0), 1, 0)"
   ]
  },
  {
   "cell_type": "code",
   "execution_count": 46,
   "metadata": {},
   "outputs": [
    {
     "data": {
      "image/png": "[encoded data removed]",
      "text/plain": [
       "<Figure size 1008x432 with 2 Axes>"
      ]
     },
     "metadata": {
      "needs_background": "light"
     },
     "output_type": "display_data"
    }
   ],
   "source": [
    "# Set up the figure with two subplots\n",
    "fig, (axis1,axis2) = plt.subplots(1, 2, figsize=(14,6))\n",
    "# Create a plot showing the count of observations with different numbers of parents / children on board the Titanic\n",
    "sns.countplot(x = 'WithFamily', data = training_data_2, palette = 'Blues_r', ax = axis1)\n",
    "axis1.set_xlabel('Passengers')\n",
    "axis1.set_xticklabels(['Travel Alone','Travel with Family'])\n",
    "# Create a plot showing the proportion of passengers with different numbers of family members onboard the titanic who survived\n",
    "sns.barplot('WithFamily', 'Survived', data = training_data_2, palette = 'Oranges_r', ax = axis2)\n",
    "axis2.set_xlabel('Passengers')\n",
    "axis2.set_xticklabels(['Travel Alone', 'Travel with Family'])\n",
    "plt.show()"
   ]
  },
  {
   "cell_type": "markdown",
   "metadata": {},
   "source": [
    "'SibSp' and 'Parch' are combined to create a 'FamilySize' variable. Additionally in order to better capture passengers traveling alone versus passengers traveling with family, a 'WithFamily' variable is created.\n",
    "\n",
    "The meaning behind 'SibSp' and 'Parch' on their own is unclear so the effect is best combined to capture the size of the passenger's family to make the data easier to understand. Additionally, since it appears that passengers traveling along are significantly less likely to survive than passengers traveling with family, the 'WithFamily' variable is created to isolate the effects of passengers traveling alone versus with family."
   ]
  },
  {
   "cell_type": "code",
   "execution_count": 47,
   "metadata": {},
   "outputs": [],
   "source": [
    "training_data_2['IsChild'] = np.where(training_data_2['ChildAdult'] == 'child', 1 , 0)\n",
    "testing_data_2['IsChild'] = np.where(testing_data_2['ChildAdult'] == 'child', 1 , 0)\n",
    "\n",
    "\n",
    "training_data_2['IsFemale'] = np.where(training_data_2['Sex'] == 'female', 1 , 0)\n",
    "testing_data_2['IsFemale'] = np.where(testing_data_2['Sex'] == 'female', 1 , 0)"
   ]
  },
  {
   "cell_type": "code",
   "execution_count": 48,
   "metadata": {},
   "outputs": [],
   "source": [
    "training_data_4 = training_data_2.copy()\n",
    "training_data_4.drop(columns = ['Survived'], inplace = True)\n",
    "combined_data_2 = training_data_4.append(testing_data_2)\n",
    "\n",
    "ticket_counts_2 = combined_data_2.pivot_table(index = 'Ticket', values = ['Name','IsChild', 'IsFemale'], aggfunc = {'Name':'count', 'IsChild':'sum', 'IsFemale':'sum'})\n",
    "ticket_counts_2 = ticket_counts_2.rename(columns = {'Name': 'TicketCount', 'IsChild':'NumberOfChildren','IsFemale':'NumberOfFemales'})\n"
   ]
  },
  {
   "cell_type": "code",
   "execution_count": 49,
   "metadata": {},
   "outputs": [],
   "source": [
    "training_data_2 = training_data_2.merge(ticket_counts_2, left_on='Ticket', right_on = 'Ticket')\n",
    "testing_data_2 = testing_data_2.merge(ticket_counts_2, left_on='Ticket', right_on = 'Ticket')"
   ]
  },
  {
   "cell_type": "code",
   "execution_count": 50,
   "metadata": {},
   "outputs": [
    {
     "data": {
      "text/html": [
       "<div>\n",
       "<style scoped>\n",
       "    .dataframe tbody tr th:only-of-type {\n",
       "        vertical-align: middle;\n",
       "    }\n",
       "\n",
       "    .dataframe tbody tr th {\n",
       "        vertical-align: top;\n",
       "    }\n",
       "\n",
       "    .dataframe thead th {\n",
       "        text-align: right;\n",
       "    }\n",
       "</style>\n",
       "<table border=\"1\" class=\"dataframe\">\n",
       "  <thead>\n",
       "    <tr style=\"text-align: right;\">\n",
       "      <th></th>\n",
       "      <th>Survived</th>\n",
       "      <th>Pclass</th>\n",
       "      <th>Name</th>\n",
       "      <th>Sex</th>\n",
       "      <th>Age</th>\n",
       "      <th>SibSp</th>\n",
       "      <th>Parch</th>\n",
       "      <th>Ticket</th>\n",
       "      <th>Fare</th>\n",
       "      <th>Cabin</th>\n",
       "      <th>Embarked</th>\n",
       "      <th>ChildAdult</th>\n",
       "      <th>FamilySize</th>\n",
       "      <th>WithFamily</th>\n",
       "      <th>IsChild</th>\n",
       "      <th>IsFemale</th>\n",
       "      <th>NumberOfChildren</th>\n",
       "      <th>NumberOfFemales</th>\n",
       "      <th>TicketCount</th>\n",
       "    </tr>\n",
       "  </thead>\n",
       "  <tbody>\n",
       "    <tr>\n",
       "      <th>0</th>\n",
       "      <td>0</td>\n",
       "      <td>3</td>\n",
       "      <td>Braund, Mr. Owen Harris</td>\n",
       "      <td>male</td>\n",
       "      <td>22.0</td>\n",
       "      <td>1</td>\n",
       "      <td>0</td>\n",
       "      <td>A/5 21171</td>\n",
       "      <td>7.2500</td>\n",
       "      <td>NaN</td>\n",
       "      <td>S</td>\n",
       "      <td>adult</td>\n",
       "      <td>1</td>\n",
       "      <td>1</td>\n",
       "      <td>0</td>\n",
       "      <td>0</td>\n",
       "      <td>0</td>\n",
       "      <td>0</td>\n",
       "      <td>1</td>\n",
       "    </tr>\n",
       "    <tr>\n",
       "      <th>1</th>\n",
       "      <td>1</td>\n",
       "      <td>1</td>\n",
       "      <td>Cumings, Mrs. John Bradley (Florence Briggs Th...</td>\n",
       "      <td>female</td>\n",
       "      <td>38.0</td>\n",
       "      <td>1</td>\n",
       "      <td>0</td>\n",
       "      <td>PC 17599</td>\n",
       "      <td>71.2833</td>\n",
       "      <td>C85</td>\n",
       "      <td>C</td>\n",
       "      <td>adult</td>\n",
       "      <td>1</td>\n",
       "      <td>1</td>\n",
       "      <td>0</td>\n",
       "      <td>1</td>\n",
       "      <td>0</td>\n",
       "      <td>1</td>\n",
       "      <td>2</td>\n",
       "    </tr>\n",
       "    <tr>\n",
       "      <th>2</th>\n",
       "      <td>1</td>\n",
       "      <td>3</td>\n",
       "      <td>Heikkinen, Miss. Laina</td>\n",
       "      <td>female</td>\n",
       "      <td>26.0</td>\n",
       "      <td>0</td>\n",
       "      <td>0</td>\n",
       "      <td>STON/O2. 3101282</td>\n",
       "      <td>7.9250</td>\n",
       "      <td>NaN</td>\n",
       "      <td>S</td>\n",
       "      <td>adult</td>\n",
       "      <td>0</td>\n",
       "      <td>0</td>\n",
       "      <td>0</td>\n",
       "      <td>1</td>\n",
       "      <td>0</td>\n",
       "      <td>1</td>\n",
       "      <td>1</td>\n",
       "    </tr>\n",
       "    <tr>\n",
       "      <th>3</th>\n",
       "      <td>1</td>\n",
       "      <td>1</td>\n",
       "      <td>Futrelle, Mrs. Jacques Heath (Lily May Peel)</td>\n",
       "      <td>female</td>\n",
       "      <td>35.0</td>\n",
       "      <td>1</td>\n",
       "      <td>0</td>\n",
       "      <td>113803</td>\n",
       "      <td>53.1000</td>\n",
       "      <td>C123</td>\n",
       "      <td>S</td>\n",
       "      <td>adult</td>\n",
       "      <td>1</td>\n",
       "      <td>1</td>\n",
       "      <td>0</td>\n",
       "      <td>1</td>\n",
       "      <td>0</td>\n",
       "      <td>1</td>\n",
       "      <td>2</td>\n",
       "    </tr>\n",
       "    <tr>\n",
       "      <th>4</th>\n",
       "      <td>0</td>\n",
       "      <td>1</td>\n",
       "      <td>Futrelle, Mr. Jacques Heath</td>\n",
       "      <td>male</td>\n",
       "      <td>37.0</td>\n",
       "      <td>1</td>\n",
       "      <td>0</td>\n",
       "      <td>113803</td>\n",
       "      <td>53.1000</td>\n",
       "      <td>C123</td>\n",
       "      <td>S</td>\n",
       "      <td>adult</td>\n",
       "      <td>1</td>\n",
       "      <td>1</td>\n",
       "      <td>0</td>\n",
       "      <td>0</td>\n",
       "      <td>0</td>\n",
       "      <td>1</td>\n",
       "      <td>2</td>\n",
       "    </tr>\n",
       "  </tbody>\n",
       "</table>\n",
       "</div>"
      ],
      "text/plain": [
       "   Survived  Pclass                                               Name  \\\n",
       "0         0       3                            Braund, Mr. Owen Harris   \n",
       "1         1       1  Cumings, Mrs. John Bradley (Florence Briggs Th...   \n",
       "2         1       3                             Heikkinen, Miss. Laina   \n",
       "3         1       1       Futrelle, Mrs. Jacques Heath (Lily May Peel)   \n",
       "4         0       1                        Futrelle, Mr. Jacques Heath   \n",
       "\n",
       "      Sex   Age  SibSp  Parch            Ticket     Fare Cabin Embarked  \\\n",
       "0    male  22.0      1      0         A/5 21171   7.2500   NaN        S   \n",
       "1  female  38.0      1      0          PC 17599  71.2833   C85        C   \n",
       "2  female  26.0      0      0  STON/O2. 3101282   7.9250   NaN        S   \n",
       "3  female  35.0      1      0            113803  53.1000  C123        S   \n",
       "4    male  37.0      1      0            113803  53.1000  C123        S   \n",
       "\n",
       "  ChildAdult  FamilySize  WithFamily  IsChild  IsFemale  NumberOfChildren  \\\n",
       "0      adult           1           1        0         0                 0   \n",
       "1      adult           1           1        0         1                 0   \n",
       "2      adult           0           0        0         1                 0   \n",
       "3      adult           1           1        0         1                 0   \n",
       "4      adult           1           1        0         0                 0   \n",
       "\n",
       "   NumberOfFemales  TicketCount  \n",
       "0                0            1  \n",
       "1                1            2  \n",
       "2                1            1  \n",
       "3                1            2  \n",
       "4                1            2  "
      ]
     },
     "execution_count": 50,
     "metadata": {},
     "output_type": "execute_result"
    }
   ],
   "source": [
    "training_data_2.head()"
   ]
  },
  {
   "cell_type": "code",
   "execution_count": 51,
   "metadata": {},
   "outputs": [
    {
     "data": {
      "text/plain": [
       "Index(['Pclass', 'Name', 'Sex', 'Age', 'SibSp', 'Parch', 'Ticket', 'Fare',\n",
       "       'Cabin', 'Embarked', 'ChildAdult', 'FamilySize', 'WithFamily',\n",
       "       'IsChild', 'IsFemale', 'NumberOfChildren', 'NumberOfFemales',\n",
       "       'TicketCount'],\n",
       "      dtype='object')"
      ]
     },
     "execution_count": 51,
     "metadata": {},
     "output_type": "execute_result"
    }
   ],
   "source": [
    "testing_data_2.columns"
   ]
  },
  {
   "cell_type": "code",
   "execution_count": 52,
   "metadata": {},
   "outputs": [],
   "source": [
    "training_data_2['TravelWChild'] = np.where((training_data_2['NumberOfChildren']>0) & (training_data_2['ChildAdult'] == 'adult'),1,0)\n",
    "testing_data_2['TravelWChild'] = np.where((testing_data_2['NumberOfChildren']>0) & (testing_data_2['ChildAdult'] == 'adult'),1,0)\n",
    "\n",
    "training_data_2['TravelWFemale'] = np.where((training_data_2['NumberOfFemales']>0) & (training_data_2['Sex'] == 'male'),1,0)\n",
    "testing_data_2['TravelWFemale'] = np.where((testing_data_2['NumberOfFemales']>0) & (testing_data_2['Sex'] == 'male'),1,0)"
   ]
  },
  {
   "cell_type": "code",
   "execution_count": null,
   "metadata": {},
   "outputs": [],
   "source": [
    "# Set up the figure with two subplots\n",
    "fig, (axis1,axis2) = plt.subplots(1, 2, figsize=(14,6))\n",
    "# Create a plot showing the count of observations with different numbers of parents / children on board the titanic\n",
    "sns.countplot(x = 'TravelWChild', data = training_data_2[training_data_2['ChildAdult']=='adult'], palette = 'Blues_r', ax = axis1)\n",
    "axis1.set_xlabel('Passengers')\n",
    "axis1.set_xticklabels(['Travel Without Child', 'Travel With Child'])\n",
    "# Create a plot showing the proportion of with different numbers of family members onboard the titanic who survived\n",
    "sns.barplot('TravelWChild', 'Survived', data = training_data_2[training_data_2['ChildAdult']=='adult'] , palette = 'Oranges_r', ax = axis2)\n",
    "axis2.set_xlabel('Passengers')\n",
    "axis2.set_xticklabels(['Travel Without Child', 'Travel With Child'])\n",
    "plt.show()"
   ]
  },
  {
   "cell_type": "code",
   "execution_count": null,
   "metadata": {},
   "outputs": [],
   "source": [
    "# Set up the figure with two subplots\n",
    "fig, (axis1,axis2) = plt.subplots(1, 2, figsize=(14,6))\n",
    "# Create a plot showing the count of observations with different numbers of parents / children on board the titanic\n",
    "sns.countplot(x = 'TravelWFemale', data = training_data_2[training_data_2['Sex']=='male'], palette = 'Blues_r', ax = axis1)\n",
    "axis1.set_xlabel('Passengers')\n",
    "# Create a plot showing the proportion of with different numbers of family members onboard the titanic who survived\n",
    "sns.barplot('TravelWFemale', 'Survived', data = training_data_2[training_data_2['Sex']=='male'], palette = 'Oranges_r', ax = axis2)\n",
    "axis2.set_xlabel('Passengers')\n",
    "plt.show()"
   ]
  },
  {
   "cell_type": "markdown",
   "metadata": {},
   "source": [
    "### 4c. Turning 'Fare' feature into 'FarePerPassenger'"
   ]
  },
  {
   "cell_type": "code",
   "execution_count": null,
   "metadata": {},
   "outputs": [],
   "source": [
    "training_data_2['FarePerPassenger'] = training_data_2['Fare'] / training_data_2['TicketCount']\n",
    "testing_data_2['FarePerPassenger'] = testing_data_2['Fare'] / testing_data_2['TicketCount']"
   ]
  },
  {
   "cell_type": "code",
   "execution_count": null,
   "metadata": {},
   "outputs": [],
   "source": [
    "plt.figure(figsize=(15,8))\n",
    "ax1 = sns.kdeplot(training_data_2['FarePerPassenger'], color='grey', shade=True)\n",
    "plt.title('Density Plot of Fare')\n",
    "ax1.set(xlabel = 'Fare per Passenger')\n",
    "plt.show()"
   ]
  },
  {
   "cell_type": "code",
   "execution_count": null,
   "metadata": {},
   "outputs": [],
   "source": [
    "plt.figure(figsize=(15,8))\n",
    "ax1 = sns.kdeplot(training_data_2['FarePerPassenger'][(training_data_2.Survived == 1)], color='royalblue', shade=True)\n",
    "ax2 = sns.kdeplot(training_data_2['FarePerPassenger'][(training_data_2.Survived == 0)], color='orange', shade=True)\n",
    "plt.legend(['Survived', 'Died'])\n",
    "plt.title('Density Plot of Ticket Fare for Surviving Population and Deceased Population')\n",
    "ax2.set(xlabel = 'Fare per Passenger')\n",
    "plt.xlim(-10,80)\n",
    "plt.show()"
   ]
  },
  {
   "cell_type": "code",
   "execution_count": null,
   "metadata": {},
   "outputs": [],
   "source": [
    "plt.figure(figsize=(15,8))\n",
    "ax1 = sns.kdeplot(training_data_2['FarePerPassenger'][(training_data_2.Pclass == 1)], color = 'royalblue')\n",
    "ax2 = sns.kdeplot(training_data_2['FarePerPassenger'][(training_data_2.Pclass == 2)], color = 'orange')\n",
    "ax3 = sns.kdeplot(training_data_2['FarePerPassenger'][(training_data_2.Pclass == 3)], color = 'dimgray')\n",
    "plt.legend(['Upper Class', 'Middle Class', 'Lower Class'])\n",
    "plt.title('Density Plot of Ticket Fare for People of Different Classes')\n",
    "ax2.set(xlabel = 'Fare per Passenger')\n",
    "plt.xlim(-10,80)\n",
    "plt.show()"
   ]
  },
  {
   "cell_type": "code",
   "execution_count": null,
   "metadata": {},
   "outputs": [],
   "source": [
    "plt.figure(figsize=(15,8))\n",
    "ax1 = sns.kdeplot(training_data_2['FarePerPassenger'][(training_data_2.Survived == 1) & (training_data_2.Pclass == 1)], color='royalblue', shade=True)\n",
    "ax2 = sns.kdeplot(training_data_2['FarePerPassenger'][(training_data_2.Survived == 0) & (training_data_2.Pclass == 1)], color='orange', shade=True)\n",
    "plt.legend(['Survived', 'Died'])\n",
    "plt.title('Density Plot of Ticket Fare for Surviving Population and Deceased Population of Upper Class Passengers')\n",
    "ax2.set(xlabel = 'Fare per Passenger')\n",
    "plt.xlim(-10,80)\n",
    "plt.show()"
   ]
  },
  {
   "cell_type": "code",
   "execution_count": null,
   "metadata": {},
   "outputs": [],
   "source": [
    "plt.figure(figsize=(15,8))\n",
    "ax1 = sns.kdeplot(training_data_2['FarePerPassenger'][(training_data_2.Survived == 1) & (training_data_2.Pclass == 2)], color='royalblue', shade=True)\n",
    "ax2 = sns.kdeplot(training_data_2['FarePerPassenger'][(training_data_2.Survived == 0) & (training_data_2.Pclass == 2)], color='orange', shade=True)\n",
    "plt.legend(['Survived', 'Died'])\n",
    "plt.title('Density Plot of Ticket Fare for Surviving Population and Deceased Population of Middle Class Passengers')\n",
    "ax2.set(xlabel = 'Fare per Passenger')\n",
    "plt.xlim(-3,19)\n",
    "plt.show()"
   ]
  },
  {
   "cell_type": "code",
   "execution_count": null,
   "metadata": {},
   "outputs": [],
   "source": [
    "plt.figure(figsize=(15,8))\n",
    "ax1 = sns.kdeplot(training_data_2['FarePerPassenger'][(training_data_2.Survived == 1) & (training_data_2.Pclass == 3)], color='royalblue', shade=True)\n",
    "ax2 = sns.kdeplot(training_data_2['FarePerPassenger'][(training_data_2.Survived == 0) & (training_data_2.Pclass == 3)], color='orange', shade=True)\n",
    "plt.legend(['Survived', 'Died'])\n",
    "plt.title('Density Plot of Ticket Fare for Surviving Population and Deceased Population of Lower Class Passengers')\n",
    "ax2.set(xlabel = 'Fare per Passenger')\n",
    "plt.xlim(-1,15)\n",
    "plt.show()"
   ]
  },
  {
   "cell_type": "markdown",
   "metadata": {},
   "source": [
    "# 5. Logistic Regression"
   ]
  },
  {
   "cell_type": "markdown",
   "metadata": {},
   "source": [
    "### 5a. Background"
   ]
  },
  {
   "cell_type": "markdown",
   "metadata": {},
   "source": [
    "Logistic regression models the natural log of the odds ratio (logit) of a binary variable of a binar binary variable as its dependent variable. It is used to model the probability of an event occuring. Coefficients for the independent variables in a logistic regression are calculated using the maximum likelihood estimation."
   ]
  },
  {
   "cell_type": "markdown",
   "metadata": {},
   "source": [
    "### 5b. Preparation of variables"
   ]
  },
  {
   "cell_type": "code",
   "execution_count": null,
   "metadata": {},
   "outputs": [],
   "source": [
    "training_data_cleaned = training_data_2.copy()\n",
    "testing_data_cleaned = testing_data_2.copy()\n",
    "\n",
    "log_res_training = training_data_cleaned.copy()"
   ]
  },
  {
   "cell_type": "code",
   "execution_count": null,
   "metadata": {},
   "outputs": [],
   "source": [
    "log_res_training.drop(columns = ['Cabin','Age','SibSp', 'Parch', 'WithFamily','Name', 'Ticket','Sex', 'ChildAdult','TicketCount','NumberOfChildren', 'NumberOfFemales', 'Fare'], inplace = True)"
   ]
  },
  {
   "cell_type": "code",
   "execution_count": null,
   "metadata": {},
   "outputs": [],
   "source": [
    "log_res_training.columns"
   ]
  },
  {
   "cell_type": "code",
   "execution_count": null,
   "metadata": {},
   "outputs": [],
   "source": [
    "# Create binary variables for all categorical variables\n",
    "log_res_training = pd.get_dummies(log_res_training, columns = ['Embarked'], drop_first = True)"
   ]
  },
  {
   "cell_type": "code",
   "execution_count": null,
   "metadata": {},
   "outputs": [],
   "source": [
    "# Apply standard scaler to 'Fare' column\n",
    "fare_per_passenger = log_res_training[['FarePerPassenger']].values\n",
    "fare_per_passenger = StandardScaler().fit_transform(fare_per_passenger)\n",
    "log_res_training['FarePerPassenger'] = fare_per_passenger"
   ]
  },
  {
   "cell_type": "code",
   "execution_count": null,
   "metadata": {},
   "outputs": [],
   "source": [
    "# Take a look at the final dataset\n",
    "log_res_training.head()"
   ]
  },
  {
   "cell_type": "code",
   "execution_count": null,
   "metadata": {},
   "outputs": [],
   "source": [
    "# Define the dependent and independent variables\n",
    "y_logistic = log_res_training.iloc[:,0].values\n",
    "X_logistic = log_res_training.iloc[:,1:].values"
   ]
  },
  {
   "cell_type": "markdown",
   "metadata": {},
   "source": [
    "In order to prepare the dataset for logistic regression, I change change the nominal variables (Sex, Embarked, and ChildAdult) into separate binary variables for each of the classifications. For example, 'Embarked' has a separate binary variable for whether or not the passenger embarked from Cherbourg, Queenstown, or Southhampton. Then, I remove one of the binary variables from each in order to avoid perfect multicollinearity in between the independent variables. For example, If I just include the binary variables indicating if the passenger embarked from 'Queenstown' or 'Southhampton', I don't include the binary variable indicating whether or not the passenger embarked from 'Cherbourg' because the effect of a passenger embarking from 'Cherbourg' is already captured in the intercept term. \n",
    "\n",
    "Coefficients in the logistic regression are created using gradient descent. As a result, it's important to apply feature scaling to variables with wide ranges to ensure that the conversion to the global minimum (the gradient descent process that happens to create the coefficients) happens more quickly. It's also important weigh the pros of improvements to model efficiency that feature scaling provides with the cons of the loss of meaning to coefficients that happens after feature scaling is applied. \n",
    "\n",
    "Pclass is a variable that indicates whether a passenger is upper class, middle class, or lower class on the ship. The variable is originally indicated as 1 (upper), 2 (middle), or 3 (lower). I kept this variable indicated as 1, 2, or 3 in order to preserve the ordinal quality ofthe data. Additionally, I opted not to normalize this variable or scale it down. This is because the variable doesn't get very large (only goes up to three) so I determined that maintaining the interpretability of this variable was more important than any marginal efficiency gains the model would benefit from after scaling this variable down.\n",
    "\n",
    "Fare is a variable that indicates the price the passenger paid for her/his ticket. This variable ranges from $0 to over $500. As a result of this wide range, I opted to standardize the variable. This means, I scaled down the feature based on the normal distrbution so that the mean of the variable is ~0 and the standard deviation of the variable is ~1."
   ]
  },
  {
   "cell_type": "markdown",
   "metadata": {},
   "source": [
    "### 5c. Finalizing the variables to go into Logistic Regression"
   ]
  },
  {
   "cell_type": "code",
   "execution_count": null,
   "metadata": {},
   "outputs": [],
   "source": [
    "# Fit a logistic model to the data\n",
    "classifier_2 = sm.Logit(endog = y_logistic, exog = X_logistic).fit()"
   ]
  },
  {
   "cell_type": "code",
   "execution_count": null,
   "metadata": {},
   "outputs": [],
   "source": [
    "# Show coefficients of the logistic regression\n",
    "classifier_2.summary()"
   ]
  },
  {
   "cell_type": "code",
   "execution_count": null,
   "metadata": {},
   "outputs": [],
   "source": [
    "# The 'TravelWChild' variable (Binary variable indicating whether or not the individual traveled with a child) has a high p-value revealing that the variable is not statistically significant in this model. Removing the TravelWChild variable\n",
    "X_logistic = np.delete(X_logistic,4, axis = 1)"
   ]
  },
  {
   "cell_type": "code",
   "execution_count": null,
   "metadata": {},
   "outputs": [],
   "source": [
    "# Fit a logistic model to the data (with the 'Embarked_Q' variable removed) \n",
    "classifier_2 = sm.Logit(endog = y_logistic, exog = X_logistic).fit()"
   ]
  },
  {
   "cell_type": "code",
   "execution_count": null,
   "metadata": {},
   "outputs": [],
   "source": [
    "# Show coefficients of the logistic regression\n",
    "classifier_2.summary()"
   ]
  },
  {
   "cell_type": "code",
   "execution_count": null,
   "metadata": {},
   "outputs": [],
   "source": [
    "# The 'Embarked_Q' variable (Binary variable indicating whether or not the individual embarked the Titanic from the Queenstown port) has a high p-value revealing that the variable is not statistically significant in this model. Removing the Embarked_Q variable\n",
    "X_logistic = np.delete(X_logistic,6, axis = 1)"
   ]
  },
  {
   "cell_type": "code",
   "execution_count": null,
   "metadata": {},
   "outputs": [],
   "source": [
    "# Fit a logistic model to the data (with the 'TravelWChild' and 'Embarked_Q' variables removed)\n",
    "classifier_2 = sm.Logit(endog = y_logistic, exog = X_logistic).fit()"
   ]
  },
  {
   "cell_type": "code",
   "execution_count": null,
   "metadata": {},
   "outputs": [],
   "source": [
    "# Show coefficients of the logistic regression\n",
    "classifier_2.summary()"
   ]
  },
  {
   "cell_type": "code",
   "execution_count": null,
   "metadata": {},
   "outputs": [],
   "source": [
    "# The 'Embarked_S' variable (Binary variable indicating whether or not the individual embarked the Titanic from the Southhampton port) has a high p-value revealing that the variable is not statistically significant in this model. Removing the Embarked_S variable\n",
    "X_logistic = np.delete(X_logistic,6, axis = 1)"
   ]
  },
  {
   "cell_type": "code",
   "execution_count": null,
   "metadata": {},
   "outputs": [],
   "source": [
    "# Fit a logistic model to the data (with the 'Embarked_Q', 'Embarked_Q', and 'TravelWChild' variables removed)\n",
    "classifier_2 = sm.Logit(endog = y_logistic, exog = X_logistic).fit()"
   ]
  },
  {
   "cell_type": "code",
   "execution_count": null,
   "metadata": {},
   "outputs": [],
   "source": [
    "# Show coefficients of the logistic regression\n",
    "classifier_2.summary()"
   ]
  },
  {
   "cell_type": "code",
   "execution_count": null,
   "metadata": {},
   "outputs": [],
   "source": [
    "# The 'Pclass' variable (variable indicating whether a passenger is 1st, 2nd, or 3rd class) has a high p-value revealing that the variable is not statistically significant in this model. Removing the Pclass variable\n",
    "X_logistic = np.delete(X_logistic,1, axis = 1)"
   ]
  },
  {
   "cell_type": "code",
   "execution_count": null,
   "metadata": {},
   "outputs": [],
   "source": [
    "# Fit a logistic model to the data (with the 'Embarked_Q', 'Embarked_Q', and 'Pclass' variables removed)\n",
    "classifier_2 = sm.Logit(endog = y_logistic, exog = X_logistic).fit()"
   ]
  },
  {
   "cell_type": "code",
   "execution_count": null,
   "metadata": {},
   "outputs": [],
   "source": [
    "# Show coefficients of the logistic regression\n",
    "classifier_2.summary()"
   ]
  },
  {
   "cell_type": "code",
   "execution_count": null,
   "metadata": {},
   "outputs": [],
   "source": [
    "# The 'Ischild' variable (variable indicating whether a passenger is under the age of 16 or not) has a high p-value revealing that the variable is not statistically significant in this model. Removing the IsChild variable\n",
    "X_logistic = np.delete(X_logistic,3, axis = 1)"
   ]
  },
  {
   "cell_type": "code",
   "execution_count": null,
   "metadata": {},
   "outputs": [],
   "source": [
    "# Fit a logistic model to the data (with the 'Embarked_Q', 'Embarked_S', 'Pclass', and 'IsChild' variables removed)\n",
    "classifier_2 = sm.Logit(endog = y_logistic, exog = X_logistic).fit()"
   ]
  },
  {
   "cell_type": "code",
   "execution_count": null,
   "metadata": {},
   "outputs": [],
   "source": [
    "# Show coefficients of the logistic regression\n",
    "classifier_2.summary()"
   ]
  },
  {
   "cell_type": "markdown",
   "metadata": {},
   "source": [
    "I ran the logistic regression model the first time using the following independent variables:\n",
    "* 'Pclass': An ordinal variable indicating someone's passenger class using a rating of 1 (upper class), 2 (middle class), or 3 (lower class)\n",
    "* 'Fare': The price that the passenger paid to board the ship (note that this variable was standardized to have a mean of 0 and a standard deviation of ~1\n",
    "* 'WithFamily': A binary variable indicating whether or not the passenger was traveling with family. 1 means that she/he is traveling with at least one other family member and 0 means that she/he is traveling alone\n",
    "* 'Sex_male': A binary variable indicating whether or not the passenger is male. 1 indicates that she/he is male. 0 indicates that she/he is female\n",
    "* 'Embarked_Q': A binary variable indicating whether or not the passenger embarked from the Queenstown port. 1 indicates that she/he embarked the titanic from Queenstown. 0 indicates that she/he embarked from another port.\n",
    "* 'Embarked_S': A binary variable indicating whether or not the passenger embarked from the Southampton port. 1 indicates that she/he embarked the titanic from Southampton. 0 indicates that she/he embarked from another port.\n",
    "* 'ChildAdult_adult': A binary variable indicating whether or not the passenger is an adult (defined as 16 or over in this model). 1 indicates that the passenger is an adult. 0 indicates that the passenger is a child.\n",
    "\n",
    "The p-value for regression coefficients quantifies how confident we are that the independent variable impacts the depdendent variable. The smaller the p value, the stronger the evidence tha there is a relationship between the independent and dependent variables. I use a p-value threshold of 0.05 in this regression. \n",
    "\n",
    "In this regression, there isn't a good reason to keep insignificant variables in the model. So I drop the independent variable with the highest p-value of all the independent variables with p-values > 0.05 and rerun the model with the variable excluded. I repeat this process until only independent variables with p-values < 0.05 are included in the model. \n",
    "\n",
    "I am left with the following variables in the model:\n",
    "* 'Fare': The price that the passenger paid to board the ship (note that this variable was standardized to have a mean of 0 and a standard deviation of ~1\n",
    "* 'WithFamily': A binary variable indicating whether or not the passenger was traveling with family. 1 means that she/he is traveling with at least one other family member and 0 means that she/he is traveling alone\n",
    "* 'Sex_male': A binary variable indicating whether or not the passenger is male. 1 indicates that she/he is male. 0 indicates that she/he is female\n",
    "* 'ChildAdult_adult': A binary variable indicating whether or not the passenger is an adult (defined as 16 or over in this model). 1 indicates that the passenger is an adult. 0 indicates that the passenger is a child."
   ]
  },
  {
   "cell_type": "code",
   "execution_count": null,
   "metadata": {},
   "outputs": [],
   "source": [
    "X_train, X_test, y_train, y_test = train_test_split (X_logistic, y_logistic, test_size = 0.2, random_state = 0, stratify = y_logistic)"
   ]
  },
  {
   "cell_type": "code",
   "execution_count": null,
   "metadata": {},
   "outputs": [],
   "source": [
    "classifier = LogisticRegression(random_state = 0)\n",
    "classifier.fit(X_train, y_train)"
   ]
  },
  {
   "cell_type": "code",
   "execution_count": null,
   "metadata": {},
   "outputs": [],
   "source": [
    "y_pred = classifier.predict(X_test)"
   ]
  },
  {
   "cell_type": "code",
   "execution_count": null,
   "metadata": {},
   "outputs": [],
   "source": [
    "print(classification_report(y_test, y_pred))"
   ]
  },
  {
   "cell_type": "code",
   "execution_count": null,
   "metadata": {},
   "outputs": [],
   "source": [
    "cm = confusion_matrix(y_test, y_pred)"
   ]
  },
  {
   "cell_type": "code",
   "execution_count": null,
   "metadata": {},
   "outputs": [],
   "source": [
    "print(cm)\n",
    "print('---------------------------------------')\n",
    "print('Precision: ' + str(precision_score(y_test, y_pred)))\n",
    "print('Recall: ' + str(recall_score(y_test, y_pred)))\n",
    "print('F1 Score: ' + str(f1_score(y_test, y_pred)))"
   ]
  },
  {
   "cell_type": "code",
   "execution_count": null,
   "metadata": {},
   "outputs": [],
   "source": [
    "dec_tree_training = training_data_cleaned.copy()"
   ]
  },
  {
   "cell_type": "code",
   "execution_count": null,
   "metadata": {},
   "outputs": [],
   "source": [
    "dec_tree_training.head()"
   ]
  },
  {
   "cell_type": "code",
   "execution_count": null,
   "metadata": {},
   "outputs": [],
   "source": [
    "dec_tree_training.columns"
   ]
  },
  {
   "cell_type": "code",
   "execution_count": null,
   "metadata": {},
   "outputs": [],
   "source": [
    "dec_tree_training.drop(columns = ['Cabin','SibSp', 'Parch','Name', 'Ticket','Sex', 'ChildAdult','IsChild','WithFamily','TicketCount','NumberOfChildren', 'NumberOfFemales', 'Fare'], inplace = True)"
   ]
  },
  {
   "cell_type": "code",
   "execution_count": null,
   "metadata": {},
   "outputs": [],
   "source": [
    "dec_tree_training.columns"
   ]
  },
  {
   "cell_type": "code",
   "execution_count": null,
   "metadata": {},
   "outputs": [],
   "source": [
    "dec_tree_training = pd.get_dummies(dec_tree_training, columns = ['Embarked'], drop_first = True)"
   ]
  },
  {
   "cell_type": "code",
   "execution_count": null,
   "metadata": {},
   "outputs": [],
   "source": [
    "y = dec_tree_training.iloc[:,0].values\n",
    "X = dec_tree_training.iloc[:,1:].values"
   ]
  },
  {
   "cell_type": "code",
   "execution_count": null,
   "metadata": {},
   "outputs": [],
   "source": [
    "X_train, X_test, y_train, y_test = train_test_split (X, y, test_size = 0.2, random_state = 0, stratify = y)"
   ]
  },
  {
   "cell_type": "code",
   "execution_count": null,
   "metadata": {},
   "outputs": [],
   "source": [
    "tree_1 = DecisionTreeClassifier()\n",
    "tree_1 = tree_1.fit(X_train, y_train)\n",
    "y_pred = tree_1.predict(X_test)"
   ]
  },
  {
   "cell_type": "code",
   "execution_count": null,
   "metadata": {},
   "outputs": [],
   "source": [
    "cm = confusion_matrix(y_test, y_pred)"
   ]
  },
  {
   "cell_type": "code",
   "execution_count": null,
   "metadata": {},
   "outputs": [],
   "source": [
    "print(cm)\n",
    "print('---------------------------------------')\n",
    "print('Precision: ' + str(precision_score(y_test, y_pred)))\n",
    "print('Recall: ' + str(recall_score(y_test, y_pred)))\n",
    "print('F1 Score: ' + str(f1_score(y_test, y_pred)))"
   ]
  },
  {
   "cell_type": "code",
   "execution_count": null,
   "metadata": {},
   "outputs": [],
   "source": [
    "dec_tree_training.iloc[:,1:].columns"
   ]
  },
  {
   "cell_type": "code",
   "execution_count": null,
   "metadata": {},
   "outputs": [],
   "source": [
    "false_positive_rate, true_positive_rate, thresholds = roc_curve(y_test, y_pred)\n",
    "\n",
    "roc_auc = auc(false_positive_rate, true_positive_rate)\n",
    "\n",
    "roc_auc"
   ]
  },
  {
   "cell_type": "code",
   "execution_count": null,
   "metadata": {},
   "outputs": [],
   "source": [
    "plt.figure(figsize=(75,40))\n",
    "a = plot_tree(tree_1, \n",
    "              feature_names=dec_tree_training.iloc[:,1:].columns, \n",
    "              class_names={0:'Died',1:'Survived'},\n",
    "              filled=True, \n",
    "              rounded=True, \n",
    "              fontsize=14)"
   ]
  },
  {
   "cell_type": "markdown",
   "metadata": {},
   "source": [
    "The tree that results is unexplainable and not easy to understand.It's important to optimize this decision tree by pruning so that it doesn't overfit and is easier to understand. \n",
    "\n",
    "A few ways to optimize decision tree performance are adjusting the following metrics:\n",
    "* Criterion: The default is set to 'gini'. This parameter allows us to use different-different attribute selection measure. Supported criteria are 'gini' for the Gini Index and entropy for the information gain. Gini and entropy tend to perform similarly, but gini is less computationally intensive.\n",
    "* Splitter: The default is set to 'best'. This parameter allows us to choose the split strategy. Supported strategies are 'best' to choose the best split and 'random' to choose the best random split\n",
    "* max_depth: The default is set to 'None'. This defines the maximum depth of a tree. If None, the nodes are expanded until all the leaves contain less than min_samples_split samples. The higher value of maximum depth causes overfitting and a lower value causes underfitting. If not set to a limit, the decision tree will split until all leaves are pure or until all leaves contain less than the min_samples_split samples\n",
    "* min_samples_split: The default is set to two. Defines the minimum number of samples required to split an internal node. "
   ]
  },
  {
   "cell_type": "code",
   "execution_count": null,
   "metadata": {},
   "outputs": [],
   "source": []
  },
  {
   "cell_type": "code",
   "execution_count": null,
   "metadata": {},
   "outputs": [],
   "source": []
  },
  {
   "cell_type": "code",
   "execution_count": null,
   "metadata": {},
   "outputs": [],
   "source": []
  },
  {
   "cell_type": "code",
   "execution_count": null,
   "metadata": {},
   "outputs": [],
   "source": [
    "max_depths = list(range(1,41))\n",
    "min_samples_leaves = list(range(1,41))"
   ]
  },
  {
   "cell_type": "code",
   "execution_count": null,
   "metadata": {},
   "outputs": [],
   "source": [
    "# cv = 5 means five fold cross validation, n_jobs = -1 enables it to use all available processors, will run all combinations and permutations of max_depths from 1 to 40 and min_samples_leaves from 1 to 40"
   ]
  },
  {
   "cell_type": "code",
   "execution_count": null,
   "metadata": {},
   "outputs": [],
   "source": [
    "grid_decision_tree = GridSearchCV(DecisionTreeClassifier(),{'max_depth': max_depths, 'min_samples_leaf': min_samples_leaves}, cv = 5,scoring = 'roc_auc', n_jobs = -1)"
   ]
  },
  {
   "cell_type": "code",
   "execution_count": null,
   "metadata": {},
   "outputs": [],
   "source": [
    "grid_decision_tree.fit(X, y)"
   ]
  },
  {
   "cell_type": "code",
   "execution_count": null,
   "metadata": {},
   "outputs": [],
   "source": [
    "grid_decision_tree.best_score_"
   ]
  },
  {
   "cell_type": "code",
   "execution_count": null,
   "metadata": {},
   "outputs": [],
   "source": [
    "grid_decision_tree.best_params_"
   ]
  },
  {
   "cell_type": "code",
   "execution_count": null,
   "metadata": {},
   "outputs": [],
   "source": [
    "grid_decision_tree.best_params_['max_depth']"
   ]
  },
  {
   "cell_type": "code",
   "execution_count": null,
   "metadata": {},
   "outputs": [],
   "source": [
    "pd.DataFrame(grid_decision_tree.cv_results_).sort_values(by = ['mean_test_score'], ascending = False)"
   ]
  },
  {
   "cell_type": "code",
   "execution_count": null,
   "metadata": {},
   "outputs": [],
   "source": [
    "tree_2 = DecisionTreeClassifier(max_depth = grid_decision_tree.best_params_['max_depth'], min_samples_leaf = grid_decision_tree.best_params_['min_samples_leaf'])\n",
    "tree_2 = tree_2.fit(X_train, y_train)\n",
    "y_pred = tree_2.predict(X_test)"
   ]
  },
  {
   "cell_type": "code",
   "execution_count": null,
   "metadata": {},
   "outputs": [],
   "source": [
    "cm = confusion_matrix(y_test, y_pred)"
   ]
  },
  {
   "cell_type": "code",
   "execution_count": null,
   "metadata": {
    "scrolled": true
   },
   "outputs": [],
   "source": [
    "print(cm)\n",
    "print('---------------------------------------')\n",
    "print('Precision: ' + str(precision_score(y_test, y_pred)))\n",
    "print('Recall: ' + str(recall_score(y_test, y_pred)))\n",
    "print('F1 Score: ' + str(f1_score(y_test, y_pred)))"
   ]
  },
  {
   "cell_type": "code",
   "execution_count": null,
   "metadata": {},
   "outputs": [],
   "source": [
    "plt.figure(figsize=(50,20))\n",
    "a = plot_tree(tree_2, \n",
    "              feature_names=dec_tree_training.iloc[:,1:].columns, \n",
    "              class_names={0:'Died',1:'Survived'},\n",
    "              filled=True, \n",
    "              rounded=True, \n",
    "              fontsize=14)\n",
    "plt.savefig('02-images/decision_tree_2.pdf')"
   ]
  },
  {
   "cell_type": "markdown",
   "metadata": {},
   "source": [
    "Decision trees often suffer from high variance. This means that if we split training data into two parts at random and fit a decision tree to both halves, the results that we get could be quite different.\n",
    "\n",
    "Random forests builds a number of decision trees. When building these decision trees, each time a split in a tree is considered, a random sample of m predictors is chosen as split candidates from the full set of p predictors. A fresh sample of m predictors is taken at each split. The number of predictors considered at each split is approximately equal to the square root of the total number of predictors. The split is only allowed to use one of those m predictors. Random forests force each split to consider only a subset of the predictors.\n",
    "\n",
    "The rationale for why random forests function this way is that it prevents the bagged decision trees used in a random forest from being highly correlated to each other. For example, if the dataset being used has one very strong predictor then most or all of the trees will use this strong predictor in the top split. Consequently, all of the bagged trees will look very similar to each other. The downside of having many similar predictors is that when they're averaged, it does not lead to as large a variance reduction as it would if it were averaging many uncorrelated predictors."
   ]
  },
  {
   "cell_type": "code",
   "execution_count": null,
   "metadata": {},
   "outputs": [],
   "source": [
    "rndm_frst_training = training_data_cleaned.copy()"
   ]
  },
  {
   "cell_type": "code",
   "execution_count": null,
   "metadata": {},
   "outputs": [],
   "source": [
    "rndm_frst_training.drop(columns = ['Cabin','SibSp', 'Parch', 'WithFamily','Name', 'Ticket','Sex', 'ChildAdult','TicketCount','NumberOfChildren', 'NumberOfFemales', 'Fare', 'IsChild'], inplace = True)"
   ]
  },
  {
   "cell_type": "code",
   "execution_count": null,
   "metadata": {},
   "outputs": [],
   "source": [
    "rndm_frst_training.columns"
   ]
  },
  {
   "cell_type": "code",
   "execution_count": null,
   "metadata": {},
   "outputs": [],
   "source": [
    "rndm_frst_training = pd.get_dummies(rndm_frst_training, columns = ['Embarked'], drop_first = True)"
   ]
  },
  {
   "cell_type": "code",
   "execution_count": null,
   "metadata": {},
   "outputs": [],
   "source": [
    "rndm_frst_training.head()"
   ]
  },
  {
   "cell_type": "code",
   "execution_count": null,
   "metadata": {},
   "outputs": [],
   "source": [
    "y = rndm_frst_training.iloc[:,0].values\n",
    "X = rndm_frst_training.iloc[:,1:].values"
   ]
  },
  {
   "cell_type": "code",
   "execution_count": null,
   "metadata": {},
   "outputs": [],
   "source": [
    "n_estimators = list(range(1,126))\n",
    "max_depths = list(range(1,34))\n",
    "min_samples_splits = list(range(1,34))\n",
    "min_samples_leaves = list(range(1,34))"
   ]
  },
  {
   "cell_type": "code",
   "execution_count": null,
   "metadata": {},
   "outputs": [],
   "source": [
    "grid_random_forest = RandomizedSearchCV(RandomForestClassifier(),{'n_estimators':n_estimators, 'max_depth': max_depths, 'min_samples_leaf': min_samples_leaves, 'min_samples_split': min_samples_splits}, cv = 5,scoring = 'roc_auc', n_iter = 25, n_jobs = -1, random_state = 0)"
   ]
  },
  {
   "cell_type": "code",
   "execution_count": null,
   "metadata": {},
   "outputs": [],
   "source": [
    "grid_random_forest.fit(X, y)"
   ]
  },
  {
   "cell_type": "code",
   "execution_count": null,
   "metadata": {},
   "outputs": [],
   "source": [
    "grid_random_forest.best_score_"
   ]
  },
  {
   "cell_type": "code",
   "execution_count": null,
   "metadata": {},
   "outputs": [],
   "source": [
    "grid_random_forest.best_params_"
   ]
  },
  {
   "cell_type": "code",
   "execution_count": null,
   "metadata": {},
   "outputs": [],
   "source": [
    "grid_random_forest.best_params_['n_estimators']"
   ]
  },
  {
   "cell_type": "code",
   "execution_count": null,
   "metadata": {},
   "outputs": [],
   "source": [
    "grid_random_forest.best_params_['max_depth']"
   ]
  },
  {
   "cell_type": "code",
   "execution_count": null,
   "metadata": {},
   "outputs": [],
   "source": [
    "grid_random_forest.best_params_['min_samples_leaf']"
   ]
  },
  {
   "cell_type": "code",
   "execution_count": null,
   "metadata": {},
   "outputs": [],
   "source": [
    "grid_random_forest.best_params_['min_samples_split']"
   ]
  },
  {
   "cell_type": "code",
   "execution_count": null,
   "metadata": {},
   "outputs": [],
   "source": [
    "pd.DataFrame(grid_random_forest.cv_results_).sort_values(by = ['mean_test_score'], ascending = False)"
   ]
  },
  {
   "cell_type": "code",
   "execution_count": null,
   "metadata": {},
   "outputs": [],
   "source": []
  },
  {
   "cell_type": "code",
   "execution_count": null,
   "metadata": {},
   "outputs": [],
   "source": [
    "scores_logistic_regression = cross_validate(classifier, X_logistic, y_logistic, cv = 5, scoring = ['precision', 'recall', 'f1', 'roc_auc'])"
   ]
  },
  {
   "cell_type": "code",
   "execution_count": null,
   "metadata": {},
   "outputs": [],
   "source": [
    "print('Logistic Regression Test Results')\n",
    "print('precision score: ' + str(scores_logistic_regression['test_precision'].mean()))\n",
    "print('recall score: ' + str(scores_logistic_regression['test_recall'].mean()))\n",
    "print('f1 score: ' + str(scores_logistic_regression['test_f1'].mean()))\n",
    "print('AUC Score: '+ str(scores_logistic_regression['test_roc_auc'].mean()))"
   ]
  },
  {
   "cell_type": "code",
   "execution_count": null,
   "metadata": {},
   "outputs": [],
   "source": []
  },
  {
   "cell_type": "code",
   "execution_count": null,
   "metadata": {},
   "outputs": [],
   "source": []
  },
  {
   "cell_type": "code",
   "execution_count": null,
   "metadata": {},
   "outputs": [],
   "source": []
  },
  {
   "cell_type": "code",
   "execution_count": null,
   "metadata": {},
   "outputs": [],
   "source": [
    "scores_decision_tree = cross_validate(tree_2, X, y, cv = 5, scoring = ['precision', 'recall', 'f1', 'roc_auc'])"
   ]
  },
  {
   "cell_type": "code",
   "execution_count": null,
   "metadata": {},
   "outputs": [],
   "source": [
    "print('Decision Tree Test Results')\n",
    "print('precision score: ' + str(scores_decision_tree['test_precision'].mean()))\n",
    "print('recall score: ' + str(scores_decision_tree['test_recall'].mean()))\n",
    "print('f1 score: ' + str(scores_decision_tree['test_f1'].mean()))\n",
    "print('AUC Score: '+ str(scores_decision_tree['test_roc_auc'].mean()))"
   ]
  },
  {
   "cell_type": "code",
   "execution_count": null,
   "metadata": {},
   "outputs": [],
   "source": []
  },
  {
   "cell_type": "code",
   "execution_count": null,
   "metadata": {},
   "outputs": [],
   "source": [
    "forrest_1 = RandomForestClassifier(random_state = 0, max_features = 3, n_estimators = grid_random_forest.best_params_['n_estimators'], max_depth = grid_random_forest.best_params_['max_depth'], min_samples_leaf = grid_random_forest.best_params_['min_samples_leaf'], min_samples_split = grid_random_forest.best_params_['min_samples_split'])"
   ]
  },
  {
   "cell_type": "code",
   "execution_count": null,
   "metadata": {},
   "outputs": [],
   "source": [
    "scores_random_forest = cross_validate(forrest_1, X, y, cv = 5, scoring = ['precision', 'recall', 'f1', 'roc_auc'])"
   ]
  },
  {
   "cell_type": "code",
   "execution_count": null,
   "metadata": {},
   "outputs": [],
   "source": [
    "print(scores_random_forest)"
   ]
  },
  {
   "cell_type": "code",
   "execution_count": null,
   "metadata": {},
   "outputs": [],
   "source": [
    "print('Random Forest Test Results')\n",
    "print('precision score: ' + str(scores_random_forest['test_precision'].mean()))\n",
    "print('recall score: ' + str(scores_random_forest['test_recall'].mean()))\n",
    "print('f1 score: ' + str(scores_random_forest['test_f1'].mean()))\n",
    "print('AUC Score: '+ str(scores_random_forest['test_roc_auc'].mean()))"
   ]
  },
  {
   "cell_type": "code",
   "execution_count": null,
   "metadata": {},
   "outputs": [],
   "source": []
  },
  {
   "cell_type": "code",
   "execution_count": null,
   "metadata": {},
   "outputs": [],
   "source": []
  },
  {
   "cell_type": "code",
   "execution_count": null,
   "metadata": {},
   "outputs": [],
   "source": []
  }
 ],
 "metadata": {
  "kernelspec": {
   "display_name": "Python 3",
   "language": "python",
   "name": "python3"
  },
  "language_info": {
   "codemirror_mode": {
    "name": "ipython",
    "version": 3
   },
   "file_extension": ".py",
   "mimetype": "text/x-python",
   "name": "python",
   "nbconvert_exporter": "python",
   "pygments_lexer": "ipython3",
   "version": "3.7.0"
  }
 },
 "nbformat": 4,
 "nbformat_minor": 2
}
